{
 "cells": [
  {
   "cell_type": "markdown",
   "metadata": {
    "tags": [
     "header"
    ]
   },
   "source": [
    "# STA 141B WQ 25 Homework Assignment 2\n",
    "\n",
    "## Instructions\n",
    "\n",
    "- Complete the exercises below. Create more code chunks if necessary. Answer all questions. Show results for both the *test* and *run* cases.\n",
    "- Export the Jupyter Notebook as an PDF file.\n",
    "- Submit the PDF by **Sunday, February 9, at 11:59 PM PT** to Gradescope.\n",
    "- For each exercise, indicate the region of your answer in the PDF to facilitate grading. \n",
    "\n",
    "## Additional information\n",
    "\n",
    "- Complete this worksheet yourself. \n",
    "- You may use the internet or discuss possible approaches to solve the problems with other students. You are not allowed to share your code or your answers with other students.\n",
    "- No other libraries than those explicitly allowed can be used. \n",
    "- Use code cells for your Python scripts and Markdown cells for explanatory text or answers to non-coding questions. Answer all textual questions in complete sentences.\n",
    "- Late homework submissions will not be accepted. No submissions will be accepted by email.\n",
    "- The total number of points for this assignment is 20."
   ]
  },
  {
   "cell_type": "markdown",
   "metadata": {},
   "source": [
    "__Exercise 1__\n",
    "\n",
    "In this assignment, you'll use SQL queries to explore data in Lahman's Baseball Database, which contains \"complete batting and pitching statistics from 1871 to 2020, plus fielding statistics, standings, team stats, managerial records, post-season data, and more.\"\n",
    "\n",
    "We use the 2019 version for this homework. You can find the database in SQLite format on Piazza.\n",
    "\n",
    "Documentation for the database, including a description of all tables, is in the `readme2019.txt` file. "
   ]
  },
  {
   "cell_type": "markdown",
   "metadata": {},
   "source": [
    "__(a)__ From 1990 to 1999, which team had the highest payroll? Payroll means the sum of the salaries for all people on the team in a given year. Return a `pandas.DataFrame` with column names `year`, `payroll` and `team`, which is the team name. \n",
    "\n",
    "__Test:__\n",
    "\n",
    "```\n",
    "    year\tpayroll\t\tteam\n",
    "\t2000\t92338260.0\t New York Yankees\n",
    "\t2001\t112287143.0\tNew York Yankees\n",
    "\t2002\t125928583.0\tNew York Yankees\n",
    "\t2003\t152749814.0\tNew York Yankees\n",
    "```"
   ]
  },
  {
   "cell_type": "markdown",
   "metadata": {},
   "source": [
    "__(b, i)__ For each year between 1990 and 1999, identify the player with the highest salary. \n",
    "\n",
    "__Test:__ \n",
    "\n",
    "```\n",
    "\t year    name\t\t salary\n",
    " \t2000\tBrown\t\t15714286.0\n",
    " \t2001\tRodriguez\t22000000.0\n",
    " \t2002\tRodriguez\t22000000.0\n",
    " \t2003\tRodriguez\t22000000.0\n",
    " \t2004\tRamirez\t  22500000.0\n",
    "```"
   ]
  },
  {
   "cell_type": "markdown",
   "metadata": {},
   "source": [
    "__(b, ii)__ For these players, obtain their log-salary over their entire career. _Print the length of the data set of their career log-salaries_. \n",
    "\n",
    "__Test:__ For example, the career salary for for Kevin Brown, the player with the largest salary in 2000, is given by: \n",
    "\n",
    "```\n",
    "\tyear\tname\t salary\n",
    "\t1989\tBrown\t72500.0\n",
    "\t1990\tBrown\t218000.0\n",
    "\t1991\tBrown\t355000.0\n",
    "\t1992\tBrown\t1200000.0\n",
    "\t1993\tBrown\t2800000.0\n",
    "\t1994\tBrown\t4225000.0\n",
    "\t1995\tBrown\t4225000.0\n",
    "\t1996\tBrown\t3350000.0\n",
    "\t1997\tBrown\t4510000.0\n",
    "\t1998\tBrown\t4935000.0\n",
    "\t1999\tBrown\t10714286.0\n",
    "\t2000\tBrown\t15714286.0\n",
    "\t2001\tBrown\t15714286.0\n",
    "\t2002\tBrown\t15714286.0\n",
    "\t2003\tBrown\t15714286.0\n",
    "\t2004\tBrown\t15714286.0\n",
    "\t2005\tBrown\t15714286.0\n",
    "```\n",
    "\n",
    "The length of the data frame returned for the career salaries of the best-paid players in 2000-2004 is given as \n",
    "\n",
    "```\n",
    "> data = pd.read_sql(\"...\")\n",
    "> data.shape[0]\n",
    "58\n",
    "```"
   ]
  },
  {
   "cell_type": "markdown",
   "metadata": {},
   "source": [
    "__(b, iii)__ Plot the career salaries over time, colored by player. Add a scatter point for the year each player had the largest salary. \n",
    "\n",
    "__Test:__\n",
    "<img src=\"./source/test.png\" alt=\"drawing\" width=\"500\"/>"
   ]
  },
  {
   "cell_type": "markdown",
   "metadata": {
    "tags": [
     "exercise"
    ]
   },
   "source": [
    "__Exercise 2__\n",
    "\n",
    "We will use the [lichess](https://lichess.org/api) API to retrieve some information about the current state of chess in the world. In order to answer below questions, make precise and economical requests. You may use:\n",
    "\n",
    "```\n",
    "import requests\n",
    "import json import loads\n",
    "import pandas\n",
    "\n",
    "from datetime import datetime\n",
    "```"
   ]
  },
  {
   "cell_type": "markdown",
   "metadata": {
    "tags": [
     "exercise"
    ]
   },
   "source": [
    "__(a)__ What is the real name of the player `muisback`? "
   ]
  },
  {
   "cell_type": "code",
   "execution_count": 2,
   "metadata": {},
   "outputs": [],
   "source": [
    "import requests\n",
    "import json\n",
    "from datetime import datetime"
   ]
  },
  {
   "cell_type": "code",
   "execution_count": 3,
   "metadata": {},
   "outputs": [],
   "source": [
    "website = 'https://lichess.org'\n",
    "\n",
    "username = 'muisback'\n",
    "apiPath = f'/api/user/{username}'\n",
    "\n",
    "url = f\"{website}{apiPath}\"\n",
    "response = requests.get(url)\n",
    "res_json = response.json()"
   ]
  },
  {
   "cell_type": "code",
   "execution_count": 4,
   "metadata": {},
   "outputs": [
    {
     "data": {
      "text/plain": [
       "'Real Name: Rauf Mamedov'"
      ]
     },
     "execution_count": 4,
     "metadata": {},
     "output_type": "execute_result"
    }
   ],
   "source": [
    "'Real Name: ' + res_json['profile']['realName']"
   ]
  },
  {
   "cell_type": "code",
   "execution_count": 5,
   "metadata": {},
   "outputs": [
    {
     "data": {
      "text/plain": [
       "1580238632291"
      ]
     },
     "execution_count": 5,
     "metadata": {},
     "output_type": "execute_result"
    }
   ],
   "source": [
    "res_json['createdAt']"
   ]
  },
  {
   "cell_type": "code",
   "execution_count": 6,
   "metadata": {},
   "outputs": [
    {
     "data": {
      "text/plain": [
       "'Created At: 2020-01-28 11:10:32.291000'"
      ]
     },
     "execution_count": 6,
     "metadata": {},
     "output_type": "execute_result"
    }
   ],
   "source": [
    "f'Created At: {datetime.fromtimestamp(res_json['createdAt'] / 1000)}'"
   ]
  },
  {
   "cell_type": "markdown",
   "metadata": {},
   "source": [
    "__(b, i)__ Get the username of the last player that played a rapid game against user `athena-pallada` in 2023. __(ii)__ In all games against this user, what is the win-to-loss ratio of `athena-pallada`?\n",
    "\n",
    "*Hints: For (i), use [this](https://www.epochconverter.com/) to obtain your epoch time. Bor both (i) and (ii): What kind of data type to you accept in your header? For (iii): Why can't the JSON be converted to a dict? Inspect the string to find the cause of the error. Use string methods to fix the problem.*"
   ]
  },
  {
   "cell_type": "code",
   "execution_count": 7,
   "metadata": {},
   "outputs": [
    {
     "data": {
      "text/plain": [
       "200"
      ]
     },
     "execution_count": 7,
     "metadata": {},
     "output_type": "execute_result"
    }
   ],
   "source": [
    "# i\n",
    "website = 'https://lichess.org'\n",
    "username = 'athena-pallada'\n",
    "apiPath = f'/api/games/user/{username}'\n",
    "\n",
    "queryParams = {\n",
    "  'perfType': 'rapid',\n",
    "  'since': int(datetime(2023, 1, 1).timestamp() * 1000),\n",
    "  'until': int(datetime(2023, 12, 31).timestamp() * 1000),\n",
    "  'sort': 'dateDesc',\n",
    "  'max': 1,\n",
    "}\n",
    "\n",
    "headers = {\n",
    "  \"Accept\": \"application/x-ndjson\"\n",
    "}\n",
    "\n",
    "url = f'{website}{apiPath}?{'&'.join(f'{key}={value}' for key, value in queryParams.items())}'\n",
    "\n",
    "response = requests.get(url, headers=headers)\n",
    "response.status_code"
   ]
  },
  {
   "cell_type": "code",
   "execution_count": 8,
   "metadata": {},
   "outputs": [],
   "source": [
    "res_json = response.json()"
   ]
  },
  {
   "cell_type": "code",
   "execution_count": 9,
   "metadata": {},
   "outputs": [],
   "source": [
    "players = res_json['players']"
   ]
  },
  {
   "cell_type": "code",
   "execution_count": 10,
   "metadata": {},
   "outputs": [
    {
     "name": "stdout",
     "output_type": "stream",
     "text": [
      "{\n",
      "  \"white\": {\n",
      "    \"user\": {\n",
      "      \"name\": \"athena-pallada\",\n",
      "      \"title\": \"GM\",\n",
      "      \"flair\": \"nature.fire\",\n",
      "      \"id\": \"athena-pallada\"\n",
      "    },\n",
      "    \"rating\": 2837\n",
      "  },\n",
      "  \"black\": {\n",
      "    \"user\": {\n",
      "      \"name\": \"Debilych\",\n",
      "      \"flair\": \"activity.performing-arts\",\n",
      "      \"id\": \"debilych\"\n",
      "    },\n",
      "    \"rating\": 1500,\n",
      "    \"provisional\": true\n",
      "  }\n",
      "}\n"
     ]
    }
   ],
   "source": [
    "print(json.dumps(players, indent=2)) # the last player that played against athena-pallada is debilych"
   ]
  },
  {
   "cell_type": "code",
   "execution_count": 7,
   "metadata": {},
   "outputs": [
    {
     "data": {
      "text/plain": [
       "200"
      ]
     },
     "execution_count": 7,
     "metadata": {},
     "output_type": "execute_result"
    }
   ],
   "source": [
    "# ii\n",
    "website = 'https://lichess.org'\n",
    "username = 'athena-pallada'\n",
    "apiPath = f'/api/games/user/{username}'\n",
    "\n",
    "queryParams = {\n",
    "  'vs': 'debilych',\n",
    "}\n",
    "\n",
    "url = f'{website}{apiPath}?{'&'.join(f'{key}={value}' for key, value in queryParams.items())}'\n",
    "\n",
    "headers = {\n",
    "  \"Accept\": \"application/x-ndjson\"\n",
    "}\n",
    "\n",
    "response = requests.get(url, headers=headers)\n",
    "response.status_code"
   ]
  },
  {
   "cell_type": "code",
   "execution_count": 8,
   "metadata": {},
   "outputs": [],
   "source": [
    "res_json = [json.loads(json_str) for json_str in response.text.strip().split('\\n')]"
   ]
  },
  {
   "cell_type": "code",
   "execution_count": 9,
   "metadata": {},
   "outputs": [
    {
     "data": {
      "text/plain": [
       "[{'id': 'RZN3Y8nt',\n",
       "  'rated': False,\n",
       "  'variant': 'standard',\n",
       "  'speed': 'rapid',\n",
       "  'perf': 'rapid',\n",
       "  'createdAt': 1701020082614,\n",
       "  'lastMoveAt': 1701020175436,\n",
       "  'status': 'outoftime',\n",
       "  'source': 'simul',\n",
       "  'players': {'white': {'user': {'name': 'athena-pallada',\n",
       "     'title': 'GM',\n",
       "     'flair': 'nature.fire',\n",
       "     'id': 'athena-pallada'},\n",
       "    'rating': 2837},\n",
       "   'black': {'user': {'name': 'Debilych',\n",
       "     'flair': 'activity.performing-arts',\n",
       "     'id': 'debilych'},\n",
       "    'rating': 1500,\n",
       "    'provisional': True}},\n",
       "  'winner': 'white',\n",
       "  'moves': 'b3',\n",
       "  'clock': {'initial': 900, 'increment': 0, 'totalTime': 900}},\n",
       " {'id': 'ocN7AmdZ',\n",
       "  'rated': False,\n",
       "  'variant': 'standard',\n",
       "  'speed': 'rapid',\n",
       "  'perf': 'rapid',\n",
       "  'createdAt': 1701018914984,\n",
       "  'lastMoveAt': 1701023147011,\n",
       "  'status': 'resign',\n",
       "  'source': 'simul',\n",
       "  'players': {'white': {'user': {'name': 'athena-pallada',\n",
       "     'title': 'GM',\n",
       "     'flair': 'nature.fire',\n",
       "     'id': 'athena-pallada'},\n",
       "    'rating': 2837},\n",
       "   'black': {'user': {'name': 'Debilych',\n",
       "     'flair': 'activity.performing-arts',\n",
       "     'id': 'debilych'},\n",
       "    'rating': 1500,\n",
       "    'provisional': True}},\n",
       "  'winner': 'black',\n",
       "  'moves': 'b3 Nf6 Bb2 e6 g3 d5 Bg2 Be7 Nf3 O-O O-O c5 e3 Nc6 c4 d4 exd4 cxd4 d3 e5 Re1 Qc7 a3 a5 Nbd2 Re8 Qc2 Bc5 Ng5 b6 Nde4 Nxe4 Nxe4 Bf5 Re2 Bg4 Rae1 Bxe2 Rxe2 Rad8 g4 Bf8',\n",
       "  'clock': {'initial': 900, 'increment': 0, 'totalTime': 900}}]"
      ]
     },
     "execution_count": 9,
     "metadata": {},
     "output_type": "execute_result"
    }
   ],
   "source": [
    "res_json"
   ]
  },
  {
   "cell_type": "code",
   "execution_count": 10,
   "metadata": {},
   "outputs": [],
   "source": [
    "def did_win(player_id, game):\n",
    "  is_white = game['players']['white']['user']['id'] == player_id\n",
    "  winner_is_white = game['winner'] == 'white'\n",
    "  return is_white and winner_is_white or not is_white and not winner_is_white\n",
    "\n",
    "did_win_games = [did_win(username, game) for game in res_json]"
   ]
  },
  {
   "cell_type": "code",
   "execution_count": 12,
   "metadata": {},
   "outputs": [
    {
     "data": {
      "text/plain": [
       "[True, False]"
      ]
     },
     "execution_count": 12,
     "metadata": {},
     "output_type": "execute_result"
    }
   ],
   "source": [
    "did_win_games"
   ]
  },
  {
   "cell_type": "code",
   "execution_count": 11,
   "metadata": {},
   "outputs": [
    {
     "data": {
      "text/plain": [
       "1.0"
      ]
     },
     "execution_count": 11,
     "metadata": {},
     "output_type": "execute_result"
    }
   ],
   "source": [
    "win_ratio = sum(did_win_games) / sum([not win for win in did_win_games])\n",
    "win_ratio"
   ]
  },
  {
   "cell_type": "markdown",
   "metadata": {
    "tags": [
     "exercise"
    ]
   },
   "source": [
    "__(c)__ I want to learn about the [December Arena Tournament](https://lichess.org/tournament/dec24lta). __(i)__ How many games have been played in total? __(ii)__ How many games have been played by the winner? __(iii)__ How many players played in the tournament? __(iv)__ Which players played exactly 22 games?"
   ]
  },
  {
   "cell_type": "code",
   "execution_count": null,
   "metadata": {},
   "outputs": [],
   "source": []
  },
  {
   "cell_type": "markdown",
   "metadata": {
    "tags": [
     "exerise"
    ]
   },
   "source": [
    "__(d, i)__ Obtain all rated and analyzed ultrabullet games that player `nihalsarin2004` played in December 2024. How many games do you find? __(ii)__ From each game, extract the information whether `nihalsarin2004` played black or white, which color won, whether he played against a player with a higher rating or not and what opening was played (ignore variations). What proportion of games did `nihalsarin2004` win? What proportion of games did he win as white? What percentage of opponents were stronger than `nihalsarin2004`? "
   ]
  }
 ],
 "metadata": {
  "celltoolbar": "Tags",
  "kernelspec": {
   "display_name": "sta141b",
   "language": "python",
   "name": "python3"
  },
  "language_info": {
   "codemirror_mode": {
    "name": "ipython",
    "version": 3
   },
   "file_extension": ".py",
   "mimetype": "text/x-python",
   "name": "python",
   "nbconvert_exporter": "python",
   "pygments_lexer": "ipython3",
   "version": "3.12.8"
  }
 },
 "nbformat": 4,
 "nbformat_minor": 4
}
