{
 "cells": [
  {
   "cell_type": "markdown",
   "metadata": {
    "tags": [
     "header"
    ]
   },
   "source": [
    "# STA 141B WQ 25 Homework Assignment 2\n",
    "\n",
    "## Instructions\n",
    "\n",
    "- Complete the exercises below. Create more code chunks if necessary. Answer all questions. Show results for both the *test* and *run* cases.\n",
    "- Export the Jupyter Notebook as an PDF file.\n",
    "- Submit the PDF by **Sunday, February 9, at 11:59 PM PT** to Gradescope.\n",
    "- For each exercise, indicate the region of your answer in the PDF to facilitate grading. \n",
    "\n",
    "## Additional information\n",
    "\n",
    "- Complete this worksheet yourself. \n",
    "- You may use the internet or discuss possible approaches to solve the problems with other students. You are not allowed to share your code or your answers with other students.\n",
    "- No other libraries than those explicitly allowed can be used. \n",
    "- Use code cells for your Python scripts and Markdown cells for explanatory text or answers to non-coding questions. Answer all textual questions in complete sentences.\n",
    "- Late homework submissions will not be accepted. No submissions will be accepted by email.\n",
    "- The total number of points for this assignment is 20."
   ]
  },
  {
   "cell_type": "markdown",
   "metadata": {},
   "source": [
    "__Exercise 1__\n",
    "\n",
    "In this assignment, you'll use SQL queries to explore data in Lahman's Baseball Database, which contains \"complete batting and pitching statistics from 1871 to 2020, plus fielding statistics, standings, team stats, managerial records, post-season data, and more.\"\n",
    "\n",
    "We use the 2019 version for this homework. You can find the database in SQLite format on Piazza.\n",
    "\n",
    "Documentation for the database, including a description of all tables, is in the `readme2019.txt` file. "
   ]
  },
  {
   "cell_type": "markdown",
   "metadata": {},
   "source": [
    "__(a)__ From 1990 to 1999, which team had the highest payroll? Payroll means the sum of the salaries for all people on the team in a given year. Return a `pandas.DataFrame` with column names `year`, `payroll` and `team`, which is the team name. \n",
    "\n",
    "__Test:__\n",
    "\n",
    "```\n",
    "    year\tpayroll\t\tteam\n",
    "\t2000\t92338260.0\t New York Yankees\n",
    "\t2001\t112287143.0\tNew York Yankees\n",
    "\t2002\t125928583.0\tNew York Yankees\n",
    "\t2003\t152749814.0\tNew York Yankees\n",
    "```"
   ]
  },
  {
   "cell_type": "code",
   "execution_count": 46,
   "metadata": {},
   "outputs": [],
   "source": [
    "import sqlite3\n",
    "import pandas as pd\n",
    "\n",
    "query = '''\n",
    "WITH Payrolls AS (\n",
    "    SELECT \n",
    "        s.yearID AS year, \n",
    "        SUM(s.salary) AS payroll, \n",
    "        t.name AS team\n",
    "    FROM Salaries s\n",
    "    JOIN Teams t ON s.teamID = t.teamID AND s.yearID = t.yearID\n",
    "    WHERE s.yearID BETWEEN 1990 AND 1999\n",
    "    GROUP BY s.yearID, t.name\n",
    "),\n",
    "Ranked AS (\n",
    "    SELECT *, \n",
    "           RANK() OVER (PARTITION BY year ORDER BY payroll DESC) AS rnk\n",
    "    FROM Payrolls\n",
    ")\n",
    "SELECT year, payroll, team \n",
    "FROM Ranked\n",
    "WHERE rnk = 1\n",
    "ORDER BY year;\n",
    "'''"
   ]
  },
  {
   "cell_type": "code",
   "execution_count": 47,
   "metadata": {},
   "outputs": [],
   "source": [
    "db_path = \"lahmansbaseballdb.sqlite\"\n",
    "conn = sqlite3.connect(db_path)\n",
    "\n",
    "df = pd.read_sql_query(query, conn)\n",
    "conn.close()"
   ]
  },
  {
   "cell_type": "code",
   "execution_count": 48,
   "metadata": {},
   "outputs": [
    {
     "data": {
      "text/html": [
       "<div>\n",
       "<style scoped>\n",
       "    .dataframe tbody tr th:only-of-type {\n",
       "        vertical-align: middle;\n",
       "    }\n",
       "\n",
       "    .dataframe tbody tr th {\n",
       "        vertical-align: top;\n",
       "    }\n",
       "\n",
       "    .dataframe thead th {\n",
       "        text-align: right;\n",
       "    }\n",
       "</style>\n",
       "<table border=\"1\" class=\"dataframe\">\n",
       "  <thead>\n",
       "    <tr style=\"text-align: right;\">\n",
       "      <th></th>\n",
       "      <th>year</th>\n",
       "      <th>payroll</th>\n",
       "      <th>team</th>\n",
       "    </tr>\n",
       "  </thead>\n",
       "  <tbody>\n",
       "    <tr>\n",
       "      <th>0</th>\n",
       "      <td>1990</td>\n",
       "      <td>23361084.0</td>\n",
       "      <td>Kansas City Royals</td>\n",
       "    </tr>\n",
       "    <tr>\n",
       "      <th>1</th>\n",
       "      <td>1991</td>\n",
       "      <td>36999167.0</td>\n",
       "      <td>Oakland Athletics</td>\n",
       "    </tr>\n",
       "    <tr>\n",
       "      <th>2</th>\n",
       "      <td>1992</td>\n",
       "      <td>44788666.0</td>\n",
       "      <td>Toronto Blue Jays</td>\n",
       "    </tr>\n",
       "    <tr>\n",
       "      <th>3</th>\n",
       "      <td>1993</td>\n",
       "      <td>47279166.0</td>\n",
       "      <td>Toronto Blue Jays</td>\n",
       "    </tr>\n",
       "    <tr>\n",
       "      <th>4</th>\n",
       "      <td>1994</td>\n",
       "      <td>49383513.0</td>\n",
       "      <td>Atlanta Braves</td>\n",
       "    </tr>\n",
       "    <tr>\n",
       "      <th>5</th>\n",
       "      <td>1995</td>\n",
       "      <td>50590000.0</td>\n",
       "      <td>Toronto Blue Jays</td>\n",
       "    </tr>\n",
       "    <tr>\n",
       "      <th>6</th>\n",
       "      <td>1996</td>\n",
       "      <td>54490315.0</td>\n",
       "      <td>Baltimore Orioles</td>\n",
       "    </tr>\n",
       "    <tr>\n",
       "      <th>7</th>\n",
       "      <td>1997</td>\n",
       "      <td>62241545.0</td>\n",
       "      <td>New York Yankees</td>\n",
       "    </tr>\n",
       "    <tr>\n",
       "      <th>8</th>\n",
       "      <td>1998</td>\n",
       "      <td>72355634.0</td>\n",
       "      <td>Baltimore Orioles</td>\n",
       "    </tr>\n",
       "    <tr>\n",
       "      <th>9</th>\n",
       "      <td>1999</td>\n",
       "      <td>86734359.0</td>\n",
       "      <td>New York Yankees</td>\n",
       "    </tr>\n",
       "  </tbody>\n",
       "</table>\n",
       "</div>"
      ],
      "text/plain": [
       "   year     payroll                team\n",
       "0  1990  23361084.0  Kansas City Royals\n",
       "1  1991  36999167.0   Oakland Athletics\n",
       "2  1992  44788666.0   Toronto Blue Jays\n",
       "3  1993  47279166.0   Toronto Blue Jays\n",
       "4  1994  49383513.0      Atlanta Braves\n",
       "5  1995  50590000.0   Toronto Blue Jays\n",
       "6  1996  54490315.0   Baltimore Orioles\n",
       "7  1997  62241545.0    New York Yankees\n",
       "8  1998  72355634.0   Baltimore Orioles\n",
       "9  1999  86734359.0    New York Yankees"
      ]
     },
     "execution_count": 48,
     "metadata": {},
     "output_type": "execute_result"
    }
   ],
   "source": [
    "df"
   ]
  },
  {
   "cell_type": "markdown",
   "metadata": {},
   "source": [
    "__(b, i)__ For each year between 1990 and 1999, identify the player with the highest salary. \n",
    "\n",
    "__Test:__ \n",
    "\n",
    "```\n",
    "\t year    name\t\t salary\n",
    " \t2000\tBrown\t\t15714286.0\n",
    " \t2001\tRodriguez\t22000000.0\n",
    " \t2002\tRodriguez\t22000000.0\n",
    " \t2003\tRodriguez\t22000000.0\n",
    " \t2004\tRamirez\t  22500000.0\n",
    "```"
   ]
  },
  {
   "cell_type": "code",
   "execution_count": 50,
   "metadata": {},
   "outputs": [],
   "source": [
    "query = '''\n",
    "WITH SalariesRanked AS (\n",
    "    SELECT \n",
    "        s.yearID AS year, \n",
    "        p.nameLast AS name, \n",
    "        s.salary AS salary, \n",
    "        RANK() OVER (PARTITION BY s.yearID ORDER BY s.salary DESC) AS rnk\n",
    "    FROM Salaries s\n",
    "    JOIN People p ON s.playerID = p.playerID\n",
    "    WHERE s.yearID BETWEEN 1990 AND 1999\n",
    ")\n",
    "SELECT year, name, salary\n",
    "FROM SalariesRanked\n",
    "WHERE rnk = 1\n",
    "ORDER BY year;\n",
    "'''"
   ]
  },
  {
   "cell_type": "code",
   "execution_count": null,
   "metadata": {},
   "outputs": [
    {
     "data": {
      "text/html": [
       "<div>\n",
       "<style scoped>\n",
       "    .dataframe tbody tr th:only-of-type {\n",
       "        vertical-align: middle;\n",
       "    }\n",
       "\n",
       "    .dataframe tbody tr th {\n",
       "        vertical-align: top;\n",
       "    }\n",
       "\n",
       "    .dataframe thead th {\n",
       "        text-align: right;\n",
       "    }\n",
       "</style>\n",
       "<table border=\"1\" class=\"dataframe\">\n",
       "  <thead>\n",
       "    <tr style=\"text-align: right;\">\n",
       "      <th></th>\n",
       "      <th>year</th>\n",
       "      <th>name</th>\n",
       "      <th>salary</th>\n",
       "    </tr>\n",
       "  </thead>\n",
       "  <tbody>\n",
       "    <tr>\n",
       "      <th>0</th>\n",
       "      <td>1990</td>\n",
       "      <td>Yount</td>\n",
       "      <td>3200000.0</td>\n",
       "    </tr>\n",
       "    <tr>\n",
       "      <th>1</th>\n",
       "      <td>1991</td>\n",
       "      <td>Strawberry</td>\n",
       "      <td>3800000.0</td>\n",
       "    </tr>\n",
       "    <tr>\n",
       "      <th>2</th>\n",
       "      <td>1992</td>\n",
       "      <td>Bonilla</td>\n",
       "      <td>6100000.0</td>\n",
       "    </tr>\n",
       "    <tr>\n",
       "      <th>3</th>\n",
       "      <td>1993</td>\n",
       "      <td>Bonilla</td>\n",
       "      <td>6200000.0</td>\n",
       "    </tr>\n",
       "    <tr>\n",
       "      <th>4</th>\n",
       "      <td>1994</td>\n",
       "      <td>Bonilla</td>\n",
       "      <td>6300000.0</td>\n",
       "    </tr>\n",
       "    <tr>\n",
       "      <th>5</th>\n",
       "      <td>1995</td>\n",
       "      <td>Fielder</td>\n",
       "      <td>9237500.0</td>\n",
       "    </tr>\n",
       "    <tr>\n",
       "      <th>6</th>\n",
       "      <td>1996</td>\n",
       "      <td>Fielder</td>\n",
       "      <td>9237500.0</td>\n",
       "    </tr>\n",
       "    <tr>\n",
       "      <th>7</th>\n",
       "      <td>1997</td>\n",
       "      <td>Belle</td>\n",
       "      <td>10000000.0</td>\n",
       "    </tr>\n",
       "    <tr>\n",
       "      <th>8</th>\n",
       "      <td>1998</td>\n",
       "      <td>Sheffield</td>\n",
       "      <td>14936667.0</td>\n",
       "    </tr>\n",
       "    <tr>\n",
       "      <th>9</th>\n",
       "      <td>1999</td>\n",
       "      <td>Belle</td>\n",
       "      <td>11949794.0</td>\n",
       "    </tr>\n",
       "  </tbody>\n",
       "</table>\n",
       "</div>"
      ],
      "text/plain": [
       "   year        name      salary\n",
       "0  1990       Yount   3200000.0\n",
       "1  1991  Strawberry   3800000.0\n",
       "2  1992     Bonilla   6100000.0\n",
       "3  1993     Bonilla   6200000.0\n",
       "4  1994     Bonilla   6300000.0\n",
       "5  1995     Fielder   9237500.0\n",
       "6  1996     Fielder   9237500.0\n",
       "7  1997       Belle  10000000.0\n",
       "8  1998   Sheffield  14936667.0\n",
       "9  1999       Belle  11949794.0"
      ]
     },
     "execution_count": 51,
     "metadata": {},
     "output_type": "execute_result"
    }
   ],
   "source": [
    "db_path = \"lahmansbaseballdb.sqlite\"\n",
    "conn = sqlite3.connect(db_path)\n",
    "\n",
    "df = pd.read_sql_query(query, conn)\n",
    "conn.close()\n",
    "\n",
    "df"
   ]
  },
  {
   "cell_type": "markdown",
   "metadata": {},
   "source": [
    "__(b, ii)__ For these players, obtain their log-salary over their entire career. _Print the length of the data set of their career log-salaries_. \n",
    "\n",
    "__Test:__ For example, the career salary for for Kevin Brown, the player with the largest salary in 2000, is given by: \n",
    "\n",
    "```\n",
    "\tyear\tname\t salary\n",
    "\t1989\tBrown\t72500.0\n",
    "\t1990\tBrown\t218000.0\n",
    "\t1991\tBrown\t355000.0\n",
    "\t1992\tBrown\t1200000.0\n",
    "\t1993\tBrown\t2800000.0\n",
    "\t1994\tBrown\t4225000.0\n",
    "\t1995\tBrown\t4225000.0\n",
    "\t1996\tBrown\t3350000.0\n",
    "\t1997\tBrown\t4510000.0\n",
    "\t1998\tBrown\t4935000.0\n",
    "\t1999\tBrown\t10714286.0\n",
    "\t2000\tBrown\t15714286.0\n",
    "\t2001\tBrown\t15714286.0\n",
    "\t2002\tBrown\t15714286.0\n",
    "\t2003\tBrown\t15714286.0\n",
    "\t2004\tBrown\t15714286.0\n",
    "\t2005\tBrown\t15714286.0\n",
    "```\n",
    "\n",
    "The length of the data frame returned for the career salaries of the best-paid players in 2000-2004 is given as \n",
    "\n",
    "```\n",
    "> data = pd.read_sql(\"...\")\n",
    "> data.shape[0]\n",
    "58\n",
    "```"
   ]
  },
  {
   "cell_type": "code",
   "execution_count": 52,
   "metadata": {},
   "outputs": [],
   "source": [
    "query = '''\n",
    "WITH TopPaidPlayers AS (\n",
    "    -- Get highest paid player per year from 1990-1999\n",
    "    SELECT \n",
    "        s.yearID AS year, \n",
    "        p.playerID, \n",
    "        p.nameLast AS name, \n",
    "        s.salary AS salary,\n",
    "        RANK() OVER (PARTITION BY s.yearID ORDER BY s.salary DESC) AS rnk\n",
    "    FROM Salaries s\n",
    "    JOIN People p ON s.playerID = p.playerID\n",
    "    WHERE s.yearID BETWEEN 1990 AND 1999\n",
    "),\n",
    "UniqueTopPlayers AS (\n",
    "    -- Select only the top-paid player per year\n",
    "    SELECT DISTINCT playerID, name FROM TopPaidPlayers WHERE rnk = 1\n",
    ")\n",
    "-- Get entire career salary history for these players\n",
    "SELECT s.yearID AS year, \n",
    "       p.nameLast AS name, \n",
    "       s.salary AS salary\n",
    "FROM Salaries s\n",
    "JOIN People p ON s.playerID = p.playerID\n",
    "JOIN UniqueTopPlayers u ON s.playerID = u.playerID\n",
    "ORDER BY p.nameLast, s.yearID;\n",
    "'''"
   ]
  },
  {
   "cell_type": "code",
   "execution_count": 90,
   "metadata": {},
   "outputs": [
    {
     "data": {
      "text/html": [
       "<div>\n",
       "<style scoped>\n",
       "    .dataframe tbody tr th:only-of-type {\n",
       "        vertical-align: middle;\n",
       "    }\n",
       "\n",
       "    .dataframe tbody tr th {\n",
       "        vertical-align: top;\n",
       "    }\n",
       "\n",
       "    .dataframe thead th {\n",
       "        text-align: right;\n",
       "    }\n",
       "</style>\n",
       "<table border=\"1\" class=\"dataframe\">\n",
       "  <thead>\n",
       "    <tr style=\"text-align: right;\">\n",
       "      <th></th>\n",
       "      <th>year</th>\n",
       "      <th>name</th>\n",
       "      <th>salary</th>\n",
       "    </tr>\n",
       "  </thead>\n",
       "  <tbody>\n",
       "    <tr>\n",
       "      <th>0</th>\n",
       "      <td>1985</td>\n",
       "      <td>Strawberry</td>\n",
       "      <td>516667.0</td>\n",
       "    </tr>\n",
       "    <tr>\n",
       "      <th>1</th>\n",
       "      <td>1985</td>\n",
       "      <td>Yount</td>\n",
       "      <td>1000000.0</td>\n",
       "    </tr>\n",
       "    <tr>\n",
       "      <th>2</th>\n",
       "      <td>1986</td>\n",
       "      <td>Bonilla</td>\n",
       "      <td>115000.0</td>\n",
       "    </tr>\n",
       "    <tr>\n",
       "      <th>3</th>\n",
       "      <td>1986</td>\n",
       "      <td>Strawberry</td>\n",
       "      <td>945000.0</td>\n",
       "    </tr>\n",
       "    <tr>\n",
       "      <th>4</th>\n",
       "      <td>1986</td>\n",
       "      <td>Yount</td>\n",
       "      <td>950000.0</td>\n",
       "    </tr>\n",
       "    <tr>\n",
       "      <th>...</th>\n",
       "      <td>...</td>\n",
       "      <td>...</td>\n",
       "      <td>...</td>\n",
       "    </tr>\n",
       "    <tr>\n",
       "      <th>81</th>\n",
       "      <td>2005</td>\n",
       "      <td>Sheffield</td>\n",
       "      <td>13000000.0</td>\n",
       "    </tr>\n",
       "    <tr>\n",
       "      <th>82</th>\n",
       "      <td>2006</td>\n",
       "      <td>Sheffield</td>\n",
       "      <td>10756171.0</td>\n",
       "    </tr>\n",
       "    <tr>\n",
       "      <th>83</th>\n",
       "      <td>2007</td>\n",
       "      <td>Sheffield</td>\n",
       "      <td>10916071.0</td>\n",
       "    </tr>\n",
       "    <tr>\n",
       "      <th>84</th>\n",
       "      <td>2008</td>\n",
       "      <td>Sheffield</td>\n",
       "      <td>13326306.0</td>\n",
       "    </tr>\n",
       "    <tr>\n",
       "      <th>85</th>\n",
       "      <td>2009</td>\n",
       "      <td>Sheffield</td>\n",
       "      <td>14000000.0</td>\n",
       "    </tr>\n",
       "  </tbody>\n",
       "</table>\n",
       "<p>86 rows × 3 columns</p>\n",
       "</div>"
      ],
      "text/plain": [
       "    year        name      salary\n",
       "0   1985  Strawberry    516667.0\n",
       "1   1985       Yount   1000000.0\n",
       "2   1986     Bonilla    115000.0\n",
       "3   1986  Strawberry    945000.0\n",
       "4   1986       Yount    950000.0\n",
       "..   ...         ...         ...\n",
       "81  2005   Sheffield  13000000.0\n",
       "82  2006   Sheffield  10756171.0\n",
       "83  2007   Sheffield  10916071.0\n",
       "84  2008   Sheffield  13326306.0\n",
       "85  2009   Sheffield  14000000.0\n",
       "\n",
       "[86 rows x 3 columns]"
      ]
     },
     "execution_count": 90,
     "metadata": {},
     "output_type": "execute_result"
    }
   ],
   "source": [
    "db_path = \"lahmansbaseballdb.sqlite\"\n",
    "conn = sqlite3.connect(db_path)\n",
    "\n",
    "df = pd.read_sql_query(query, conn)\n",
    "conn.close()\n",
    "\n",
    "df = df.groupby(['year', 'name'], as_index=False).mean()\n",
    "df"
   ]
  },
  {
   "cell_type": "markdown",
   "metadata": {},
   "source": [
    "__(b, iii)__ Plot the career salaries over time, colored by player. Add a scatter point for the year each player had the largest salary. \n",
    "\n",
    "__Test:__\n",
    "<img src=\"./source/test.png\" alt=\"drawing\" width=\"500\"/>"
   ]
  },
  {
   "cell_type": "code",
   "execution_count": 91,
   "metadata": {},
   "outputs": [
    {
     "data": {
      "image/png": "[encoded data removed]",
      "text/plain": [
       "<Figure size 1200x600 with 1 Axes>"
      ]
     },
     "metadata": {},
     "output_type": "display_data"
    }
   ],
   "source": [
    "import matplotlib.pyplot as plt\n",
    "import seaborn as sns\n",
    "\n",
    "# Find the year each player had their highest salary\n",
    "peak_salaries = df.loc[df.groupby(\"name\")[\"salary\"].idxmax()]\n",
    "\n",
    "# Set up the plot\n",
    "plt.figure(figsize=(12, 6))\n",
    "sns.set_style(\"whitegrid\")\n",
    "\n",
    "# Line plot of salaries over time, colored by player\n",
    "sns.lineplot(data=df, x=\"year\", y=\"salary\", hue=\"name\", marker=\"o\", palette=\"tab10\")\n",
    "\n",
    "# Scatter plot for peak salary points\n",
    "plt.scatter(peak_salaries[\"year\"], peak_salaries[\"salary\"], color=\"black\", edgecolors=\"red\", s=100, label=\"Peak Salary\")\n",
    "\n",
    "# Labels and title\n",
    "plt.xlabel(\"Year\")\n",
    "plt.ylabel(\"Salary\")\n",
    "plt.title(\"Career Salaries of Highest Paid Players (1990-1999)\")\n",
    "plt.legend(title=\"Player\", bbox_to_anchor=(1.05, 1), loc=\"upper left\")\n",
    "\n",
    "# Set y-axis limits from 0 to the highest salary\n",
    "plt.ylim(0, df[\"salary\"].max() + 1000000)\n",
    "\n",
    "# Disable scientific notation on y-axis\n",
    "plt.ticklabel_format(style=\"plain\", axis=\"y\")\n",
    "\n",
    "# Show the plot\n",
    "plt.show()\n"
   ]
  },
  {
   "cell_type": "markdown",
   "metadata": {
    "tags": [
     "exercise"
    ]
   },
   "source": [
    "__Exercise 2__\n",
    "\n",
    "We will use the [lichess](https://lichess.org/api) API to retrieve some information about the current state of chess in the world. In order to answer below questions, make precise and economical requests. You may use:\n",
    "\n",
    "```\n",
    "import requests\n",
    "import json import loads\n",
    "import pandas\n",
    "\n",
    "from datetime import datetime\n",
    "```"
   ]
  },
  {
   "cell_type": "markdown",
   "metadata": {
    "tags": [
     "exercise"
    ]
   },
   "source": [
    "__(a)__ What is the real name of the player `muisback`? "
   ]
  },
  {
   "cell_type": "code",
   "execution_count": 2,
   "metadata": {},
   "outputs": [],
   "source": [
    "import requests\n",
    "import json\n",
    "from datetime import datetime"
   ]
  },
  {
   "cell_type": "code",
   "execution_count": 3,
   "metadata": {},
   "outputs": [],
   "source": [
    "website = 'https://lichess.org'\n",
    "\n",
    "username = 'muisback'\n",
    "apiPath = f'/api/user/{username}'\n",
    "\n",
    "url = f\"{website}{apiPath}\"\n",
    "response = requests.get(url)\n",
    "res_json = response.json()"
   ]
  },
  {
   "cell_type": "code",
   "execution_count": 4,
   "metadata": {},
   "outputs": [
    {
     "data": {
      "text/plain": [
       "'Real Name: Rauf Mamedov'"
      ]
     },
     "execution_count": 4,
     "metadata": {},
     "output_type": "execute_result"
    }
   ],
   "source": [
    "'Real Name: ' + res_json['profile']['realName']"
   ]
  },
  {
   "cell_type": "code",
   "execution_count": 5,
   "metadata": {},
   "outputs": [
    {
     "data": {
      "text/plain": [
       "1580238632291"
      ]
     },
     "execution_count": 5,
     "metadata": {},
     "output_type": "execute_result"
    }
   ],
   "source": [
    "res_json['createdAt']"
   ]
  },
  {
   "cell_type": "code",
   "execution_count": 6,
   "metadata": {},
   "outputs": [
    {
     "data": {
      "text/plain": [
       "'Created At: 2020-01-28 11:10:32.291000'"
      ]
     },
     "execution_count": 6,
     "metadata": {},
     "output_type": "execute_result"
    }
   ],
   "source": [
    "f'Created At: {datetime.fromtimestamp(res_json['createdAt'] / 1000)}'"
   ]
  },
  {
   "cell_type": "markdown",
   "metadata": {},
   "source": [
    "__(b, i)__ Get the username of the last player that played a rapid game against user `athena-pallada` in 2023. __(ii)__ In all games against this user, what is the win-to-loss ratio of `athena-pallada`?\n",
    "\n",
    "*Hints: For (i), use [this](https://www.epochconverter.com/) to obtain your epoch time. Bor both (i) and (ii): What kind of data type to you accept in your header? For (iii): Why can't the JSON be converted to a dict? Inspect the string to find the cause of the error. Use string methods to fix the problem.*"
   ]
  },
  {
   "cell_type": "code",
   "execution_count": 7,
   "metadata": {},
   "outputs": [
    {
     "data": {
      "text/plain": [
       "200"
      ]
     },
     "execution_count": 7,
     "metadata": {},
     "output_type": "execute_result"
    }
   ],
   "source": [
    "# i\n",
    "website = 'https://lichess.org'\n",
    "username = 'athena-pallada'\n",
    "apiPath = f'/api/games/user/{username}'\n",
    "\n",
    "queryParams = {\n",
    "  'perfType': 'rapid',\n",
    "  'since': int(datetime(2023, 1, 1).timestamp() * 1000),\n",
    "  'until': int(datetime(2024, 1, 1).timestamp() * 1000),\n",
    "  'sort': 'dateDesc',\n",
    "  'max': 1,\n",
    "}\n",
    "\n",
    "headers = {\n",
    "  \"Accept\": \"application/x-ndjson\"\n",
    "}\n",
    "\n",
    "url = f'{website}{apiPath}?{'&'.join(f'{key}={value}' for key, value in queryParams.items())}'\n",
    "\n",
    "response = requests.get(url, headers=headers)\n",
    "response.status_code"
   ]
  },
  {
   "cell_type": "code",
   "execution_count": 8,
   "metadata": {},
   "outputs": [],
   "source": [
    "res_json = response.json()"
   ]
  },
  {
   "cell_type": "code",
   "execution_count": 9,
   "metadata": {},
   "outputs": [],
   "source": [
    "players = res_json['players']"
   ]
  },
  {
   "cell_type": "code",
   "execution_count": 10,
   "metadata": {},
   "outputs": [
    {
     "name": "stdout",
     "output_type": "stream",
     "text": [
      "{\n",
      "  \"white\": {\n",
      "    \"user\": {\n",
      "      \"name\": \"athena-pallada\",\n",
      "      \"title\": \"GM\",\n",
      "      \"flair\": \"nature.fire\",\n",
      "      \"id\": \"athena-pallada\"\n",
      "    },\n",
      "    \"rating\": 2837\n",
      "  },\n",
      "  \"black\": {\n",
      "    \"user\": {\n",
      "      \"name\": \"Debilych\",\n",
      "      \"flair\": \"activity.performing-arts\",\n",
      "      \"id\": \"debilych\"\n",
      "    },\n",
      "    \"rating\": 1500,\n",
      "    \"provisional\": true\n",
      "  }\n",
      "}\n"
     ]
    }
   ],
   "source": [
    "print(json.dumps(players, indent=2)) # the last player that played against athena-pallada is debilych"
   ]
  },
  {
   "cell_type": "code",
   "execution_count": 7,
   "metadata": {},
   "outputs": [
    {
     "data": {
      "text/plain": [
       "200"
      ]
     },
     "execution_count": 7,
     "metadata": {},
     "output_type": "execute_result"
    }
   ],
   "source": [
    "# ii\n",
    "website = 'https://lichess.org'\n",
    "username = 'athena-pallada'\n",
    "apiPath = f'/api/games/user/{username}'\n",
    "\n",
    "queryParams = {\n",
    "  'vs': 'debilych',\n",
    "}\n",
    "\n",
    "url = f'{website}{apiPath}?{'&'.join(f'{key}={value}' for key, value in queryParams.items())}'\n",
    "\n",
    "headers = {\n",
    "  \"Accept\": \"application/x-ndjson\"\n",
    "}\n",
    "\n",
    "response = requests.get(url, headers=headers)\n",
    "response.status_code"
   ]
  },
  {
   "cell_type": "code",
   "execution_count": 8,
   "metadata": {},
   "outputs": [],
   "source": [
    "res_json = [json.loads(json_str) for json_str in response.text.strip().split('\\n')]"
   ]
  },
  {
   "cell_type": "code",
   "execution_count": 86,
   "metadata": {},
   "outputs": [],
   "source": [
    "# res_json"
   ]
  },
  {
   "cell_type": "code",
   "execution_count": 10,
   "metadata": {},
   "outputs": [],
   "source": [
    "def did_win(player_id, game):\n",
    "  is_white = game['players']['white']['user']['id'] == player_id\n",
    "  winner_is_white = game['winner'] == 'white'\n",
    "  return is_white and winner_is_white or not is_white and not winner_is_white\n",
    "\n",
    "did_win_games = [did_win(username, game) for game in res_json]"
   ]
  },
  {
   "cell_type": "code",
   "execution_count": 12,
   "metadata": {},
   "outputs": [
    {
     "data": {
      "text/plain": [
       "[True, False]"
      ]
     },
     "execution_count": 12,
     "metadata": {},
     "output_type": "execute_result"
    }
   ],
   "source": [
    "did_win_games"
   ]
  },
  {
   "cell_type": "code",
   "execution_count": 13,
   "metadata": {},
   "outputs": [
    {
     "data": {
      "text/plain": [
       "'win-to-loss ratio is 1:1'"
      ]
     },
     "execution_count": 13,
     "metadata": {},
     "output_type": "execute_result"
    }
   ],
   "source": [
    "f'win-to-loss ratio is {sum(did_win_games)}:{sum([not win for win in did_win_games])}'"
   ]
  },
  {
   "cell_type": "markdown",
   "metadata": {
    "tags": [
     "exercise"
    ]
   },
   "source": [
    "__(c)__ I want to learn about the [December Arena Tournament](https://lichess.org/tournament/dec24lta). __(i)__ How many games have been played in total? __(ii)__ How many games have been played by the winner? __(iii)__ How many players played in the tournament? __(iv)__ Which players played exactly 22 games?"
   ]
  },
  {
   "cell_type": "code",
   "execution_count": 14,
   "metadata": {},
   "outputs": [
    {
     "data": {
      "text/plain": [
       "200"
      ]
     },
     "execution_count": 14,
     "metadata": {},
     "output_type": "execute_result"
    }
   ],
   "source": [
    "# i\n",
    "website = 'https://lichess.org'\n",
    "tournament_id = 'dec24lta'\n",
    "apiPath = f'/api/tournament/{tournament_id}'\n",
    "\n",
    "url = f'{website}{apiPath}'\n",
    "\n",
    "response = requests.get(url)\n",
    "response.status_code"
   ]
  },
  {
   "cell_type": "code",
   "execution_count": 18,
   "metadata": {},
   "outputs": [],
   "source": [
    "tournament_info = response.json()"
   ]
  },
  {
   "cell_type": "code",
   "execution_count": 85,
   "metadata": {},
   "outputs": [],
   "source": [
    "# print(json.dumps(tournament_info, indent=2))"
   ]
  },
  {
   "cell_type": "code",
   "execution_count": 21,
   "metadata": {},
   "outputs": [
    {
     "data": {
      "text/plain": [
       "200"
      ]
     },
     "execution_count": 21,
     "metadata": {},
     "output_type": "execute_result"
    }
   ],
   "source": [
    "website = 'https://lichess.org'\n",
    "tournament_id = 'dec24lta'\n",
    "apiPath = f'/api/tournament/{tournament_id}/games'\n",
    "\n",
    "url = f'{website}{apiPath}'\n",
    "\n",
    "response = requests.get(url)\n",
    "response.status_code"
   ]
  },
  {
   "cell_type": "code",
   "execution_count": 84,
   "metadata": {},
   "outputs": [],
   "source": [
    "# print(response.text)"
   ]
  },
  {
   "cell_type": "code",
   "execution_count": 23,
   "metadata": {},
   "outputs": [],
   "source": [
    "num_games = sum(1 for line in response.text.split('\\n') if line.startswith('[Event \"'))"
   ]
  },
  {
   "cell_type": "code",
   "execution_count": 25,
   "metadata": {},
   "outputs": [
    {
     "data": {
      "text/plain": [
       "'The total number of games in the tournament is 5489'"
      ]
     },
     "execution_count": 25,
     "metadata": {},
     "output_type": "execute_result"
    }
   ],
   "source": [
    "f'The total number of games in the tournament is {num_games}'"
   ]
  },
  {
   "cell_type": "code",
   "execution_count": 30,
   "metadata": {},
   "outputs": [
    {
     "data": {
      "text/plain": [
       "{'name': 'penguingim1',\n",
       " 'title': 'GM',\n",
       " 'flair': 'nature.penguin',\n",
       " 'patron': True,\n",
       " 'rank': 1,\n",
       " 'rating': 3342,\n",
       " 'score': 176,\n",
       " 'nb': {'game': 64, 'berserk': 12, 'win': 50},\n",
       " 'performance': 3362}"
      ]
     },
     "execution_count": 30,
     "metadata": {},
     "output_type": "execute_result"
    }
   ],
   "source": [
    "# ii\n",
    "first_place = tournament_info['podium'][0]\n",
    "first_place"
   ]
  },
  {
   "cell_type": "code",
   "execution_count": 31,
   "metadata": {},
   "outputs": [
    {
     "data": {
      "text/plain": [
       "'The winner penguingim1 played 64 games'"
      ]
     },
     "execution_count": 31,
     "metadata": {},
     "output_type": "execute_result"
    }
   ],
   "source": [
    "f'The winner {first_place['name']} played {first_place['nb']['game']} games'"
   ]
  },
  {
   "cell_type": "code",
   "execution_count": 32,
   "metadata": {},
   "outputs": [
    {
     "data": {
      "text/plain": [
       "'400 players played in this tournament'"
      ]
     },
     "execution_count": 32,
     "metadata": {},
     "output_type": "execute_result"
    }
   ],
   "source": [
    "# iii\n",
    "f'{tournament_info['nbPlayers']} players played in this tournament'"
   ]
  },
  {
   "cell_type": "code",
   "execution_count": 33,
   "metadata": {},
   "outputs": [],
   "source": [
    "# iv\n",
    "games = {}\n",
    "\n",
    "for line in response.text.split('\\n'):\n",
    "  if line.startswith('[White \"') or line.startswith('[Black \"'):\n",
    "    username = line.split('\"')[1]\n",
    "    games[username] = games.get(username, 0) + 1"
   ]
  },
  {
   "cell_type": "code",
   "execution_count": 83,
   "metadata": {},
   "outputs": [],
   "source": [
    "# games"
   ]
  },
  {
   "cell_type": "code",
   "execution_count": 37,
   "metadata": {},
   "outputs": [],
   "source": [
    "players_with_22_games = [player for player, games in games.items() if games == 22]"
   ]
  },
  {
   "cell_type": "code",
   "execution_count": 38,
   "metadata": {},
   "outputs": [
    {
     "data": {
      "text/plain": [
       "\"These players played exactly 22 games: ['Bardyk01', 'LEGENYA19989898', 'emirislamking']\""
      ]
     },
     "execution_count": 38,
     "metadata": {},
     "output_type": "execute_result"
    }
   ],
   "source": [
    "f'These players played exactly 22 games: {players_with_22_games}'"
   ]
  },
  {
   "cell_type": "markdown",
   "metadata": {
    "tags": [
     "exerise"
    ]
   },
   "source": [
    "__(d, i)__ Obtain all rated and analyzed ultrabullet games that player `nihalsarin2004` played in December 2024. How many games do you find? __(ii)__ From each game, extract the information whether `nihalsarin2004` played black or white, which color won, whether he played against a player with a higher rating or not and what opening was played (ignore variations). What proportion of games did `nihalsarin2004` win? What proportion of games did he win as white? What percentage of opponents were stronger than `nihalsarin2004`? "
   ]
  },
  {
   "cell_type": "code",
   "execution_count": 73,
   "metadata": {},
   "outputs": [
    {
     "data": {
      "text/plain": [
       "200"
      ]
     },
     "execution_count": 73,
     "metadata": {},
     "output_type": "execute_result"
    }
   ],
   "source": [
    "# i\n",
    "website = 'https://lichess.org'\n",
    "username = 'nihalsarin2004'\n",
    "apiPath = f'/api/games/user/{username}'\n",
    "\n",
    "queryParams = {\n",
    "  'since': int(datetime(2024, 12, 1).timestamp() * 1000),\n",
    "  'until': int(datetime(2025, 1, 1).timestamp() * 1000),\n",
    "  'perfType': 'ultraBullet',\n",
    "  'rated': 'true',\n",
    "  'analysed': 'true',\n",
    "  'opening': 'true',\n",
    "}\n",
    "\n",
    "\n",
    "url = f'{website}{apiPath}?{'&'.join(f'{key}={value}' for key, value in queryParams.items())}'\n",
    "\n",
    "headers = {\n",
    "  \"Accept\": \"application/x-ndjson\"\n",
    "}\n",
    "\n",
    "response = requests.get(url, headers=headers)\n",
    "response.status_code"
   ]
  },
  {
   "cell_type": "code",
   "execution_count": 82,
   "metadata": {},
   "outputs": [],
   "source": [
    "# print(response.text)"
   ]
  },
  {
   "cell_type": "code",
   "execution_count": 75,
   "metadata": {},
   "outputs": [],
   "source": [
    "games = [json.loads(game) for game in response.text.strip().split('\\n')]"
   ]
  },
  {
   "cell_type": "code",
   "execution_count": 81,
   "metadata": {},
   "outputs": [],
   "source": [
    "# games"
   ]
  },
  {
   "cell_type": "code",
   "execution_count": 77,
   "metadata": {},
   "outputs": [
    {
     "data": {
      "text/plain": [
       "'I found 77 games'"
      ]
     },
     "execution_count": 77,
     "metadata": {},
     "output_type": "execute_result"
    }
   ],
   "source": [
    "f'I found {len(games)} games'"
   ]
  },
  {
   "cell_type": "code",
   "execution_count": 88,
   "metadata": {},
   "outputs": [
    {
     "data": {
      "text/plain": [
       "'Proportion of games won is 0.5454545454545454'"
      ]
     },
     "execution_count": 88,
     "metadata": {},
     "output_type": "execute_result"
    }
   ],
   "source": [
    "def did_win(player_id, game: dict):\n",
    "  if not 'winner' in game: return False\n",
    "  is_white = game['players']['white']['user']['id'] == player_id\n",
    "  winner_is_white = game.get('winner', '') == 'white'\n",
    "  return is_white and winner_is_white or not is_white and not winner_is_white\n",
    "\n",
    "num_games_won = sum(1 for game in games if did_win(username, game))\n",
    "f'Proportion of games won is {num_games_won / len(games)}'"
   ]
  },
  {
   "cell_type": "code",
   "execution_count": 79,
   "metadata": {},
   "outputs": [
    {
     "data": {
      "text/plain": [
       "'Proportion of games won as white is 0.5909090909090909'"
      ]
     },
     "execution_count": 79,
     "metadata": {},
     "output_type": "execute_result"
    }
   ],
   "source": [
    "def did_win_as_white(player_id, game):\n",
    "  is_white = game['players']['white']['user']['id'] == player_id\n",
    "  winner_is_white = game.get('winner', '') == 'white'\n",
    "  return is_white and winner_is_white\n",
    "\n",
    "num_games_won_as_white = sum(1 for game in games if did_win_as_white(username, game))\n",
    "num_games_as_white = sum(1 for game in games if game['players']['white']['user']['id'] == username)\n",
    "f'Proportion of games won as white is {num_games_won_as_white / num_games_as_white}'"
   ]
  },
  {
   "cell_type": "code",
   "execution_count": 80,
   "metadata": {},
   "outputs": [
    {
     "data": {
      "text/plain": [
       "'Proportion of opponents stronger than you is 0.11688311688311688'"
      ]
     },
     "execution_count": 80,
     "metadata": {},
     "output_type": "execute_result"
    }
   ],
   "source": [
    "# your rating - opponent's rating\n",
    "def get_rating_diff(player_id, game):\n",
    "  players = game['players']\n",
    "  white_player = players['white']\n",
    "  is_white = white_player['user']['id'] == player_id\n",
    "  you = white_player if is_white else players['black']\n",
    "  opponent = white_player if not is_white else players['black']\n",
    "  return you['rating'] - opponent['rating']\n",
    "\n",
    "num_games_with_higher_opponent_ratings = sum(1 for game in games if get_rating_diff(username, game) < 0)\n",
    "f'Proportion of opponents stronger than you is {num_games_with_higher_opponent_ratings / len(games)}'"
   ]
  },
  {
   "cell_type": "code",
   "execution_count": null,
   "metadata": {},
   "outputs": [],
   "source": []
  }
 ],
 "metadata": {
  "celltoolbar": "Tags",
  "kernelspec": {
   "display_name": "sta141b",
   "language": "python",
   "name": "python3"
  },
  "language_info": {
   "codemirror_mode": {
    "name": "ipython",
    "version": 3
   },
   "file_extension": ".py",
   "mimetype": "text/x-python",
   "name": "python",
   "nbconvert_exporter": "python",
   "pygments_lexer": "ipython3",
   "version": "3.12.8"
  }
 },
 "nbformat": 4,
 "nbformat_minor": 4
}
