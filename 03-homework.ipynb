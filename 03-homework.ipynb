{
 "cells": [
  {
   "cell_type": "markdown",
   "metadata": {
    "tags": [
     "header"
    ]
   },
   "source": [
    "# STA 141B WQ 25 Homework Assignment 2\n",
    "\n",
    "## Instructions\n",
    "\n",
    "- Complete the exercises below. Create more code chunks if necessary. Answer all questions. Show results for both the *test* and *run* cases.\n",
    "- Export the Jupyter Notebook as an PDF file.\n",
    "- Submit the PDF by **Sunday, February 23, at 11:59 PM PT** to Gradescope.\n",
    "- For each exercise, indicate the region of your answer in the PDF to facilitate grading. \n",
    "\n",
    "## Additional information\n",
    "\n",
    "- Complete this worksheet yourself. \n",
    "- You may use the internet or discuss possible approaches to solve the problems with other students. You are not allowed to share your code or your answers with other students.\n",
    "- No other libraries than those explicitly allowed can be used. \n",
    "- Use code cells for your Python scripts and Markdown cells for explanatory text or answers to non-coding questions. Answer all textual questions in complete sentences.\n",
    "- Late homework submissions will not be accepted. No submissions will be accepted by email.\n",
    "- The total number of points for this assignment is 20. You can earn 5 bonus points. "
   ]
  },
  {
   "cell_type": "markdown",
   "metadata": {},
   "source": [
    "__Exercise 1__\n",
    "\n",
    "As a public organization, the compensations of employees of all institutions of the University of California are freely accessible. These reports cover UC's career faculty and staff employees, as well as part-time, temporary and student employees. It is accessible [here](https://ucannualwage.ucop.edu). Internally, the data requested by the search mask is queried using an undocumented API. For this exercise, you may use: \n",
    "```\n",
    "import requests\n",
    "import pandas\n",
    "\n",
    "from json import loads\n",
    "```\n",
    "\n",
    "_Hint: If you encounter an error when parsing the data, try to use string methods (e.g., `str.replace`) to deal with them._"
   ]
  },
  {
   "cell_type": "markdown",
   "metadata": {},
   "source": [
    "__(a)__ Get the compensation information of all UC Irvine professors in 2023. How many entries are being returned?"
   ]
  },
  {
   "metadata": {
    "ExecuteTime": {
     "end_time": "2025-02-26T03:51:26.690303Z",
     "start_time": "2025-02-26T03:51:25.497995Z"
    }
   },
   "cell_type": "code",
   "source": [
    "import requests\n",
    "\n",
    "url = \"https://ucannualwage.ucop.edu/wage/search.do\"\n",
    "headers = {\n",
    "  \"accept\": \"application/json, text/javascript, */*; q=0.01\",\n",
    "  \"accept-language\": \"en-US,en;q=0.9\",\n",
    "  \"content-type\": \"application/x-www-form-urlencoded\",\n",
    "  \"priority\": \"u=1, i\",\n",
    "  \"sec-ch-ua\": '\"Not(A:Brand\";v=\"99\", \"Google Chrome\";v=\"133\", \"Chromium\";v=\"133\"',\n",
    "  \"sec-ch-ua-mobile\": \"?0\",\n",
    "  \"sec-ch-ua-platform\": \"\\\"macOS\\\"\",\n",
    "  \"sec-fetch-dest\": \"empty\",\n",
    "  \"sec-fetch-mode\": \"cors\",\n",
    "  \"sec-fetch-site\": \"same-origin\",\n",
    "  \"x-requested-with\": \"XMLHttpRequest\"\n",
    "}\n",
    "data = {\n",
    "  \"_search\": \"false\",\n",
    "  \"nd\": \"1740541745802\",\n",
    "  \"rows\": \"32212\",\n",
    "  \"page\": \"1\",\n",
    "  \"sidx\": \"EAW_LST_NAM\",\n",
    "  \"sord\": \"asc\",\n",
    "  \"year\": \"2023\",\n",
    "  \"location\": \"Irvine\",\n",
    "  \"firstname\": \"\",\n",
    "  \"lastname\": \"\",\n",
    "  \"title\": \"prof\",\n",
    "  \"startSal\": \"\",\n",
    "  \"endSal\": \"\"\n",
    "}\n",
    "\n",
    "response = requests.post(url, headers=headers, data=data)\n",
    "response"
   ],
   "outputs": [
    {
     "data": {
      "text/plain": [
       "<Response [200]>"
      ]
     },
     "execution_count": 184,
     "metadata": {},
     "output_type": "execute_result"
    }
   ],
   "execution_count": 184
  },
  {
   "metadata": {
    "ExecuteTime": {
     "end_time": "2025-02-26T03:55:10.444793Z",
     "start_time": "2025-02-26T03:55:10.438551Z"
    }
   },
   "cell_type": "code",
   "source": "json_data = response.json()",
   "outputs": [],
   "execution_count": 191
  },
  {
   "metadata": {
    "ExecuteTime": {
     "end_time": "2025-02-26T04:00:41.098729Z",
     "start_time": "2025-02-26T04:00:41.086786Z"
    }
   },
   "cell_type": "code",
   "source": [
    "import pandas as pd\n",
    "\n",
    "# Extracting 'cell' data from each row\n",
    "df = pd.DataFrame([row[\"cell\"] for row in json_data[\"rows\"]])\n",
    "\n",
    "# Dropping column 0\n",
    "df.drop(columns=[0], inplace=True)\n",
    "\n",
    "# Renaming columns\n",
    "df.columns = [\"year\", \"location\", \"first name\", \"last name\", \"title\", \"gross pay\", \"regular pay\", \"overtime pay\",\n",
    "              \"other pay\"]\n",
    "\n",
    "# Removing records where 'title' contains 'profl'\n",
    "df = df[~df[\"title\"].str.contains(\"profl\", case=False, na=False)]\n",
    "\n",
    "df.head()"
   ],
   "outputs": [
    {
     "data": {
      "text/plain": [
       "   year location first name last name                    title  gross pay  \\\n",
       "0  2023   Irvine      *****     *****             ASST PROF-AY  137826.00   \n",
       "1  2023   Irvine      *****     *****  HS ASST CLIN PROF-HCOMP  107270.00   \n",
       "2  2023   Irvine      *****     *****            VIS ASST PROF   25782.00   \n",
       "3  2023   Irvine      *****     *****             ASST PROF-AY  106447.00   \n",
       "4  2023   Irvine      *****     *****         ASST ADJ PROF-AY   31228.00   \n",
       "\n",
       "  regular pay overtime pay other pay  \n",
       "0   108850.00         0.00  28976.00  \n",
       "1   105433.00         0.00   1837.00  \n",
       "2    25782.00         0.00      0.00  \n",
       "3   105633.00         0.00    813.00  \n",
       "4    31228.00         0.00      0.00  "
      ],
      "text/html": [
       "<div>\n",
       "<style scoped>\n",
       "    .dataframe tbody tr th:only-of-type {\n",
       "        vertical-align: middle;\n",
       "    }\n",
       "\n",
       "    .dataframe tbody tr th {\n",
       "        vertical-align: top;\n",
       "    }\n",
       "\n",
       "    .dataframe thead th {\n",
       "        text-align: right;\n",
       "    }\n",
       "</style>\n",
       "<table border=\"1\" class=\"dataframe\">\n",
       "  <thead>\n",
       "    <tr style=\"text-align: right;\">\n",
       "      <th></th>\n",
       "      <th>year</th>\n",
       "      <th>location</th>\n",
       "      <th>first name</th>\n",
       "      <th>last name</th>\n",
       "      <th>title</th>\n",
       "      <th>gross pay</th>\n",
       "      <th>regular pay</th>\n",
       "      <th>overtime pay</th>\n",
       "      <th>other pay</th>\n",
       "    </tr>\n",
       "  </thead>\n",
       "  <tbody>\n",
       "    <tr>\n",
       "      <th>0</th>\n",
       "      <td>2023</td>\n",
       "      <td>Irvine</td>\n",
       "      <td>*****</td>\n",
       "      <td>*****</td>\n",
       "      <td>ASST PROF-AY</td>\n",
       "      <td>137826.00</td>\n",
       "      <td>108850.00</td>\n",
       "      <td>0.00</td>\n",
       "      <td>28976.00</td>\n",
       "    </tr>\n",
       "    <tr>\n",
       "      <th>1</th>\n",
       "      <td>2023</td>\n",
       "      <td>Irvine</td>\n",
       "      <td>*****</td>\n",
       "      <td>*****</td>\n",
       "      <td>HS ASST CLIN PROF-HCOMP</td>\n",
       "      <td>107270.00</td>\n",
       "      <td>105433.00</td>\n",
       "      <td>0.00</td>\n",
       "      <td>1837.00</td>\n",
       "    </tr>\n",
       "    <tr>\n",
       "      <th>2</th>\n",
       "      <td>2023</td>\n",
       "      <td>Irvine</td>\n",
       "      <td>*****</td>\n",
       "      <td>*****</td>\n",
       "      <td>VIS ASST PROF</td>\n",
       "      <td>25782.00</td>\n",
       "      <td>25782.00</td>\n",
       "      <td>0.00</td>\n",
       "      <td>0.00</td>\n",
       "    </tr>\n",
       "    <tr>\n",
       "      <th>3</th>\n",
       "      <td>2023</td>\n",
       "      <td>Irvine</td>\n",
       "      <td>*****</td>\n",
       "      <td>*****</td>\n",
       "      <td>ASST PROF-AY</td>\n",
       "      <td>106447.00</td>\n",
       "      <td>105633.00</td>\n",
       "      <td>0.00</td>\n",
       "      <td>813.00</td>\n",
       "    </tr>\n",
       "    <tr>\n",
       "      <th>4</th>\n",
       "      <td>2023</td>\n",
       "      <td>Irvine</td>\n",
       "      <td>*****</td>\n",
       "      <td>*****</td>\n",
       "      <td>ASST ADJ PROF-AY</td>\n",
       "      <td>31228.00</td>\n",
       "      <td>31228.00</td>\n",
       "      <td>0.00</td>\n",
       "      <td>0.00</td>\n",
       "    </tr>\n",
       "  </tbody>\n",
       "</table>\n",
       "</div>"
      ]
     },
     "execution_count": 198,
     "metadata": {},
     "output_type": "execute_result"
    }
   ],
   "execution_count": 198
  },
  {
   "metadata": {
    "ExecuteTime": {
     "end_time": "2025-02-26T04:01:08.362807Z",
     "start_time": "2025-02-26T04:01:08.360166Z"
    }
   },
   "cell_type": "code",
   "source": "f'The number of entries is {df.shape[0]}'",
   "outputs": [
    {
     "data": {
      "text/plain": [
       "'The number of entries is 2242'"
      ]
     },
     "execution_count": 201,
     "metadata": {},
     "output_type": "execute_result"
    }
   ],
   "execution_count": 201
  },
  {
   "metadata": {},
   "cell_type": "markdown",
   "source": [
    "__BONUS__\n",
    "\n",
    "__(b, i)__ Use the [UCI directory](https://directory.uci.edu/) to learn each professors department, if available. How many professors with departments information do you find? __(ii)__ Find the four departments that have the largest average gross pay, and the four departments that have the largest average base pay."
   ]
  },
  {
   "metadata": {
    "ExecuteTime": {
     "end_time": "2025-02-26T04:04:35.768007Z",
     "start_time": "2025-02-26T04:04:35.759170Z"
    }
   },
   "cell_type": "code",
   "source": [
    "df = df[~df[\"first name\"].str.fullmatch(r'\\*+', na=False)]\n",
    "df = df[~df[\"last name\"].str.fullmatch(r'\\*+', na=False)]\n",
    "df = df[[\"first name\", \"last name\", \"gross pay\"]]\n",
    "df.head()"
   ],
   "outputs": [
    {
     "data": {
      "text/plain": [
       "    first name  last name  gross pay\n",
       "48         KEV  ABAZAJIAN  191699.00\n",
       "49      ACKBAR      ABBAS  131615.00\n",
       "50       PABLO     ABBONA  578970.00\n",
       "51    GEOFFREY     ABBOTT  617177.00\n",
       "52  HERMELINDA     ABCEDE       0.00"
      ],
      "text/html": [
       "<div>\n",
       "<style scoped>\n",
       "    .dataframe tbody tr th:only-of-type {\n",
       "        vertical-align: middle;\n",
       "    }\n",
       "\n",
       "    .dataframe tbody tr th {\n",
       "        vertical-align: top;\n",
       "    }\n",
       "\n",
       "    .dataframe thead th {\n",
       "        text-align: right;\n",
       "    }\n",
       "</style>\n",
       "<table border=\"1\" class=\"dataframe\">\n",
       "  <thead>\n",
       "    <tr style=\"text-align: right;\">\n",
       "      <th></th>\n",
       "      <th>first name</th>\n",
       "      <th>last name</th>\n",
       "      <th>gross pay</th>\n",
       "    </tr>\n",
       "  </thead>\n",
       "  <tbody>\n",
       "    <tr>\n",
       "      <th>48</th>\n",
       "      <td>KEV</td>\n",
       "      <td>ABAZAJIAN</td>\n",
       "      <td>191699.00</td>\n",
       "    </tr>\n",
       "    <tr>\n",
       "      <th>49</th>\n",
       "      <td>ACKBAR</td>\n",
       "      <td>ABBAS</td>\n",
       "      <td>131615.00</td>\n",
       "    </tr>\n",
       "    <tr>\n",
       "      <th>50</th>\n",
       "      <td>PABLO</td>\n",
       "      <td>ABBONA</td>\n",
       "      <td>578970.00</td>\n",
       "    </tr>\n",
       "    <tr>\n",
       "      <th>51</th>\n",
       "      <td>GEOFFREY</td>\n",
       "      <td>ABBOTT</td>\n",
       "      <td>617177.00</td>\n",
       "    </tr>\n",
       "    <tr>\n",
       "      <th>52</th>\n",
       "      <td>HERMELINDA</td>\n",
       "      <td>ABCEDE</td>\n",
       "      <td>0.00</td>\n",
       "    </tr>\n",
       "  </tbody>\n",
       "</table>\n",
       "</div>"
      ]
     },
     "execution_count": 203,
     "metadata": {},
     "output_type": "execute_result"
    }
   ],
   "execution_count": 203
  },
  {
   "metadata": {
    "ExecuteTime": {
     "end_time": "2025-02-26T05:16:40.095415Z",
     "start_time": "2025-02-26T05:16:40.091166Z"
    }
   },
   "cell_type": "code",
   "source": [
    "import requests\n",
    "from bs4 import BeautifulSoup\n",
    "\n",
    "\n",
    "def get_department(firstName, lastName):\n",
    "  # Define the URL\n",
    "  url = \"https://directory.uci.edu/render-list\"\n",
    "\n",
    "  # Define headers (if required)\n",
    "  headers = {\n",
    "    \"accept\": \"*/*\",\n",
    "    \"content-type\": \"application/x-www-form-urlencoded; charset=UTF-8\"\n",
    "  }\n",
    "\n",
    "  # Define data to send in POST request\n",
    "  data = {\n",
    "    \"uciKey\": f\"{firstName} {lastName}\",\n",
    "    \"filter\": \"all\"\n",
    "  }\n",
    "\n",
    "  # Make the POST request\n",
    "  response = requests.post(url, headers=headers, data=data)\n",
    "\n",
    "  # Parse the response HTML using BeautifulSoup\n",
    "  soup = BeautifulSoup(response.json()['html'], \"html.parser\")\n",
    "\n",
    "  # Find the table with class 'directory-info-table-section'\n",
    "  table = soup.find(\"table\", class_=\"directory-info-table-section\")\n",
    "  if not table:\n",
    "    print('Department table not found')\n",
    "    return None\n",
    "\n",
    "  # Find the row where the first td has class 'directory-info-table-row' and text 'Department'\n",
    "  for row in table.find_all(\"tr\"):\n",
    "    first_td = row.find(\"td\")\n",
    "    if first_td and first_td.text.strip() == \"Department\":\n",
    "      second_td = first_td.find_next_sibling(\"td\")\n",
    "      if second_td:\n",
    "        return second_td.text.strip()\n",
    "      else:\n",
    "        print('Department field not found')\n",
    "        return None"
   ],
   "outputs": [],
   "execution_count": 252
  },
  {
   "metadata": {
    "ExecuteTime": {
     "end_time": "2025-02-26T05:28:00.400388Z",
     "start_time": "2025-02-26T05:19:26.822609Z"
    }
   },
   "cell_type": "code",
   "source": [
    "df[\"department\"] = df.apply(lambda row: get_department(row[\"first name\"], row[\"last name\"]), axis=1)\n",
    "df.head()"
   ],
   "outputs": [
    {
     "name": "stdout",
     "output_type": "stream",
     "text": [
      "Department table not found\n",
      "Department table not found\n",
      "Department table not found\n",
      "Department table not found\n",
      "Department table not found\n",
      "Department table not found\n",
      "Department table not found\n",
      "Department table not found\n",
      "Department table not found\n",
      "Department table not found\n",
      "Department table not found\n",
      "Department table not found\n",
      "Department table not found\n",
      "Department table not found\n",
      "Department table not found\n",
      "Department table not found\n",
      "Department table not found\n",
      "Department table not found\n",
      "Department table not found\n",
      "Department table not found\n",
      "Department table not found\n",
      "Department table not found\n",
      "Department table not found\n",
      "Department table not found\n",
      "Department table not found\n",
      "Department table not found\n",
      "Department table not found\n",
      "Department table not found\n",
      "Department table not found\n",
      "Department table not found\n",
      "Department table not found\n",
      "Department table not found\n",
      "Department table not found\n",
      "Department table not found\n",
      "Department table not found\n",
      "Department table not found\n",
      "Department table not found\n",
      "Department table not found\n",
      "Department table not found\n",
      "Department table not found\n",
      "Department table not found\n",
      "Department table not found\n",
      "Department table not found\n",
      "Department table not found\n",
      "Department table not found\n",
      "Department table not found\n",
      "Department table not found\n",
      "Department table not found\n",
      "Department table not found\n",
      "Department table not found\n",
      "Department table not found\n",
      "Department table not found\n",
      "Department table not found\n",
      "Department table not found\n",
      "Department table not found\n",
      "Department table not found\n",
      "Department table not found\n",
      "Department table not found\n",
      "Department table not found\n",
      "Department table not found\n",
      "Department table not found\n",
      "Department table not found\n",
      "Department table not found\n",
      "Department table not found\n",
      "Department table not found\n",
      "Department table not found\n",
      "Department table not found\n",
      "Department table not found\n",
      "Department table not found\n",
      "Department table not found\n",
      "Department table not found\n",
      "Department table not found\n",
      "Department table not found\n",
      "Department table not found\n",
      "Department table not found\n",
      "Department table not found\n",
      "Department table not found\n",
      "Department table not found\n",
      "Department table not found\n",
      "Department table not found\n",
      "Department table not found\n",
      "Department table not found\n",
      "Department table not found\n",
      "Department table not found\n",
      "Department table not found\n",
      "Department table not found\n",
      "Department table not found\n",
      "Department table not found\n",
      "Department table not found\n",
      "Department table not found\n"
     ]
    },
    {
     "data": {
      "text/plain": [
       "    first name  last name  gross pay                     department\n",
       "48         KEV  ABAZAJIAN  191699.00          Physics and Astronomy\n",
       "49      ACKBAR      ABBAS  131615.00         Comparative Literature\n",
       "50       PABLO     ABBONA  578970.00    SOM - Radiological Sciences\n",
       "51    GEOFFREY     ABBOTT  617177.00  SOM - Physiology & Biophysics\n",
       "52  HERMELINDA     ABCEDE       0.00                           None"
      ],
      "text/html": [
       "<div>\n",
       "<style scoped>\n",
       "    .dataframe tbody tr th:only-of-type {\n",
       "        vertical-align: middle;\n",
       "    }\n",
       "\n",
       "    .dataframe tbody tr th {\n",
       "        vertical-align: top;\n",
       "    }\n",
       "\n",
       "    .dataframe thead th {\n",
       "        text-align: right;\n",
       "    }\n",
       "</style>\n",
       "<table border=\"1\" class=\"dataframe\">\n",
       "  <thead>\n",
       "    <tr style=\"text-align: right;\">\n",
       "      <th></th>\n",
       "      <th>first name</th>\n",
       "      <th>last name</th>\n",
       "      <th>gross pay</th>\n",
       "      <th>department</th>\n",
       "    </tr>\n",
       "  </thead>\n",
       "  <tbody>\n",
       "    <tr>\n",
       "      <th>48</th>\n",
       "      <td>KEV</td>\n",
       "      <td>ABAZAJIAN</td>\n",
       "      <td>191699.00</td>\n",
       "      <td>Physics and Astronomy</td>\n",
       "    </tr>\n",
       "    <tr>\n",
       "      <th>49</th>\n",
       "      <td>ACKBAR</td>\n",
       "      <td>ABBAS</td>\n",
       "      <td>131615.00</td>\n",
       "      <td>Comparative Literature</td>\n",
       "    </tr>\n",
       "    <tr>\n",
       "      <th>50</th>\n",
       "      <td>PABLO</td>\n",
       "      <td>ABBONA</td>\n",
       "      <td>578970.00</td>\n",
       "      <td>SOM - Radiological Sciences</td>\n",
       "    </tr>\n",
       "    <tr>\n",
       "      <th>51</th>\n",
       "      <td>GEOFFREY</td>\n",
       "      <td>ABBOTT</td>\n",
       "      <td>617177.00</td>\n",
       "      <td>SOM - Physiology &amp; Biophysics</td>\n",
       "    </tr>\n",
       "    <tr>\n",
       "      <th>52</th>\n",
       "      <td>HERMELINDA</td>\n",
       "      <td>ABCEDE</td>\n",
       "      <td>0.00</td>\n",
       "      <td>None</td>\n",
       "    </tr>\n",
       "  </tbody>\n",
       "</table>\n",
       "</div>"
      ]
     },
     "execution_count": 254,
     "metadata": {},
     "output_type": "execute_result"
    }
   ],
   "execution_count": 254
  },
  {
   "metadata": {
    "ExecuteTime": {
     "end_time": "2025-02-26T05:28:00.440945Z",
     "start_time": "2025-02-26T05:28:00.433955Z"
    }
   },
   "cell_type": "code",
   "source": [
    "# Save to CSV\n",
    "df.to_csv(\"HW3E1b.csv\")"
   ],
   "outputs": [],
   "execution_count": 255
  },
  {
   "metadata": {
    "ExecuteTime": {
     "end_time": "2025-02-26T05:34:31.315481Z",
     "start_time": "2025-02-26T05:34:31.307478Z"
    }
   },
   "cell_type": "code",
   "source": "df = pd.read_csv(\"HW3E1b.csv\")",
   "outputs": [],
   "execution_count": 264
  },
  {
   "metadata": {
    "ExecuteTime": {
     "end_time": "2025-02-26T05:37:09.677205Z",
     "start_time": "2025-02-26T05:37:09.671009Z"
    }
   },
   "cell_type": "code",
   "source": [
    "df = df.dropna(subset=[\"department\"])\n",
    "\n",
    "df_grouped = df.groupby(\"department\", as_index=False)[\"gross pay\"].mean()\n",
    "df_grouped.rename(columns={\"gross pay\": \"average gross pay\"}, inplace=True)\n",
    "df_grouped = df_grouped.sort_values(by=\"average gross pay\", ascending=False)\n",
    "\n",
    "print(\"Here are the top four departments with the highest average gross pay\")\n",
    "df_grouped.head(4)"
   ],
   "outputs": [
    {
     "name": "stdout",
     "output_type": "stream",
     "text": [
      "Here are the top four departments with the highest average gross pay\n"
     ]
    },
    {
     "data": {
      "text/plain": [
       "                                        department  average gross pay\n",
       "46                            Clinic-Ophthalmology          1221374.0\n",
       "154  Physical Therapy - UCI Health Fountain Valley           803681.0\n",
       "9                   Ambulatory Care Administration           758856.0\n",
       "72                Emergency Room - Placentia Linda           753857.0"
      ],
      "text/html": [
       "<div>\n",
       "<style scoped>\n",
       "    .dataframe tbody tr th:only-of-type {\n",
       "        vertical-align: middle;\n",
       "    }\n",
       "\n",
       "    .dataframe tbody tr th {\n",
       "        vertical-align: top;\n",
       "    }\n",
       "\n",
       "    .dataframe thead th {\n",
       "        text-align: right;\n",
       "    }\n",
       "</style>\n",
       "<table border=\"1\" class=\"dataframe\">\n",
       "  <thead>\n",
       "    <tr style=\"text-align: right;\">\n",
       "      <th></th>\n",
       "      <th>department</th>\n",
       "      <th>average gross pay</th>\n",
       "    </tr>\n",
       "  </thead>\n",
       "  <tbody>\n",
       "    <tr>\n",
       "      <th>46</th>\n",
       "      <td>Clinic-Ophthalmology</td>\n",
       "      <td>1221374.0</td>\n",
       "    </tr>\n",
       "    <tr>\n",
       "      <th>154</th>\n",
       "      <td>Physical Therapy - UCI Health Fountain Valley</td>\n",
       "      <td>803681.0</td>\n",
       "    </tr>\n",
       "    <tr>\n",
       "      <th>9</th>\n",
       "      <td>Ambulatory Care Administration</td>\n",
       "      <td>758856.0</td>\n",
       "    </tr>\n",
       "    <tr>\n",
       "      <th>72</th>\n",
       "      <td>Emergency Room - Placentia Linda</td>\n",
       "      <td>753857.0</td>\n",
       "    </tr>\n",
       "  </tbody>\n",
       "</table>\n",
       "</div>"
      ]
     },
     "execution_count": 267,
     "metadata": {},
     "output_type": "execute_result"
    }
   ],
   "execution_count": 267
  },
  {
   "cell_type": "markdown",
   "metadata": {
    "tags": [
     "exercise"
    ]
   },
   "source": [
    "__Exercise 2__\n",
    "\n",
    "Lets play a variation of the [wiki game](https://en.wikipedia.org/wiki/Wikipedia:Wiki_Game) to learn about [this](https://en.wikipedia.org/wiki/Wikipedia:Getting_to_Philosophy) phenomenon. The rules are as follows: \n",
    " - Start using either a provided article or the random article link (wiki menu on the left hand side)\n",
    " - Click on the first non-italicized link outside of parentheses and info-boxes\n",
    " - Ignore external links (e.g., `/wiki/File:...` or `/wiki/Category:...`)\n",
    " - Stop when reaching \"Philosophy\", a dead end (page with no links, this should return `None`) or when a loop occurs\n",
    " \n",
    "Use the test cases below to check your code: \n",
    "\n",
    "```python\n",
    ">play('/wiki/Brigade_Commander_(video_game)')\n",
    "['/wiki/Brigade_Commander_(video_game)',\n",
    " '/wiki/Amiga_Action',\n",
    " '/wiki/Amiga',\n",
    " '/wiki/Personal_computer',\n",
    " '/wiki/Computer',\n",
    " '/wiki/Machine',\n",
    " '/wiki/Power_(physics)',\n",
    " '/wiki/Energy',\n",
    " '/wiki/Physical_quantity',\n",
    " '/wiki/Quantification_(science)',\n",
    " '/wiki/Mathematics',\n",
    " '/wiki/Mathematical_theory',\n",
    " '/wiki/Reason',\n",
    " '/wiki/Consciousness',\n",
    " '/wiki/Awareness',\n",
    " '/wiki/Philosophy']\n",
    "\n",
    ">play('/wiki/Keretapi_Tanah_Melayu')\n",
    "['/wiki/Keretapi_Tanah_Melayu',\n",
    " '/wiki/Airline',\n",
    " '/wiki/Civil_aviation',\n",
    " '/wiki/Aviation',\n",
    " '/wiki/Flight',\n",
    " '/wiki/Motion_(physics)',\n",
    " '/wiki/Physics',\n",
    " '/wiki/Scientific',\n",
    " '/wiki/Scientific_method',\n",
    " '/wiki/Empirical_evidence',\n",
    " '/wiki/Evidence',\n",
    " '/wiki/Proposition',\n",
    " '/wiki/Philosophy_of_language',\n",
    " '/wiki/Language',\n",
    " '/wiki/Communication',\n",
    " '/wiki/Information',\n",
    " '/wiki/Abstraction',\n",
    " '/wiki/Rule_of_inference',\n",
    " '/wiki/Philosophy_of_logic',\n",
    " '/wiki/Philosophy']\n",
    "\n",
    ">play('/wiki/Robert_Alfred_Tarlton')\n",
    "['/wiki/Robert_Alfred_Tarlton',\n",
    " '/wiki/Birmingham',\n",
    " '/wiki/City_status_in_the_United_Kingdom',\n",
    " '/wiki/The_Crown',\n",
    " '/wiki/State_(polity)',\n",
    " '/wiki/Politics',\n",
    " '/wiki/Decision-making',\n",
    " '/wiki/Psychology',\n",
    " '/wiki/Mind',\n",
    " '/wiki/Thought',\n",
    " '/wiki/Cognition',\n",
    " '/wiki/Action_(philosophy)',\n",
    " '/wiki/Philosophy']\n",
    "\n",
    ">play('/wiki/Ricky_Vallen')\n",
    "['/wiki/Ricky_Vallen', None]\n",
    "```"
   ]
  },
  {
   "cell_type": "markdown",
   "metadata": {},
   "source": [
    "__(a)__ Run: \n",
    "    \n",
    "```python\n",
    "play('/wiki/Yadav') # (i)\n",
    "play('/wiki/1953_Arab_Games') # (ii)\n",
    "play('/wiki/Save_Me_(Silver_Convention_song)') # (iii)\n",
    "```"
   ]
  },
  {
   "metadata": {
    "ExecuteTime": {
     "end_time": "2025-02-26T01:41:57.156159Z",
     "start_time": "2025-02-26T01:41:57.153816Z"
    }
   },
   "cell_type": "code",
   "source": [
    "import requests\n",
    "from bs4 import BeautifulSoup, Tag, NavigableString\n",
    "import time"
   ],
   "outputs": [],
   "execution_count": 129
  },
  {
   "metadata": {
    "ExecuteTime": {
     "end_time": "2025-02-26T03:42:06.997555Z",
     "start_time": "2025-02-26T03:42:06.991182Z"
    }
   },
   "cell_type": "code",
   "source": [
    "BASE_URL = 'https://en.wikipedia.org'\n",
    "\n",
    "def extract_link(e: Tag) -> str | None:\n",
    "  parenthesis_count = 0\n",
    "\n",
    "  for child in e.children:\n",
    "    if isinstance(child, NavigableString):\n",
    "      for char in child:\n",
    "        if char == '(':\n",
    "          parenthesis_count += 1\n",
    "        elif char == ')':\n",
    "          parenthesis_count -= 1\n",
    "    elif child.name == \"a\" and child.has_attr(\"href\"):\n",
    "      href = child[\"href\"]\n",
    "\n",
    "      # Valid link linking to another article\n",
    "      if not href.startswith(\"/wiki/\"):\n",
    "        continue\n",
    "      if \":\" in href:\n",
    "        continue\n",
    "\n",
    "      # Not in parentheses\n",
    "      if parenthesis_count > 0:\n",
    "        continue\n",
    "\n",
    "      return href\n",
    "    elif not child.name == \"i\" and parenthesis_count == 0:\n",
    "      if link := extract_link(child):\n",
    "        return link\n",
    "\n",
    "  return None  # Return None if no valid link is found\n",
    "\n",
    "\n",
    "def get_link(curr_page: str) -> str | None:\n",
    "  response = requests.get(f'{BASE_URL}/{curr_page}')\n",
    "  soup = BeautifulSoup(response.text, \"html.parser\")\n",
    "\n",
    "  # Only from body\n",
    "  body_content = soup.find(class_=\"mw-content-ltr\")\n",
    "\n",
    "  def parse_body(el: Tag):\n",
    "    if str(el.name) == \"p\":\n",
    "      link = extract_link(el)\n",
    "      return link\n",
    "    elif str(el.name) in ('ol', 'ul'):\n",
    "      for li in el.find_all([\"li\"]):\n",
    "        link = extract_link(li)\n",
    "        return link\n",
    "\n",
    "  # For all sections\n",
    "  for section in body_content.children:\n",
    "    if section.name == 'meta':\n",
    "      for e in section.children:\n",
    "        if res := parse_body(e):\n",
    "          return res\n",
    "    else:\n",
    "      if res := parse_body(section):\n",
    "        return res\n",
    "\n",
    "  return None"
   ],
   "outputs": [],
   "execution_count": 176
  },
  {
   "metadata": {
    "ExecuteTime": {
     "end_time": "2025-02-26T01:56:40.606383Z",
     "start_time": "2025-02-26T01:56:40.602551Z"
    }
   },
   "cell_type": "code",
   "source": [
    "def play(start, target=\"/wiki/Philosophy\"):\n",
    "  \"\"\"Navigates from start Wikipedia page to target page using article links.\"\"\"\n",
    "  current = start\n",
    "  visited = set()\n",
    "  path = [start]\n",
    "\n",
    "  while current != target:\n",
    "    if current in visited:\n",
    "      # A loop occurred\n",
    "      return path\n",
    "\n",
    "    visited.add(current)\n",
    "    next_link = get_link(current)\n",
    "    path.append(next_link)\n",
    "\n",
    "    if not next_link:\n",
    "      # Stuck\n",
    "      return path\n",
    "\n",
    "    current = next_link\n",
    "    time.sleep(0.1)\n",
    "\n",
    "  return path"
   ],
   "outputs": [],
   "execution_count": 168
  },
  {
   "metadata": {
    "ExecuteTime": {
     "end_time": "2025-02-26T03:42:49.507221Z",
     "start_time": "2025-02-26T03:42:44.915394Z"
    }
   },
   "cell_type": "code",
   "source": [
    "# Test cases\n",
    "play('/wiki/Brigade_Commander_(video_game)')"
   ],
   "outputs": [
    {
     "data": {
      "text/plain": [
       "['/wiki/Brigade_Commander_(video_game)',\n",
       " '/wiki/Amiga_Action',\n",
       " '/wiki/Amiga',\n",
       " '/wiki/Personal_computer',\n",
       " '/wiki/Computer',\n",
       " '/wiki/Machine',\n",
       " '/wiki/Power_(physics)',\n",
       " '/wiki/Energy',\n",
       " '/wiki/Physical_quantity',\n",
       " '/wiki/Quantification_(science)',\n",
       " '/wiki/Mathematics',\n",
       " '/wiki/Mathematical_theory',\n",
       " '/wiki/Logical_reasoning',\n",
       " '/wiki/Mind',\n",
       " '/wiki/Thought',\n",
       " '/wiki/Cognition',\n",
       " '/wiki/Action_(philosophy)',\n",
       " '/wiki/Philosophy']"
      ]
     },
     "execution_count": 180,
     "metadata": {},
     "output_type": "execute_result"
    }
   ],
   "execution_count": 180
  },
  {
   "metadata": {
    "ExecuteTime": {
     "end_time": "2025-02-26T03:42:52.971040Z",
     "start_time": "2025-02-26T03:42:49.512634Z"
    }
   },
   "cell_type": "code",
   "source": "play('/wiki/Keretapi_Tanah_Melayu')",
   "outputs": [
    {
     "data": {
      "text/plain": [
       "['/wiki/Keretapi_Tanah_Melayu',\n",
       " '/wiki/Airline',\n",
       " '/wiki/Civil_aviation',\n",
       " '/wiki/Aviation',\n",
       " '/wiki/Flight',\n",
       " '/wiki/Motion_(physics)',\n",
       " '/wiki/Physics',\n",
       " '/wiki/Scientific',\n",
       " '/wiki/Scientific_method',\n",
       " '/wiki/Empirical_evidence',\n",
       " '/wiki/Evidence',\n",
       " '/wiki/Proposition',\n",
       " '/wiki/Philosophy_of_language',\n",
       " '/wiki/Philosophy']"
      ]
     },
     "execution_count": 181,
     "metadata": {},
     "output_type": "execute_result"
    }
   ],
   "execution_count": 181
  },
  {
   "metadata": {
    "ExecuteTime": {
     "end_time": "2025-02-26T03:42:53.051361Z",
     "start_time": "2025-02-26T03:42:52.978364Z"
    }
   },
   "cell_type": "code",
   "source": "play('/wiki/Ricky_Vallen')",
   "outputs": [
    {
     "data": {
      "text/plain": [
       "['/wiki/Ricky_Vallen', None]"
      ]
     },
     "execution_count": 182,
     "metadata": {},
     "output_type": "execute_result"
    }
   ],
   "execution_count": 182
  },
  {
   "metadata": {
    "ExecuteTime": {
     "end_time": "2025-02-26T03:42:29.825334Z",
     "start_time": "2025-02-26T03:42:26.478241Z"
    }
   },
   "cell_type": "code",
   "source": "play('/wiki/Yadav')  # (i)",
   "outputs": [
    {
     "data": {
      "text/plain": [
       "['/wiki/Yadav',\n",
       " '/wiki/Peasant',\n",
       " '/wiki/Pre-industrial_society',\n",
       " '/wiki/Industrial_Revolution',\n",
       " '/wiki/Second_Industrial_Revolution',\n",
       " '/wiki/Discovery_(observation)',\n",
       " '/wiki/Sciences',\n",
       " '/wiki/Scientific_method',\n",
       " '/wiki/Empirical_evidence',\n",
       " '/wiki/Evidence',\n",
       " '/wiki/Proposition',\n",
       " '/wiki/Philosophy_of_language',\n",
       " '/wiki/Philosophy']"
      ]
     },
     "execution_count": 178,
     "metadata": {},
     "output_type": "execute_result"
    }
   ],
   "execution_count": 178
  },
  {
   "metadata": {
    "ExecuteTime": {
     "end_time": "2025-02-26T03:42:19.565763Z",
     "start_time": "2025-02-26T03:42:13.859143Z"
    }
   },
   "cell_type": "code",
   "source": "play('/wiki/1953_Arab_Games')  # (ii)",
   "outputs": [
    {
     "data": {
      "text/plain": [
       "['/wiki/1953_Arab_Games',\n",
       " '/wiki/Arab_Games',\n",
       " '/wiki/Multi-sport_event',\n",
       " '/wiki/Sport',\n",
       " '/wiki/Physical_activity',\n",
       " '/wiki/Skeletal_muscle',\n",
       " '/wiki/Vertebrate',\n",
       " '/wiki/Animal',\n",
       " '/wiki/Multicellular',\n",
       " '/wiki/Organism',\n",
       " '/wiki/Life',\n",
       " '/wiki/Matter',\n",
       " '/wiki/Classical_physics',\n",
       " '/wiki/Physics',\n",
       " '/wiki/Scientific',\n",
       " '/wiki/Scientific_method',\n",
       " '/wiki/Empirical_evidence',\n",
       " '/wiki/Evidence',\n",
       " '/wiki/Proposition',\n",
       " '/wiki/Philosophy_of_language',\n",
       " '/wiki/Philosophy']"
      ]
     },
     "execution_count": 177,
     "metadata": {},
     "output_type": "execute_result"
    }
   ],
   "execution_count": 177
  },
  {
   "metadata": {
    "ExecuteTime": {
     "end_time": "2025-02-26T03:42:44.447713Z",
     "start_time": "2025-02-26T03:42:40.416060Z"
    }
   },
   "cell_type": "code",
   "source": "play('/wiki/Save_Me_(Silver_Convention_song)')  # (iii)",
   "outputs": [
    {
     "data": {
      "text/plain": [
       "['/wiki/Save_Me_(Silver_Convention_song)',\n",
       " '/wiki/Euro_disco',\n",
       " '/wiki/Electronic_dance_music',\n",
       " '/wiki/Electronic_music',\n",
       " '/wiki/Music_genre',\n",
       " '/wiki/Music',\n",
       " '/wiki/Sound',\n",
       " '/wiki/Physics',\n",
       " '/wiki/Scientific',\n",
       " '/wiki/Scientific_method',\n",
       " '/wiki/Empirical_evidence',\n",
       " '/wiki/Evidence',\n",
       " '/wiki/Proposition',\n",
       " '/wiki/Philosophy_of_language',\n",
       " '/wiki/Philosophy']"
      ]
     },
     "execution_count": 179,
     "metadata": {},
     "output_type": "execute_result"
    }
   ],
   "execution_count": 179
  },
  {
   "cell_type": "markdown",
   "metadata": {},
   "source": "__(b)__ Run this the game 200 times and report __(i)__ How often did you end with _Philosophy_? __(ii)__ What is the average and __(iii)__ maximum length of your games? __(iv)__ Print the ten most often visited articles and __(v)__ the number of all visited articles."
  },
  {
   "metadata": {
    "ExecuteTime": {
     "end_time": "2025-02-26T05:32:51.821802Z",
     "start_time": "2025-02-26T05:32:51.810612Z"
    }
   },
   "cell_type": "code",
   "source": [
    "import pandas as pd\n",
    "\n",
    "wikipedia_articles = [\n",
    "  \"/wiki/Python_(programming_language)\",\n",
    "  \"/wiki/Artificial_intelligence\",\n",
    "  \"/wiki/Machine_learning\",\n",
    "  \"/wiki/Deep_learning\",\n",
    "  \"/wiki/Neural_network\",\n",
    "  \"/wiki/Computer_vision\",\n",
    "  \"/wiki/Natural_language_processing\",\n",
    "  \"/wiki/Robotics\",\n",
    "  \"/wiki/Data_science\",\n",
    "  \"/wiki/Big_data\",\n",
    "  \"/wiki/Cloud_computing\",\n",
    "  \"/wiki/Cybersecurity\",\n",
    "  \"/wiki/Quantum_computing\",\n",
    "  \"/wiki/Internet_of_things\",\n",
    "  \"/wiki/Blockchain\",\n",
    "  \"/wiki/Cryptocurrency\",\n",
    "  \"/wiki/Virtual_reality\",\n",
    "  \"/wiki/Augmented_reality\",\n",
    "  \"/wiki/Software_engineering\",\n",
    "  \"/wiki/Operating_system\",\n",
    "  \"/wiki/Computer_network\",\n",
    "  \"/wiki/Database\",\n",
    "  \"/wiki/Algorithm\",\n",
    "  \"/wiki/Data_structure\",\n",
    "  \"/wiki/Programming_language\",\n",
    "  \"/wiki/Java_(programming_language)\",\n",
    "  \"/wiki/JavaScript\",\n",
    "  \"/wiki/C_(programming_language)\",\n",
    "  \"/wiki/C%2B%2B\",\n",
    "  \"/wiki/C_Sharp_(programming_language)\",\n",
    "  \"/wiki/Swift_(programming_language)\",\n",
    "  \"/wiki/Kotlin_(programming_language)\",\n",
    "  \"/wiki/Rust_(programming_language)\",\n",
    "  \"/wiki/Go_(programming_language)\",\n",
    "  \"/wiki/PHP\",\n",
    "  \"/wiki/R_(programming_language)\",\n",
    "  \"/wiki/SQL\",\n",
    "  \"/wiki/NoSQL\",\n",
    "  \"/wiki/Software_testing\",\n",
    "  \"/wiki/DevOps\",\n",
    "  \"/wiki/Continuous_integration\",\n",
    "  \"/wiki/Continuous_delivery\",\n",
    "  \"/wiki/Microservices\",\n",
    "  \"/wiki/Docker_(software)\",\n",
    "  \"/wiki/Kubernetes\",\n",
    "  \"/wiki/Cloud_native_computing\",\n",
    "  \"/wiki/Serverless_computing\",\n",
    "  \"/wiki/Edge_computing\",\n",
    "  \"/wiki/5G\",\n",
    "  \"/wiki/Wireless_network\",\n",
    "  \"/wiki/Artificial_general_intelligence\",\n",
    "  \"/wiki/Superintelligence\",\n",
    "  \"/wiki/Computer_graphics\",\n",
    "  \"/wiki/Game_development\",\n",
    "  \"/wiki/Unreal_Engine\",\n",
    "  \"/wiki/Unity_(game_engine)\",\n",
    "  \"/wiki/OpenGL\",\n",
    "  \"/wiki/Vulkan_(API)\",\n",
    "  \"/wiki/Web_development\",\n",
    "  \"/wiki/Frontend_and_backend\",\n",
    "  \"/wiki/React_(JavaScript_library)\",\n",
    "  \"/wiki/Angular_(web_framework)\",\n",
    "  \"/wiki/Vue.js\",\n",
    "  \"/wiki/Node.js\",\n",
    "  \"/wiki/Express.js\",\n",
    "  \"/wiki/Django_(web_framework)\",\n",
    "  \"/wiki/Flask_(web_framework)\",\n",
    "  \"/wiki/Ruby_on_Rails\",\n",
    "  \"/wiki/ASP.NET\",\n",
    "  \"/wiki/GraphQL\",\n",
    "  \"/wiki/RESTful_API\",\n",
    "  \"/wiki/Web_scraping\",\n",
    "  \"/wiki/Selenium_(software)\",\n",
    "  \"/wiki/Beautiful_Soup_(HTML_parser)\",\n",
    "  \"/wiki/Scrapy\",\n",
    "  \"/wiki/Data_mining\",\n",
    "  \"/wiki/BigQuery\",\n",
    "  \"/wiki/Spark_(software)\",\n",
    "  \"/wiki/Hadoop\",\n",
    "  \"/wiki/Elasticsearch\",\n",
    "  \"/wiki/Kibana\",\n",
    "  \"/wiki/Logstash\",\n",
    "  \"/wiki/Git\",\n",
    "  \"/wiki/GitHub\",\n",
    "  \"/wiki/GitLab\",\n",
    "  \"/wiki/Bitbucket\",\n",
    "  \"/wiki/Cybersecurity\",\n",
    "  \"/wiki/Ethical_hacking\",\n",
    "  \"/wiki/Penetration_testing\",\n",
    "  \"/wiki/Social_engineering_(security)\",\n",
    "  \"/wiki/Encryption\",\n",
    "  \"/wiki/Public-key_cryptography\",\n",
    "  \"/wiki/Symmetric-key_algorithm\",\n",
    "  \"/wiki/Hash_function\",\n",
    "  \"/wiki/Artificial_neural_network\",\n",
    "  \"/wiki/Recurrent_neural_network\",\n",
    "  \"/wiki/Convolutional_neural_network\",\n",
    "  \"/wiki/Generative_adversarial_network\",\n",
    "  \"/wiki/Transformer_(machine_learning_model)\",\n",
    "  \"/wiki/BERT_(language_model)\",\n",
    "  \"/wiki/GPT-3\",\n",
    "  \"/wiki/OpenAI\",\n",
    "  \"/wiki/TensorFlow\",\n",
    "  \"/wiki/PyTorch\",\n",
    "  \"/wiki/Keras\",\n",
    "  \"/wiki/Scikit-learn\",\n",
    "  \"/wiki/Pandas_(software)\",\n",
    "  \"/wiki/NumPy\",\n",
    "  \"/wiki/Matplotlib\",\n",
    "  \"/wiki/Seaborn_(software)\",\n",
    "  \"/wiki/Plotly\",\n",
    "  \"/wiki/LLM_(language_model)\",\n",
    "  \"/wiki/AutoML\",\n",
    "  \"/wiki/Federated_learning\",\n",
    "  \"/wiki/Edge_AI\",\n",
    "  \"/wiki/Reinforcement_learning\",\n",
    "  \"/wiki/Q-learning\",\n",
    "  \"/wiki/Markov_decision_process\",\n",
    "  \"/wiki/Monte_Carlo_method\",\n",
    "  \"/wiki/A_star_search_algorithm\",\n",
    "  \"/wiki/Minimax\",\n",
    "  \"/wiki/AlphaGo\",\n",
    "  \"/wiki/AlphaZero\",\n",
    "  \"/wiki/Chess_engine\",\n",
    "  \"/wiki/Stockfish_(chess)\",\n",
    "  \"/wiki/Leela_Chess_Zero\",\n",
    "  \"/wiki/Computer_science\",\n",
    "  \"/wiki/Discrete_mathematics\",\n",
    "  \"/wiki/Graph_theory\",\n",
    "  \"/wiki/Boolean_algebra\",\n",
    "  \"/wiki/Complexity_theory\",\n",
    "  \"/wiki/Turing_machine\",\n",
    "  \"/wiki/Computational_complexity_theory\",\n",
    "  \"/wiki/P_versus_NP_problem\",\n",
    "  \"/wiki/Halting_problem\",\n",
    "  \"/wiki/Quantum_algorithm\",\n",
    "  \"/wiki/Shor%27s_algorithm\",\n",
    "  \"/wiki/Grover%27s_algorithm\",\n",
    "  \"/wiki/Quantum_error_correction\",\n",
    "  \"/wiki/Quantum_supremacy\",\n",
    "  \"/wiki/Quantum_entanglement\",\n",
    "  \"/wiki/Quantum_cryptography\",\n",
    "  \"/wiki/Post-quantum_cryptography\",\n",
    "  \"/wiki/Information_theory\",\n",
    "  \"/wiki/Shannon_entropy\",\n",
    "  \"/wiki/Kolmogorov_complexity\",\n",
    "  \"/wiki/Chaos_theory\",\n",
    "  \"/wiki/Fractal\",\n",
    "  \"/wiki/Mandelbrot_set\",\n",
    "  \"/wiki/Lorenz_system\",\n",
    "  \"/wiki/Cellular_automaton\",\n",
    "  \"/wiki/Game_of_Life\",\n",
    "  \"/wiki/Evolutionary_algorithm\",\n",
    "  \"/wiki/Genetic_algorithm\",\n",
    "  \"/wiki/Swarm_intelligence\",\n",
    "  \"/wiki/Particle_swarm_optimization\",\n",
    "  \"/wiki/Ant_colony_optimization\",\n",
    "  \"/wiki/Neural_ODE\",\n",
    "  \"/wiki/Meta-learning\",\n",
    "  \"/wiki/Zero-shot_learning\",\n",
    "  \"/wiki/Few-shot_learning\",\n",
    "  \"/wiki/Civilization_VI\",\n",
    "  \"/wiki/Assembly_language\",\n",
    "  \"/wiki/Compiler\",\n",
    "  \"/wiki/Interpreter_(computing)\",\n",
    "  \"/wiki/Integrated_development_environment\",\n",
    "  \"/wiki/Version_control\",\n",
    "  \"/wiki/Continuous_deployment\",\n",
    "  \"/wiki/Agile_software_development\",\n",
    "  \"/wiki/Scrum_(software_development)\",\n",
    "  \"/wiki/Kanban_(development)\",\n",
    "  \"/wiki/Extreme_programming\",\n",
    "  \"/wiki/Software_architecture\",\n",
    "  \"/wiki/Design_pattern_(computer_science)\",\n",
    "  \"/wiki/Model%E2%80%93view%E2%80%93controller\",\n",
    "  \"/wiki/Service-oriented_architecture\",\n",
    "  \"/wiki/Representational_state_transfer\",\n",
    "  \"/wiki/Remote_procedure_call\",\n",
    "  \"/wiki/Aspect-oriented_programming\",\n",
    "  \"/wiki/Event-driven_programming\",\n",
    "  \"/wiki/Functional_programming\",\n",
    "  \"/wiki/Logic_programming\",\n",
    "  \"/wiki/Procedural_programming\",\n",
    "  \"/wiki/Object-oriented_programming\",\n",
    "  \"/wiki/Concurrent_computing\",\n",
    "  \"/wiki/Parallel_computing\",\n",
    "  \"/wiki/Distributed_computing\",\n",
    "  \"/wiki/Grid_computing\",\n",
    "  \"/wiki/Cluster_computing\",\n",
    "  \"/wiki/Supercomputer\",\n",
    "  \"/wiki/Green_computing\",\n",
    "  \"/wiki/High-performance_computing\",\n",
    "  \"/wiki/Embedded_system\",\n",
    "  \"/wiki/Real-time_computing\",\n",
    "  \"/wiki/Ubiquitous_computing\",\n",
    "  \"/wiki/Pervasive_computing\",\n",
    "  \"/wiki/Human%E2%80%93computer_interaction\",\n",
    "  \"/wiki/Usability\",\n",
    "  \"/wiki/User_experience_design\",\n",
    "  \"/wiki/Information_retrieval\",\n",
    "]\n",
    "\n",
    "df = pd.DataFrame(wikipedia_articles, columns=[\"Wikipedia_Article\"])\n",
    "df.head()"
   ],
   "outputs": [
    {
     "data": {
      "text/plain": [
       "                     Wikipedia_Article\n",
       "0  /wiki/Python_(programming_language)\n",
       "1        /wiki/Artificial_intelligence\n",
       "2               /wiki/Machine_learning\n",
       "3                  /wiki/Deep_learning\n",
       "4                 /wiki/Neural_network"
      ],
      "text/html": [
       "<div>\n",
       "<style scoped>\n",
       "    .dataframe tbody tr th:only-of-type {\n",
       "        vertical-align: middle;\n",
       "    }\n",
       "\n",
       "    .dataframe tbody tr th {\n",
       "        vertical-align: top;\n",
       "    }\n",
       "\n",
       "    .dataframe thead th {\n",
       "        text-align: right;\n",
       "    }\n",
       "</style>\n",
       "<table border=\"1\" class=\"dataframe\">\n",
       "  <thead>\n",
       "    <tr style=\"text-align: right;\">\n",
       "      <th></th>\n",
       "      <th>Wikipedia_Article</th>\n",
       "    </tr>\n",
       "  </thead>\n",
       "  <tbody>\n",
       "    <tr>\n",
       "      <th>0</th>\n",
       "      <td>/wiki/Python_(programming_language)</td>\n",
       "    </tr>\n",
       "    <tr>\n",
       "      <th>1</th>\n",
       "      <td>/wiki/Artificial_intelligence</td>\n",
       "    </tr>\n",
       "    <tr>\n",
       "      <th>2</th>\n",
       "      <td>/wiki/Machine_learning</td>\n",
       "    </tr>\n",
       "    <tr>\n",
       "      <th>3</th>\n",
       "      <td>/wiki/Deep_learning</td>\n",
       "    </tr>\n",
       "    <tr>\n",
       "      <th>4</th>\n",
       "      <td>/wiki/Neural_network</td>\n",
       "    </tr>\n",
       "  </tbody>\n",
       "</table>\n",
       "</div>"
      ]
     },
     "execution_count": 260,
     "metadata": {},
     "output_type": "execute_result"
    }
   ],
   "execution_count": 260
  },
  {
   "metadata": {},
   "cell_type": "markdown",
   "source": "__(c)__ Print the articles that you obtain when starting from _Philosophy_."
  },
  {
   "metadata": {
    "ExecuteTime": {
     "end_time": "2025-02-26T01:59:15.349824Z",
     "start_time": "2025-02-26T01:59:15.346295Z"
    }
   },
   "cell_type": "code",
   "outputs": [
    {
     "data": {
      "text/plain": [
       "['/wiki/Philosophy']"
      ]
     },
     "execution_count": 172,
     "metadata": {},
     "output_type": "execute_result"
    }
   ],
   "execution_count": 172,
   "source": "play('/wiki/Philosophy')"
  }
 ],
 "metadata": {
  "celltoolbar": "Tags",
  "kernelspec": {
   "display_name": "sta141b",
   "language": "python",
   "name": "python3"
  },
  "language_info": {
   "codemirror_mode": {
    "name": "ipython",
    "version": 3
   },
   "file_extension": ".py",
   "mimetype": "text/x-python",
   "name": "python",
   "nbconvert_exporter": "python",
   "pygments_lexer": "ipython3",
   "version": "3.12.8"
  }
 },
 "nbformat": 4,
 "nbformat_minor": 4
}
