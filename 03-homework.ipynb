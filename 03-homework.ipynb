{
 "cells": [
  {
   "cell_type": "markdown",
   "metadata": {
    "tags": [
     "header"
    ]
   },
   "source": [
    "# STA 141B WQ 25 Homework Assignment 2\n",
    "\n",
    "## Instructions\n",
    "\n",
    "- Complete the exercises below. Create more code chunks if necessary. Answer all questions. Show results for both the *test* and *run* cases.\n",
    "- Export the Jupyter Notebook as an PDF file.\n",
    "- Submit the PDF by **Sunday, February 23, at 11:59 PM PT** to Gradescope.\n",
    "- For each exercise, indicate the region of your answer in the PDF to facilitate grading. \n",
    "\n",
    "## Additional information\n",
    "\n",
    "- Complete this worksheet yourself. \n",
    "- You may use the internet or discuss possible approaches to solve the problems with other students. You are not allowed to share your code or your answers with other students.\n",
    "- No other libraries than those explicitly allowed can be used. \n",
    "- Use code cells for your Python scripts and Markdown cells for explanatory text or answers to non-coding questions. Answer all textual questions in complete sentences.\n",
    "- Late homework submissions will not be accepted. No submissions will be accepted by email.\n",
    "- The total number of points for this assignment is 20. You can earn 5 bonus points. "
   ]
  },
  {
   "cell_type": "markdown",
   "metadata": {},
   "source": [
    "__Exercise 1__\n",
    "\n",
    "As a public organization, the compensations of employees of all institutions of the University of California are freely accessible. These reports cover UC's career faculty and staff employees, as well as part-time, temporary and student employees. It is accessible [here](https://ucannualwage.ucop.edu). Internally, the data requested by the search mask is queried using an undocumented API. For this exercise, you may use: \n",
    "```\n",
    "import requests\n",
    "import pandas\n",
    "\n",
    "from json import loads\n",
    "```\n",
    "\n",
    "_Hint: If you encounter an error when parsing the data, try to use string methods (e.g., `str.replace`) to deal with them._"
   ]
  },
  {
   "cell_type": "markdown",
   "metadata": {},
   "source": [
    "__(a)__ Get the compensation information of all UC Irvine professors in 2023. How many entries are being returned?"
   ]
  },
  {
   "cell_type": "code",
   "metadata": {
    "ExecuteTime": {
     "end_time": "2025-02-23T06:23:15.262412Z",
     "start_time": "2025-02-23T06:23:13.936295Z"
    }
   },
   "source": [
    "from selenium import webdriver\n",
    "from selenium.webdriver.common.by import By\n",
    "from selenium.webdriver.support import expected_conditions as EC\n",
    "from selenium.webdriver.support.ui import Select\n",
    "from selenium.webdriver.support.ui import WebDriverWait\n",
    "\n",
    "# Would use APIs to request this data, but CORS :/\n",
    "# So instead we will inject a script on browser side to bypass CORS and scrape the data\n",
    "\n",
    "# Start WebDriver\n",
    "driver = webdriver.Chrome()\n",
    "driver.get(\"https://ucannualwage.ucop.edu/wage/\")\n",
    "wait = WebDriverWait(driver, 10)\n",
    "\n",
    "# Wait until the year element is present\n",
    "select_element = wait.until(EC.presence_of_element_located((By.ID, \"year\")))\n",
    "\n",
    "# Select 2023\n",
    "dropdown = Select(select_element)\n",
    "dropdown.select_by_visible_text(\"2023\")\n",
    "\n",
    "# Wait until the Location element is present\n",
    "select_element = wait.until(EC.presence_of_element_located((By.ID, \"location\")))\n",
    "\n",
    "# Select Irvine\n",
    "dropdown = Select(select_element)\n",
    "dropdown.select_by_visible_text(\"Irvine\")"
   ],
   "outputs": [],
   "execution_count": 1
  },
  {
   "metadata": {
    "ExecuteTime": {
     "end_time": "2025-02-23T06:23:18.188307Z",
     "start_time": "2025-02-23T06:23:18.179600Z"
    }
   },
   "cell_type": "code",
   "source": [
    "# Do search\n",
    "driver.execute_script(\"\"\"\n",
    "jQuery(document).ready(function() {\n",
    "    jQuery(\"#list2\").jqGrid('setGridParam', {\n",
    "        rowNum: 32212, // Common way to communicate no limit is -1, but the given server does not support it.\n",
    "        // Also tried setting loadonce: true, but server expects Pagination, so this property also doesn't work\n",
    "    });\n",
    "\n",
    "    doSearch();\n",
    "});\n",
    "\"\"\")"
   ],
   "outputs": [],
   "execution_count": 2
  },
  {
   "metadata": {
    "ExecuteTime": {
     "end_time": "2025-02-23T06:24:28.426695Z",
     "start_time": "2025-02-23T06:23:23.744786Z"
    }
   },
   "cell_type": "code",
   "source": [
    "# Extract table html\n",
    "table = driver.find_element(By.ID, 'list2')\n",
    "table_html = table.get_attribute('outerHTML')"
   ],
   "outputs": [],
   "execution_count": 3
  },
  {
   "metadata": {
    "ExecuteTime": {
     "end_time": "2025-02-23T06:24:30.626Z",
     "start_time": "2025-02-23T06:24:28.466851Z"
    }
   },
   "cell_type": "code",
   "source": [
    "from io import StringIO\n",
    "import pandas as pd\n",
    "\n",
    "# Convert to Pandas DF\n",
    "table_html_io = StringIO(table_html)\n",
    "df = pd.read_html(table_html_io)[0]"
   ],
   "outputs": [],
   "execution_count": 4
  },
  {
   "metadata": {
    "ExecuteTime": {
     "end_time": "2025-02-23T06:24:30.699454Z",
     "start_time": "2025-02-23T06:24:30.630860Z"
    }
   },
   "cell_type": "code",
   "source": [
    "# Get column names\n",
    "header = driver.find_element(By.XPATH, \"//table[@class='ui-jqgrid-htable']\")\n",
    "header_html = header.get_attribute('outerHTML')\n",
    "header_html_io = StringIO(header_html)\n",
    "header_df = pd.read_html(header_html_io)[0]\n",
    "\n",
    "df.columns = header_df.columns\n",
    "df.head()"
   ],
   "outputs": [
    {
     "data": {
      "text/plain": [
       "   Unnamed: 0  Year Location First Name Last Name             Title  \\\n",
       "0           1  2023   Irvine      *****     *****            STDT 4   \n",
       "1           2  2023   Irvine      *****     *****            STDT 4   \n",
       "2           3  2023   Irvine      *****     *****        GSR-NO REM   \n",
       "3           4  2023   Irvine      *****     *****  GSR-FULL FEE REM   \n",
       "4           5  2023   Irvine      *****     *****  POSTDOC-EMPLOYEE   \n",
       "\n",
       "   Gross Pay  Regular Pay  Overtime Pay  OtherPay  \n",
       "0     1907.0       1907.0           0.0       0.0  \n",
       "1     1414.0       1414.0           0.0       0.0  \n",
       "2    22701.0      22701.0           0.0       0.0  \n",
       "3    28302.0      28302.0           0.0       0.0  \n",
       "4    60799.0      60799.0           0.0       0.0  "
      ],
      "text/html": [
       "<div>\n",
       "<style scoped>\n",
       "    .dataframe tbody tr th:only-of-type {\n",
       "        vertical-align: middle;\n",
       "    }\n",
       "\n",
       "    .dataframe tbody tr th {\n",
       "        vertical-align: top;\n",
       "    }\n",
       "\n",
       "    .dataframe thead th {\n",
       "        text-align: right;\n",
       "    }\n",
       "</style>\n",
       "<table border=\"1\" class=\"dataframe\">\n",
       "  <thead>\n",
       "    <tr style=\"text-align: right;\">\n",
       "      <th></th>\n",
       "      <th>Unnamed: 0</th>\n",
       "      <th>Year</th>\n",
       "      <th>Location</th>\n",
       "      <th>First Name</th>\n",
       "      <th>Last Name</th>\n",
       "      <th>Title</th>\n",
       "      <th>Gross Pay</th>\n",
       "      <th>Regular Pay</th>\n",
       "      <th>Overtime Pay</th>\n",
       "      <th>OtherPay</th>\n",
       "    </tr>\n",
       "  </thead>\n",
       "  <tbody>\n",
       "    <tr>\n",
       "      <th>0</th>\n",
       "      <td>1</td>\n",
       "      <td>2023</td>\n",
       "      <td>Irvine</td>\n",
       "      <td>*****</td>\n",
       "      <td>*****</td>\n",
       "      <td>STDT 4</td>\n",
       "      <td>1907.0</td>\n",
       "      <td>1907.0</td>\n",
       "      <td>0.0</td>\n",
       "      <td>0.0</td>\n",
       "    </tr>\n",
       "    <tr>\n",
       "      <th>1</th>\n",
       "      <td>2</td>\n",
       "      <td>2023</td>\n",
       "      <td>Irvine</td>\n",
       "      <td>*****</td>\n",
       "      <td>*****</td>\n",
       "      <td>STDT 4</td>\n",
       "      <td>1414.0</td>\n",
       "      <td>1414.0</td>\n",
       "      <td>0.0</td>\n",
       "      <td>0.0</td>\n",
       "    </tr>\n",
       "    <tr>\n",
       "      <th>2</th>\n",
       "      <td>3</td>\n",
       "      <td>2023</td>\n",
       "      <td>Irvine</td>\n",
       "      <td>*****</td>\n",
       "      <td>*****</td>\n",
       "      <td>GSR-NO REM</td>\n",
       "      <td>22701.0</td>\n",
       "      <td>22701.0</td>\n",
       "      <td>0.0</td>\n",
       "      <td>0.0</td>\n",
       "    </tr>\n",
       "    <tr>\n",
       "      <th>3</th>\n",
       "      <td>4</td>\n",
       "      <td>2023</td>\n",
       "      <td>Irvine</td>\n",
       "      <td>*****</td>\n",
       "      <td>*****</td>\n",
       "      <td>GSR-FULL FEE REM</td>\n",
       "      <td>28302.0</td>\n",
       "      <td>28302.0</td>\n",
       "      <td>0.0</td>\n",
       "      <td>0.0</td>\n",
       "    </tr>\n",
       "    <tr>\n",
       "      <th>4</th>\n",
       "      <td>5</td>\n",
       "      <td>2023</td>\n",
       "      <td>Irvine</td>\n",
       "      <td>*****</td>\n",
       "      <td>*****</td>\n",
       "      <td>POSTDOC-EMPLOYEE</td>\n",
       "      <td>60799.0</td>\n",
       "      <td>60799.0</td>\n",
       "      <td>0.0</td>\n",
       "      <td>0.0</td>\n",
       "    </tr>\n",
       "  </tbody>\n",
       "</table>\n",
       "</div>"
      ]
     },
     "execution_count": 5,
     "metadata": {},
     "output_type": "execute_result"
    }
   ],
   "execution_count": 5
  },
  {
   "metadata": {
    "ExecuteTime": {
     "end_time": "2025-02-23T06:24:30.782813Z",
     "start_time": "2025-02-23T06:24:30.719586Z"
    }
   },
   "cell_type": "code",
   "source": [
    "# save the DF\n",
    "df.to_csv('HW3E1.csv')"
   ],
   "outputs": [],
   "execution_count": 6
  },
  {
   "metadata": {
    "ExecuteTime": {
     "end_time": "2025-02-23T06:24:30.994823Z",
     "start_time": "2025-02-23T06:24:30.820002Z"
    }
   },
   "cell_type": "code",
   "source": [
    "# Close browser\n",
    "driver.quit()"
   ],
   "outputs": [],
   "execution_count": 7
  },
  {
   "metadata": {
    "ExecuteTime": {
     "end_time": "2025-02-23T06:24:31.063958Z",
     "start_time": "2025-02-23T06:24:31.061919Z"
    }
   },
   "cell_type": "code",
   "source": [
    "# get the number of entries\n",
    "num_entries = df.shape[0]\n",
    "\n",
    "f\"Number of entries: {num_entries}\""
   ],
   "outputs": [
    {
     "data": {
      "text/plain": [
       "'Number of entries: 32212'"
      ]
     },
     "execution_count": 8,
     "metadata": {},
     "output_type": "execute_result"
    }
   ],
   "execution_count": 8
  },
  {
   "metadata": {},
   "cell_type": "markdown",
   "source": [
    "__BONUS__\n",
    "\n",
    "__(b, i)__ Use the [UCI directory](https://directory.uci.edu/) to learn each professors department, if available. How many professors with departments information do you find? __(ii)__ Find the four departments that have the largest average gross pay, and the four departments that have the largest average base pay."
   ]
  },
  {
   "metadata": {},
   "cell_type": "code",
   "outputs": [],
   "execution_count": null,
   "source": "# TODO: ??"
  },
  {
   "cell_type": "markdown",
   "metadata": {
    "tags": [
     "exercise"
    ]
   },
   "source": [
    "__Exercise 2__\n",
    "\n",
    "Lets play a variation of the [wiki game](https://en.wikipedia.org/wiki/Wikipedia:Wiki_Game) to learn about [this](https://en.wikipedia.org/wiki/Wikipedia:Getting_to_Philosophy) phenomenon. The rules are as follows: \n",
    " - Start using either a provided article or the random article link (wiki menu on the left hand side)\n",
    " - Click on the first non-italicized link outside of parentheses and info-boxes\n",
    " - Ignore external links (e.g., `/wiki/File:...` or `/wiki/Category:...`)\n",
    " - Stop when reaching \"Philosophy\", a dead end (page with no links, this should return `None`) or when a loop occurs\n",
    " \n",
    "Use the test cases below to check your code: \n",
    "\n",
    "```python\n",
    ">play('/wiki/Brigade_Commander_(video_game)')\n",
    "['/wiki/Brigade_Commander_(video_game)',\n",
    " '/wiki/Amiga_Action',\n",
    " '/wiki/Amiga',\n",
    " '/wiki/Personal_computer',\n",
    " '/wiki/Computer',\n",
    " '/wiki/Machine',\n",
    " '/wiki/Power_(physics)',\n",
    " '/wiki/Energy',\n",
    " '/wiki/Physical_quantity',\n",
    " '/wiki/Quantification_(science)',\n",
    " '/wiki/Mathematics',\n",
    " '/wiki/Mathematical_theory',\n",
    " '/wiki/Reason',\n",
    " '/wiki/Consciousness',\n",
    " '/wiki/Awareness',\n",
    " '/wiki/Philosophy']\n",
    "\n",
    ">play('/wiki/Keretapi_Tanah_Melayu')\n",
    "['/wiki/Keretapi_Tanah_Melayu',\n",
    " '/wiki/Airline',\n",
    " '/wiki/Civil_aviation',\n",
    " '/wiki/Aviation',\n",
    " '/wiki/Flight',\n",
    " '/wiki/Motion_(physics)',\n",
    " '/wiki/Physics',\n",
    " '/wiki/Scientific',\n",
    " '/wiki/Scientific_method',\n",
    " '/wiki/Empirical_evidence',\n",
    " '/wiki/Evidence',\n",
    " '/wiki/Proposition',\n",
    " '/wiki/Philosophy_of_language',\n",
    " '/wiki/Language',\n",
    " '/wiki/Communication',\n",
    " '/wiki/Information',\n",
    " '/wiki/Abstraction',\n",
    " '/wiki/Rule_of_inference',\n",
    " '/wiki/Philosophy_of_logic',\n",
    " '/wiki/Philosophy']\n",
    "\n",
    ">play('/wiki/Robert_Alfred_Tarlton')\n",
    "['/wiki/Robert_Alfred_Tarlton',\n",
    " '/wiki/Birmingham',\n",
    " '/wiki/City_status_in_the_United_Kingdom',\n",
    " '/wiki/The_Crown',\n",
    " '/wiki/State_(polity)',\n",
    " '/wiki/Politics',\n",
    " '/wiki/Decision-making',\n",
    " '/wiki/Psychology',\n",
    " '/wiki/Mind',\n",
    " '/wiki/Thought',\n",
    " '/wiki/Cognition',\n",
    " '/wiki/Action_(philosophy)',\n",
    " '/wiki/Philosophy']\n",
    "\n",
    ">play('/wiki/Ricky_Vallen')\n",
    "['/wiki/Ricky_Vallen', None]\n",
    "```"
   ]
  },
  {
   "cell_type": "markdown",
   "metadata": {},
   "source": [
    "__(a)__ Run: \n",
    "    \n",
    "```python\n",
    "play('/wiki/Yadav') # (i)\n",
    "play('/wiki/1953_Arab_Games') # (ii)\n",
    "play('/wiki/Save_Me_(Silver_Convention_song)') # (iii)\n",
    "```"
   ]
  },
  {
   "metadata": {
    "ExecuteTime": {
     "end_time": "2025-02-26T01:41:57.156159Z",
     "start_time": "2025-02-26T01:41:57.153816Z"
    }
   },
   "cell_type": "code",
   "source": [
    "import requests\n",
    "from bs4 import BeautifulSoup, Tag, NavigableString\n",
    "import time"
   ],
   "outputs": [],
   "execution_count": 129
  },
  {
   "metadata": {
    "ExecuteTime": {
     "end_time": "2025-02-26T01:52:00.088897Z",
     "start_time": "2025-02-26T01:52:00.085725Z"
    }
   },
   "cell_type": "code",
   "source": [
    "def debug_children(content: BeautifulSoup):\n",
    "  with open(\"output.html\", \"w\") as file:\n",
    "    # Write each child of the body_content element to the file\n",
    "    for child in content.children:\n",
    "        file.write(str(child.name))  # Convert each child to a string\n",
    "        file.write('<br/>')"
   ],
   "outputs": [],
   "execution_count": 157
  },
  {
   "metadata": {
    "ExecuteTime": {
     "end_time": "2025-02-26T03:42:06.997555Z",
     "start_time": "2025-02-26T03:42:06.991182Z"
    }
   },
   "cell_type": "code",
   "source": [
    "BASE_URL = 'https://en.wikipedia.org'\n",
    "\n",
    "def extract_link(e: Tag) -> str | None:\n",
    "    parenthesis_count = 0\n",
    "\n",
    "    for child in e.children:\n",
    "      if isinstance(child, NavigableString):\n",
    "        for char in child:\n",
    "          if char == '(':\n",
    "            parenthesis_count += 1\n",
    "          elif char == ')':\n",
    "            parenthesis_count -= 1\n",
    "      elif child.name == \"a\" and child.has_attr(\"href\"):\n",
    "        href = child[\"href\"]\n",
    "\n",
    "        # Valid link linking to another article\n",
    "        if not href.startswith(\"/wiki/\"):\n",
    "          continue\n",
    "        if \":\" in href:\n",
    "          continue\n",
    "\n",
    "        # Not in parentheses\n",
    "        if parenthesis_count > 0:\n",
    "          continue\n",
    "\n",
    "        return href\n",
    "      elif not child.name == \"i\" and parenthesis_count == 0:\n",
    "        if link := extract_link(child):\n",
    "          return link\n",
    "\n",
    "    return None  # Return None if no valid link is found\n",
    "\n",
    "def get_link(curr_page: str) -> str | None:\n",
    "  response = requests.get(f'{BASE_URL}/{curr_page}')\n",
    "  soup = BeautifulSoup(response.text, \"html.parser\")\n",
    "\n",
    "  # Only from body\n",
    "  body_content = soup.find(class_=\"mw-content-ltr\")\n",
    "\n",
    "  def parse_body(el: Tag):\n",
    "    if str(el.name) == \"p\":\n",
    "      link = extract_link(el)\n",
    "      return link\n",
    "    elif str(el.name) in ('ol', 'ul'):\n",
    "      debug_children(el)\n",
    "      for li in el.find_all([\"li\"]):\n",
    "        link = extract_link(li)\n",
    "        return link\n",
    "\n",
    "  # For all sections\n",
    "  for section in body_content.children:\n",
    "    if section.name == 'meta':\n",
    "      for e in section.children:\n",
    "        if res := parse_body(e):\n",
    "          return res\n",
    "    else:\n",
    "      if res := parse_body(section):\n",
    "          return res\n",
    "\n",
    "  return None"
   ],
   "outputs": [],
   "execution_count": 176
  },
  {
   "metadata": {
    "ExecuteTime": {
     "end_time": "2025-02-26T01:56:40.606383Z",
     "start_time": "2025-02-26T01:56:40.602551Z"
    }
   },
   "cell_type": "code",
   "source": [
    "def play(start, target = \"/wiki/Philosophy\"):\n",
    "  \"\"\"Navigates from start Wikipedia page to target page using article links.\"\"\"\n",
    "  current = start\n",
    "  visited = set()\n",
    "  path = [start]\n",
    "\n",
    "  while current != target:\n",
    "    if current in visited:\n",
    "      # A loop occurred\n",
    "      return path\n",
    "\n",
    "    visited.add(current)\n",
    "    next_link = get_link(current)\n",
    "    path.append(next_link)\n",
    "\n",
    "    if not next_link:\n",
    "      # Stuck\n",
    "      return path\n",
    "\n",
    "    current = next_link\n",
    "    time.sleep(0.1)\n",
    "\n",
    "  return path"
   ],
   "outputs": [],
   "execution_count": 168
  },
  {
   "metadata": {
    "ExecuteTime": {
     "end_time": "2025-02-26T03:42:49.507221Z",
     "start_time": "2025-02-26T03:42:44.915394Z"
    }
   },
   "cell_type": "code",
   "source": [
    "# Test cases\n",
    "play('/wiki/Brigade_Commander_(video_game)')"
   ],
   "outputs": [
    {
     "data": {
      "text/plain": [
       "['/wiki/Brigade_Commander_(video_game)',\n",
       " '/wiki/Amiga_Action',\n",
       " '/wiki/Amiga',\n",
       " '/wiki/Personal_computer',\n",
       " '/wiki/Computer',\n",
       " '/wiki/Machine',\n",
       " '/wiki/Power_(physics)',\n",
       " '/wiki/Energy',\n",
       " '/wiki/Physical_quantity',\n",
       " '/wiki/Quantification_(science)',\n",
       " '/wiki/Mathematics',\n",
       " '/wiki/Mathematical_theory',\n",
       " '/wiki/Logical_reasoning',\n",
       " '/wiki/Mind',\n",
       " '/wiki/Thought',\n",
       " '/wiki/Cognition',\n",
       " '/wiki/Action_(philosophy)',\n",
       " '/wiki/Philosophy']"
      ]
     },
     "execution_count": 180,
     "metadata": {},
     "output_type": "execute_result"
    }
   ],
   "execution_count": 180
  },
  {
   "metadata": {
    "ExecuteTime": {
     "end_time": "2025-02-26T03:42:52.971040Z",
     "start_time": "2025-02-26T03:42:49.512634Z"
    }
   },
   "cell_type": "code",
   "source": "play('/wiki/Keretapi_Tanah_Melayu')",
   "outputs": [
    {
     "data": {
      "text/plain": [
       "['/wiki/Keretapi_Tanah_Melayu',\n",
       " '/wiki/Airline',\n",
       " '/wiki/Civil_aviation',\n",
       " '/wiki/Aviation',\n",
       " '/wiki/Flight',\n",
       " '/wiki/Motion_(physics)',\n",
       " '/wiki/Physics',\n",
       " '/wiki/Scientific',\n",
       " '/wiki/Scientific_method',\n",
       " '/wiki/Empirical_evidence',\n",
       " '/wiki/Evidence',\n",
       " '/wiki/Proposition',\n",
       " '/wiki/Philosophy_of_language',\n",
       " '/wiki/Philosophy']"
      ]
     },
     "execution_count": 181,
     "metadata": {},
     "output_type": "execute_result"
    }
   ],
   "execution_count": 181
  },
  {
   "metadata": {
    "ExecuteTime": {
     "end_time": "2025-02-26T03:42:53.051361Z",
     "start_time": "2025-02-26T03:42:52.978364Z"
    }
   },
   "cell_type": "code",
   "source": "play('/wiki/Ricky_Vallen')",
   "outputs": [
    {
     "data": {
      "text/plain": [
       "['/wiki/Ricky_Vallen', None]"
      ]
     },
     "execution_count": 182,
     "metadata": {},
     "output_type": "execute_result"
    }
   ],
   "execution_count": 182
  },
  {
   "metadata": {
    "ExecuteTime": {
     "end_time": "2025-02-26T03:42:29.825334Z",
     "start_time": "2025-02-26T03:42:26.478241Z"
    }
   },
   "cell_type": "code",
   "source": "play('/wiki/Yadav') # (i)",
   "outputs": [
    {
     "data": {
      "text/plain": [
       "['/wiki/Yadav',\n",
       " '/wiki/Peasant',\n",
       " '/wiki/Pre-industrial_society',\n",
       " '/wiki/Industrial_Revolution',\n",
       " '/wiki/Second_Industrial_Revolution',\n",
       " '/wiki/Discovery_(observation)',\n",
       " '/wiki/Sciences',\n",
       " '/wiki/Scientific_method',\n",
       " '/wiki/Empirical_evidence',\n",
       " '/wiki/Evidence',\n",
       " '/wiki/Proposition',\n",
       " '/wiki/Philosophy_of_language',\n",
       " '/wiki/Philosophy']"
      ]
     },
     "execution_count": 178,
     "metadata": {},
     "output_type": "execute_result"
    }
   ],
   "execution_count": 178
  },
  {
   "metadata": {
    "ExecuteTime": {
     "end_time": "2025-02-26T03:42:19.565763Z",
     "start_time": "2025-02-26T03:42:13.859143Z"
    }
   },
   "cell_type": "code",
   "source": "play('/wiki/1953_Arab_Games') # (ii)",
   "outputs": [
    {
     "data": {
      "text/plain": [
       "['/wiki/1953_Arab_Games',\n",
       " '/wiki/Arab_Games',\n",
       " '/wiki/Multi-sport_event',\n",
       " '/wiki/Sport',\n",
       " '/wiki/Physical_activity',\n",
       " '/wiki/Skeletal_muscle',\n",
       " '/wiki/Vertebrate',\n",
       " '/wiki/Animal',\n",
       " '/wiki/Multicellular',\n",
       " '/wiki/Organism',\n",
       " '/wiki/Life',\n",
       " '/wiki/Matter',\n",
       " '/wiki/Classical_physics',\n",
       " '/wiki/Physics',\n",
       " '/wiki/Scientific',\n",
       " '/wiki/Scientific_method',\n",
       " '/wiki/Empirical_evidence',\n",
       " '/wiki/Evidence',\n",
       " '/wiki/Proposition',\n",
       " '/wiki/Philosophy_of_language',\n",
       " '/wiki/Philosophy']"
      ]
     },
     "execution_count": 177,
     "metadata": {},
     "output_type": "execute_result"
    }
   ],
   "execution_count": 177
  },
  {
   "metadata": {
    "ExecuteTime": {
     "end_time": "2025-02-26T03:42:44.447713Z",
     "start_time": "2025-02-26T03:42:40.416060Z"
    }
   },
   "cell_type": "code",
   "source": "play('/wiki/Save_Me_(Silver_Convention_song)') # (iii)",
   "outputs": [
    {
     "data": {
      "text/plain": [
       "['/wiki/Save_Me_(Silver_Convention_song)',\n",
       " '/wiki/Euro_disco',\n",
       " '/wiki/Electronic_dance_music',\n",
       " '/wiki/Electronic_music',\n",
       " '/wiki/Music_genre',\n",
       " '/wiki/Music',\n",
       " '/wiki/Sound',\n",
       " '/wiki/Physics',\n",
       " '/wiki/Scientific',\n",
       " '/wiki/Scientific_method',\n",
       " '/wiki/Empirical_evidence',\n",
       " '/wiki/Evidence',\n",
       " '/wiki/Proposition',\n",
       " '/wiki/Philosophy_of_language',\n",
       " '/wiki/Philosophy']"
      ]
     },
     "execution_count": 179,
     "metadata": {},
     "output_type": "execute_result"
    }
   ],
   "execution_count": 179
  },
  {
   "cell_type": "markdown",
   "metadata": {},
   "source": "__(b)__ Run this the game 200 times and report __(i)__ How often did you end with _Philosophy_? __(ii)__ What is the average and __(iii)__ maximum length of your games? __(iv)__ Print the ten most often visited articles and __(v)__ the number of all visited articles."
  },
  {
   "metadata": {},
   "cell_type": "code",
   "outputs": [],
   "execution_count": null,
   "source": "# TODO"
  },
  {
   "metadata": {},
   "cell_type": "markdown",
   "source": "__(c)__ Print the articles that you obtain when starting from _Philosophy_."
  },
  {
   "metadata": {
    "ExecuteTime": {
     "end_time": "2025-02-26T01:59:15.349824Z",
     "start_time": "2025-02-26T01:59:15.346295Z"
    }
   },
   "cell_type": "code",
   "outputs": [
    {
     "data": {
      "text/plain": [
       "['/wiki/Philosophy']"
      ]
     },
     "execution_count": 172,
     "metadata": {},
     "output_type": "execute_result"
    }
   ],
   "execution_count": 172,
   "source": "play('/wiki/Philosophy')"
  }
 ],
 "metadata": {
  "celltoolbar": "Tags",
  "kernelspec": {
   "display_name": "sta141b",
   "language": "python",
   "name": "python3"
  },
  "language_info": {
   "codemirror_mode": {
    "name": "ipython",
    "version": 3
   },
   "file_extension": ".py",
   "mimetype": "text/x-python",
   "name": "python",
   "nbconvert_exporter": "python",
   "pygments_lexer": "ipython3",
   "version": "3.12.8"
  }
 },
 "nbformat": 4,
 "nbformat_minor": 4
}
