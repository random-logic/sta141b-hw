{
 "cells": [
  {
   "cell_type": "markdown",
   "id": "ea74de81",
   "metadata": {
    "tags": [
     "header"
    ]
   },
   "source": [
    "# STA 141B FQ 25 Homework Assignment 4\n",
    "\n",
    "## Instructions\n",
    "\n",
    "- Complete the exercises below. Create more code chunks if necessary. Answer all questions. Show results for both the *test* and *run* cases.\n",
    "- Export the Jupyter Notebook as an PDF file.\n",
    "- Submit the PDF by **Sunday, March 9th, at 11:59 PM PT** to [Gradescope](https://www.gradescope.com/courses/947485). \n",
    "- For each exercise, indicate the region of your answer in the PDF to facilitate grading. \n",
    "\n",
    "## Additional information\n",
    "\n",
    "- Complete this worksheet yourself. \n",
    "- You may use the internet or discuss possible approaches to solve the problems with other students. You are not allowed to share your code or your answers with other students.\n",
    "- No other libraries than those explicitly allowed can be used. \n",
    "- Use code cells for your Python scripts and Markdown cells for explanatory text or answers to non-coding questions. Answer all textual questions in complete sentences.\n",
    "- Late homework submissions will not be accepted. No submissions will be accepted by email.\n",
    "- The total number of points for this assignment is 20."
   ]
  },
  {
   "cell_type": "markdown",
   "id": "cafc09d4",
   "metadata": {},
   "source": [
    "__Exercise 1__\n",
    "\n",
    "Lets obtain movie information for the movies available on the Internet Movie Script Database [IMSDb](https://imsdb.com/). \n",
    "\n",
    "__(a)__ Use the _Alphabetical_ section to obtain the URL of all movies. How many different movies do you obtain?"
   ]
  },
  {
   "metadata": {
    "ExecuteTime": {
     "end_time": "2025-03-08T05:58:27.831409Z",
     "start_time": "2025-03-08T05:58:27.507141Z"
    }
   },
   "cell_type": "code",
   "source": [
    "import requests\n",
    "from bs4 import BeautifulSoup\n",
    "import pandas as pd\n",
    "\n",
    "# Base URL of IMSDb\n",
    "base_url = \"https://imsdb.com\""
   ],
   "id": "12bbc4f2023a9735",
   "outputs": [],
   "execution_count": 1
  },
  {
   "metadata": {
    "ExecuteTime": {
     "end_time": "2025-03-08T00:34:14.984143Z",
     "start_time": "2025-03-08T00:34:14.981066Z"
    }
   },
   "cell_type": "code",
   "source": "alphabet = ['0', 'A', 'B', 'C', 'D', 'E', 'F', 'G', 'H', 'I', 'J', 'K', 'L', 'M', 'N', 'O', 'P', 'Q', 'R', 'S', 'T', 'U', 'V', 'W', 'X', 'Y', 'Z']",
   "id": "df9098b7cf15cc51",
   "outputs": [],
   "execution_count": 2
  },
  {
   "metadata": {
    "ExecuteTime": {
     "end_time": "2025-03-08T01:02:53.361445Z",
     "start_time": "2025-03-08T01:02:26.641212Z"
    }
   },
   "cell_type": "code",
   "source": [
    "URLs = []\n",
    "\n",
    "for letter in alphabet:\n",
    "  url = f\"{base_url}/alphabetical/{letter}\"\n",
    "  response = requests.get(url)\n",
    "  soup = BeautifulSoup(response.text, 'html.parser')\n",
    "  tables = soup.find_all(\"table\")\n",
    "  assert(len(tables) > 1)\n",
    "  second_table = tables[1]\n",
    "  data_cells = second_table.find_all(\"td\")\n",
    "  assert(len(data_cells) > 2)\n",
    "  third_data_cell = data_cells[0]\n",
    "  ps = third_data_cell.find_all(\"p\")\n",
    "  for p in ps:\n",
    "    a = p.find(\"a\")\n",
    "    URLs.append(a[\"href\"])"
   ],
   "id": "eef60fa7860560ee",
   "outputs": [],
   "execution_count": 7
  },
  {
   "metadata": {
    "ExecuteTime": {
     "end_time": "2025-03-08T04:04:06.703920Z",
     "start_time": "2025-03-08T04:04:06.694539Z"
    }
   },
   "cell_type": "code",
   "source": [
    "df = pd.DataFrame(URLs, columns=[\"URL\"])\n",
    "df = df.drop_duplicates()\n",
    "df.head()"
   ],
   "id": "9480ec3e8ba53d43",
   "outputs": [
    {
     "data": {
      "text/plain": [
       "                                                 URL\n",
       "0  /Movie Scripts/10 Things I Hate About You Scri...\n",
       "1                      /Movie Scripts/12 Script.html\n",
       "2          /Movie Scripts/12 and Holding Script.html\n",
       "3              /Movie Scripts/12 Monkeys Script.html\n",
       "4        /Movie Scripts/12 Years a Slave Script.html"
      ],
      "text/html": [
       "<div>\n",
       "<style scoped>\n",
       "    .dataframe tbody tr th:only-of-type {\n",
       "        vertical-align: middle;\n",
       "    }\n",
       "\n",
       "    .dataframe tbody tr th {\n",
       "        vertical-align: top;\n",
       "    }\n",
       "\n",
       "    .dataframe thead th {\n",
       "        text-align: right;\n",
       "    }\n",
       "</style>\n",
       "<table border=\"1\" class=\"dataframe\">\n",
       "  <thead>\n",
       "    <tr style=\"text-align: right;\">\n",
       "      <th></th>\n",
       "      <th>URL</th>\n",
       "    </tr>\n",
       "  </thead>\n",
       "  <tbody>\n",
       "    <tr>\n",
       "      <th>0</th>\n",
       "      <td>/Movie Scripts/10 Things I Hate About You Scri...</td>\n",
       "    </tr>\n",
       "    <tr>\n",
       "      <th>1</th>\n",
       "      <td>/Movie Scripts/12 Script.html</td>\n",
       "    </tr>\n",
       "    <tr>\n",
       "      <th>2</th>\n",
       "      <td>/Movie Scripts/12 and Holding Script.html</td>\n",
       "    </tr>\n",
       "    <tr>\n",
       "      <th>3</th>\n",
       "      <td>/Movie Scripts/12 Monkeys Script.html</td>\n",
       "    </tr>\n",
       "    <tr>\n",
       "      <th>4</th>\n",
       "      <td>/Movie Scripts/12 Years a Slave Script.html</td>\n",
       "    </tr>\n",
       "  </tbody>\n",
       "</table>\n",
       "</div>"
      ]
     },
     "execution_count": 12,
     "metadata": {},
     "output_type": "execute_result"
    }
   ],
   "execution_count": 12
  },
  {
   "metadata": {
    "ExecuteTime": {
     "end_time": "2025-03-08T04:04:37.678642Z",
     "start_time": "2025-03-08T04:04:37.675213Z"
    }
   },
   "cell_type": "code",
   "source": "f'There are {df.shape[0]} movies'",
   "id": "c90c85c181bfbfcc",
   "outputs": [
    {
     "data": {
      "text/plain": [
       "'There are 1295 movies'"
      ]
     },
     "execution_count": 13,
     "metadata": {},
     "output_type": "execute_result"
    }
   ],
   "execution_count": 13
  },
  {
   "metadata": {
    "ExecuteTime": {
     "end_time": "2025-03-08T04:04:41.699325Z",
     "start_time": "2025-03-08T04:04:41.693734Z"
    }
   },
   "cell_type": "code",
   "source": "df.to_csv(\"movies.csv\", index=False)",
   "id": "20b4107383df3544",
   "outputs": [],
   "execution_count": 14
  },
  {
   "cell_type": "markdown",
   "id": "a268f346",
   "metadata": {},
   "source": [
    "__(b)__ For every movie, obtain the title, writers, genres, script date and movie release date. \n",
    "\n",
    "__Test:__\n",
    "\n",
    "```python\n",
    "> get_movie_details('/Movie Scripts/Feast Script.html')\n",
    "('Feast',\n",
    " {'writers': ['Patrick Melton', 'Marcus Dunston'],\n",
    "  'genres': ['Action', 'Comedy', 'Horror', 'Thriller'],\n",
    "  'script_date': 2004,\n",
    "  'release_date': 2006})\n",
    "```\n",
    "\n",
    "__(i)__ Which movie has the greatest observed distance between script and movie release date? __(ii)__ Which writer has written the most movies?"
   ]
  },
  {
   "metadata": {
    "ExecuteTime": {
     "end_time": "2025-03-08T04:20:53.194864Z",
     "start_time": "2025-03-08T04:20:53.188311Z"
    }
   },
   "cell_type": "code",
   "source": "df = pd.read_csv(\"movies.csv\")",
   "id": "7a6f8e9b76a1c6c8",
   "outputs": [],
   "execution_count": 5
  },
  {
   "metadata": {
    "ExecuteTime": {
     "end_time": "2025-03-08T04:51:05.677529Z",
     "start_time": "2025-03-08T04:51:05.113092Z"
    }
   },
   "cell_type": "code",
   "source": [
    "def get_movie_details(endpoint):\n",
    "  title = endpoint.split(\"/\")[-1][:-4]\n",
    "\n",
    "  with requests.Session() as session:\n",
    "    response = session.get(f'{base_url}{endpoint}')\n",
    "\n",
    "  soup = BeautifulSoup(response.text, 'html.parser')\n",
    "\n",
    "  writers = [*map(\n",
    "    lambda x: x.text,\n",
    "    soup.find_all('a', href=lambda x: x and x.startswith('/writer.php?')),\n",
    "  )]\n",
    "\n",
    "  genres = [*map(\n",
    "    lambda x: x.text,\n",
    "    soup.find_all('a', href=lambda x: x and x.startswith('/genre/')),\n",
    "  )]\n",
    "\n",
    "  script_date_tag = soup.find('b', string='Script Date')\n",
    "  script_date = script_date_tag.find_next(string=True).find_next(string=True).strip()[2:] if script_date_tag else None\n",
    "  release_date_tag = soup.find('b', string='Movie Release Date')\n",
    "  release_date = release_date_tag.find_next(string=True).find_next(string=True).strip()[2:] if release_date_tag else None\n",
    "\n",
    "  sleep(0.25)\n",
    "\n",
    "  return title, {\n",
    "    'writers': writers,\n",
    "    'genres': genres,\n",
    "    'script_date': script_date,\n",
    "    'release_date': release_date,\n",
    "  }\n",
    "\n",
    "get_movie_details(\"/Movie Scripts/Feast Script.html\")"
   ],
   "id": "37169ca7dfe8c4b0",
   "outputs": [
    {
     "data": {
      "text/plain": [
       "('Feast Script.',\n",
       " {'writers': ['Patrick Melton', 'Marcus Dunston'],\n",
       "  'genres': ['Action',\n",
       "   'Adventure',\n",
       "   'Animation',\n",
       "   'Comedy',\n",
       "   'Crime',\n",
       "   'Drama',\n",
       "   'Family',\n",
       "   'Fantasy',\n",
       "   'Film-Noir',\n",
       "   'Horror',\n",
       "   'Musical',\n",
       "   'Mystery',\n",
       "   'Romance',\n",
       "   'Sci-Fi',\n",
       "   'Short',\n",
       "   'Thriller',\n",
       "   'War',\n",
       "   'Western',\n",
       "   'Action',\n",
       "   'Comedy',\n",
       "   'Horror',\n",
       "   'Thriller'],\n",
       "  'script_date': 'May 2004',\n",
       "  'release_date': 'September 2006'})"
      ]
     },
     "execution_count": 35,
     "metadata": {},
     "output_type": "execute_result"
    }
   ],
   "execution_count": 35
  },
  {
   "metadata": {
    "ExecuteTime": {
     "end_time": "2025-03-08T04:51:20.768485Z",
     "start_time": "2025-03-08T04:51:07.914598Z"
    }
   },
   "cell_type": "code",
   "source": "df[['title', 'details']] = df['URL'].map(get_movie_details).apply(pd.Series)",
   "id": "b87f6cfc4c761199",
   "outputs": [
    {
     "ename": "ConnectionError",
     "evalue": "HTTPSConnectionPool(host='imsdb.com', port=443): Max retries exceeded with url: /Movie%20Scripts/A%20Scanner%20Darkly%20Script.html (Caused by NewConnectionError('<urllib3.connection.HTTPSConnection object at 0x115c52f00>: Failed to establish a new connection: [Errno 12] Cannot allocate memory'))",
     "output_type": "error",
     "traceback": [
      "\u001B[0;31m---------------------------------------------------------------------------\u001B[0m",
      "\u001B[0;31mOSError\u001B[0m                                   Traceback (most recent call last)",
      "File \u001B[0;32m/opt/anaconda3/envs/sta141b/lib/python3.12/site-packages/urllib3/connection.py:198\u001B[0m, in \u001B[0;36mHTTPConnection._new_conn\u001B[0;34m(self)\u001B[0m\n\u001B[1;32m    197\u001B[0m \u001B[38;5;28;01mtry\u001B[39;00m:\n\u001B[0;32m--> 198\u001B[0m     sock \u001B[38;5;241m=\u001B[39m \u001B[43mconnection\u001B[49m\u001B[38;5;241;43m.\u001B[39;49m\u001B[43mcreate_connection\u001B[49m\u001B[43m(\u001B[49m\n\u001B[1;32m    199\u001B[0m \u001B[43m        \u001B[49m\u001B[43m(\u001B[49m\u001B[38;5;28;43mself\u001B[39;49m\u001B[38;5;241;43m.\u001B[39;49m\u001B[43m_dns_host\u001B[49m\u001B[43m,\u001B[49m\u001B[43m \u001B[49m\u001B[38;5;28;43mself\u001B[39;49m\u001B[38;5;241;43m.\u001B[39;49m\u001B[43mport\u001B[49m\u001B[43m)\u001B[49m\u001B[43m,\u001B[49m\n\u001B[1;32m    200\u001B[0m \u001B[43m        \u001B[49m\u001B[38;5;28;43mself\u001B[39;49m\u001B[38;5;241;43m.\u001B[39;49m\u001B[43mtimeout\u001B[49m\u001B[43m,\u001B[49m\n\u001B[1;32m    201\u001B[0m \u001B[43m        \u001B[49m\u001B[43msource_address\u001B[49m\u001B[38;5;241;43m=\u001B[39;49m\u001B[38;5;28;43mself\u001B[39;49m\u001B[38;5;241;43m.\u001B[39;49m\u001B[43msource_address\u001B[49m\u001B[43m,\u001B[49m\n\u001B[1;32m    202\u001B[0m \u001B[43m        \u001B[49m\u001B[43msocket_options\u001B[49m\u001B[38;5;241;43m=\u001B[39;49m\u001B[38;5;28;43mself\u001B[39;49m\u001B[38;5;241;43m.\u001B[39;49m\u001B[43msocket_options\u001B[49m\u001B[43m,\u001B[49m\n\u001B[1;32m    203\u001B[0m \u001B[43m    \u001B[49m\u001B[43m)\u001B[49m\n\u001B[1;32m    204\u001B[0m \u001B[38;5;28;01mexcept\u001B[39;00m socket\u001B[38;5;241m.\u001B[39mgaierror \u001B[38;5;28;01mas\u001B[39;00m e:\n",
      "File \u001B[0;32m/opt/anaconda3/envs/sta141b/lib/python3.12/site-packages/urllib3/util/connection.py:85\u001B[0m, in \u001B[0;36mcreate_connection\u001B[0;34m(address, timeout, source_address, socket_options)\u001B[0m\n\u001B[1;32m     84\u001B[0m \u001B[38;5;28;01mtry\u001B[39;00m:\n\u001B[0;32m---> 85\u001B[0m     \u001B[38;5;28;01mraise\u001B[39;00m err\n\u001B[1;32m     86\u001B[0m \u001B[38;5;28;01mfinally\u001B[39;00m:\n\u001B[1;32m     87\u001B[0m     \u001B[38;5;66;03m# Break explicitly a reference cycle\u001B[39;00m\n",
      "File \u001B[0;32m/opt/anaconda3/envs/sta141b/lib/python3.12/site-packages/urllib3/util/connection.py:73\u001B[0m, in \u001B[0;36mcreate_connection\u001B[0;34m(address, timeout, source_address, socket_options)\u001B[0m\n\u001B[1;32m     72\u001B[0m     sock\u001B[38;5;241m.\u001B[39mbind(source_address)\n\u001B[0;32m---> 73\u001B[0m \u001B[43msock\u001B[49m\u001B[38;5;241;43m.\u001B[39;49m\u001B[43mconnect\u001B[49m\u001B[43m(\u001B[49m\u001B[43msa\u001B[49m\u001B[43m)\u001B[49m\n\u001B[1;32m     74\u001B[0m \u001B[38;5;66;03m# Break explicitly a reference cycle\u001B[39;00m\n",
      "\u001B[0;31mOSError\u001B[0m: [Errno 12] Cannot allocate memory",
      "\nThe above exception was the direct cause of the following exception:\n",
      "\u001B[0;31mNewConnectionError\u001B[0m                        Traceback (most recent call last)",
      "File \u001B[0;32m/opt/anaconda3/envs/sta141b/lib/python3.12/site-packages/urllib3/connectionpool.py:787\u001B[0m, in \u001B[0;36mHTTPConnectionPool.urlopen\u001B[0;34m(self, method, url, body, headers, retries, redirect, assert_same_host, timeout, pool_timeout, release_conn, chunked, body_pos, preload_content, decode_content, **response_kw)\u001B[0m\n\u001B[1;32m    786\u001B[0m \u001B[38;5;66;03m# Make the request on the HTTPConnection object\u001B[39;00m\n\u001B[0;32m--> 787\u001B[0m response \u001B[38;5;241m=\u001B[39m \u001B[38;5;28;43mself\u001B[39;49m\u001B[38;5;241;43m.\u001B[39;49m\u001B[43m_make_request\u001B[49m\u001B[43m(\u001B[49m\n\u001B[1;32m    788\u001B[0m \u001B[43m    \u001B[49m\u001B[43mconn\u001B[49m\u001B[43m,\u001B[49m\n\u001B[1;32m    789\u001B[0m \u001B[43m    \u001B[49m\u001B[43mmethod\u001B[49m\u001B[43m,\u001B[49m\n\u001B[1;32m    790\u001B[0m \u001B[43m    \u001B[49m\u001B[43murl\u001B[49m\u001B[43m,\u001B[49m\n\u001B[1;32m    791\u001B[0m \u001B[43m    \u001B[49m\u001B[43mtimeout\u001B[49m\u001B[38;5;241;43m=\u001B[39;49m\u001B[43mtimeout_obj\u001B[49m\u001B[43m,\u001B[49m\n\u001B[1;32m    792\u001B[0m \u001B[43m    \u001B[49m\u001B[43mbody\u001B[49m\u001B[38;5;241;43m=\u001B[39;49m\u001B[43mbody\u001B[49m\u001B[43m,\u001B[49m\n\u001B[1;32m    793\u001B[0m \u001B[43m    \u001B[49m\u001B[43mheaders\u001B[49m\u001B[38;5;241;43m=\u001B[39;49m\u001B[43mheaders\u001B[49m\u001B[43m,\u001B[49m\n\u001B[1;32m    794\u001B[0m \u001B[43m    \u001B[49m\u001B[43mchunked\u001B[49m\u001B[38;5;241;43m=\u001B[39;49m\u001B[43mchunked\u001B[49m\u001B[43m,\u001B[49m\n\u001B[1;32m    795\u001B[0m \u001B[43m    \u001B[49m\u001B[43mretries\u001B[49m\u001B[38;5;241;43m=\u001B[39;49m\u001B[43mretries\u001B[49m\u001B[43m,\u001B[49m\n\u001B[1;32m    796\u001B[0m \u001B[43m    \u001B[49m\u001B[43mresponse_conn\u001B[49m\u001B[38;5;241;43m=\u001B[39;49m\u001B[43mresponse_conn\u001B[49m\u001B[43m,\u001B[49m\n\u001B[1;32m    797\u001B[0m \u001B[43m    \u001B[49m\u001B[43mpreload_content\u001B[49m\u001B[38;5;241;43m=\u001B[39;49m\u001B[43mpreload_content\u001B[49m\u001B[43m,\u001B[49m\n\u001B[1;32m    798\u001B[0m \u001B[43m    \u001B[49m\u001B[43mdecode_content\u001B[49m\u001B[38;5;241;43m=\u001B[39;49m\u001B[43mdecode_content\u001B[49m\u001B[43m,\u001B[49m\n\u001B[1;32m    799\u001B[0m \u001B[43m    \u001B[49m\u001B[38;5;241;43m*\u001B[39;49m\u001B[38;5;241;43m*\u001B[39;49m\u001B[43mresponse_kw\u001B[49m\u001B[43m,\u001B[49m\n\u001B[1;32m    800\u001B[0m \u001B[43m\u001B[49m\u001B[43m)\u001B[49m\n\u001B[1;32m    802\u001B[0m \u001B[38;5;66;03m# Everything went great!\u001B[39;00m\n",
      "File \u001B[0;32m/opt/anaconda3/envs/sta141b/lib/python3.12/site-packages/urllib3/connectionpool.py:488\u001B[0m, in \u001B[0;36mHTTPConnectionPool._make_request\u001B[0;34m(self, conn, method, url, body, headers, retries, timeout, chunked, response_conn, preload_content, decode_content, enforce_content_length)\u001B[0m\n\u001B[1;32m    487\u001B[0m         new_e \u001B[38;5;241m=\u001B[39m _wrap_proxy_error(new_e, conn\u001B[38;5;241m.\u001B[39mproxy\u001B[38;5;241m.\u001B[39mscheme)\n\u001B[0;32m--> 488\u001B[0m     \u001B[38;5;28;01mraise\u001B[39;00m new_e\n\u001B[1;32m    490\u001B[0m \u001B[38;5;66;03m# conn.request() calls http.client.*.request, not the method in\u001B[39;00m\n\u001B[1;32m    491\u001B[0m \u001B[38;5;66;03m# urllib3.request. It also calls makefile (recv) on the socket.\u001B[39;00m\n",
      "File \u001B[0;32m/opt/anaconda3/envs/sta141b/lib/python3.12/site-packages/urllib3/connectionpool.py:464\u001B[0m, in \u001B[0;36mHTTPConnectionPool._make_request\u001B[0;34m(self, conn, method, url, body, headers, retries, timeout, chunked, response_conn, preload_content, decode_content, enforce_content_length)\u001B[0m\n\u001B[1;32m    463\u001B[0m \u001B[38;5;28;01mtry\u001B[39;00m:\n\u001B[0;32m--> 464\u001B[0m     \u001B[38;5;28;43mself\u001B[39;49m\u001B[38;5;241;43m.\u001B[39;49m\u001B[43m_validate_conn\u001B[49m\u001B[43m(\u001B[49m\u001B[43mconn\u001B[49m\u001B[43m)\u001B[49m\n\u001B[1;32m    465\u001B[0m \u001B[38;5;28;01mexcept\u001B[39;00m (SocketTimeout, BaseSSLError) \u001B[38;5;28;01mas\u001B[39;00m e:\n",
      "File \u001B[0;32m/opt/anaconda3/envs/sta141b/lib/python3.12/site-packages/urllib3/connectionpool.py:1093\u001B[0m, in \u001B[0;36mHTTPSConnectionPool._validate_conn\u001B[0;34m(self, conn)\u001B[0m\n\u001B[1;32m   1092\u001B[0m \u001B[38;5;28;01mif\u001B[39;00m conn\u001B[38;5;241m.\u001B[39mis_closed:\n\u001B[0;32m-> 1093\u001B[0m     \u001B[43mconn\u001B[49m\u001B[38;5;241;43m.\u001B[39;49m\u001B[43mconnect\u001B[49m\u001B[43m(\u001B[49m\u001B[43m)\u001B[49m\n\u001B[1;32m   1095\u001B[0m \u001B[38;5;66;03m# TODO revise this, see https://github.com/urllib3/urllib3/issues/2791\u001B[39;00m\n",
      "File \u001B[0;32m/opt/anaconda3/envs/sta141b/lib/python3.12/site-packages/urllib3/connection.py:704\u001B[0m, in \u001B[0;36mHTTPSConnection.connect\u001B[0;34m(self)\u001B[0m\n\u001B[1;32m    703\u001B[0m sock: socket\u001B[38;5;241m.\u001B[39msocket \u001B[38;5;241m|\u001B[39m ssl\u001B[38;5;241m.\u001B[39mSSLSocket\n\u001B[0;32m--> 704\u001B[0m \u001B[38;5;28mself\u001B[39m\u001B[38;5;241m.\u001B[39msock \u001B[38;5;241m=\u001B[39m sock \u001B[38;5;241m=\u001B[39m \u001B[38;5;28;43mself\u001B[39;49m\u001B[38;5;241;43m.\u001B[39;49m\u001B[43m_new_conn\u001B[49m\u001B[43m(\u001B[49m\u001B[43m)\u001B[49m\n\u001B[1;32m    705\u001B[0m server_hostname: \u001B[38;5;28mstr\u001B[39m \u001B[38;5;241m=\u001B[39m \u001B[38;5;28mself\u001B[39m\u001B[38;5;241m.\u001B[39mhost\n",
      "File \u001B[0;32m/opt/anaconda3/envs/sta141b/lib/python3.12/site-packages/urllib3/connection.py:213\u001B[0m, in \u001B[0;36mHTTPConnection._new_conn\u001B[0;34m(self)\u001B[0m\n\u001B[1;32m    212\u001B[0m \u001B[38;5;28;01mexcept\u001B[39;00m \u001B[38;5;167;01mOSError\u001B[39;00m \u001B[38;5;28;01mas\u001B[39;00m e:\n\u001B[0;32m--> 213\u001B[0m     \u001B[38;5;28;01mraise\u001B[39;00m NewConnectionError(\n\u001B[1;32m    214\u001B[0m         \u001B[38;5;28mself\u001B[39m, \u001B[38;5;124mf\u001B[39m\u001B[38;5;124m\"\u001B[39m\u001B[38;5;124mFailed to establish a new connection: \u001B[39m\u001B[38;5;132;01m{\u001B[39;00me\u001B[38;5;132;01m}\u001B[39;00m\u001B[38;5;124m\"\u001B[39m\n\u001B[1;32m    215\u001B[0m     ) \u001B[38;5;28;01mfrom\u001B[39;00m\u001B[38;5;250m \u001B[39m\u001B[38;5;21;01me\u001B[39;00m\n\u001B[1;32m    217\u001B[0m sys\u001B[38;5;241m.\u001B[39maudit(\u001B[38;5;124m\"\u001B[39m\u001B[38;5;124mhttp.client.connect\u001B[39m\u001B[38;5;124m\"\u001B[39m, \u001B[38;5;28mself\u001B[39m, \u001B[38;5;28mself\u001B[39m\u001B[38;5;241m.\u001B[39mhost, \u001B[38;5;28mself\u001B[39m\u001B[38;5;241m.\u001B[39mport)\n",
      "\u001B[0;31mNewConnectionError\u001B[0m: <urllib3.connection.HTTPSConnection object at 0x115c52f00>: Failed to establish a new connection: [Errno 12] Cannot allocate memory",
      "\nThe above exception was the direct cause of the following exception:\n",
      "\u001B[0;31mMaxRetryError\u001B[0m                             Traceback (most recent call last)",
      "File \u001B[0;32m/opt/anaconda3/envs/sta141b/lib/python3.12/site-packages/requests/adapters.py:667\u001B[0m, in \u001B[0;36mHTTPAdapter.send\u001B[0;34m(self, request, stream, timeout, verify, cert, proxies)\u001B[0m\n\u001B[1;32m    666\u001B[0m \u001B[38;5;28;01mtry\u001B[39;00m:\n\u001B[0;32m--> 667\u001B[0m     resp \u001B[38;5;241m=\u001B[39m \u001B[43mconn\u001B[49m\u001B[38;5;241;43m.\u001B[39;49m\u001B[43murlopen\u001B[49m\u001B[43m(\u001B[49m\n\u001B[1;32m    668\u001B[0m \u001B[43m        \u001B[49m\u001B[43mmethod\u001B[49m\u001B[38;5;241;43m=\u001B[39;49m\u001B[43mrequest\u001B[49m\u001B[38;5;241;43m.\u001B[39;49m\u001B[43mmethod\u001B[49m\u001B[43m,\u001B[49m\n\u001B[1;32m    669\u001B[0m \u001B[43m        \u001B[49m\u001B[43murl\u001B[49m\u001B[38;5;241;43m=\u001B[39;49m\u001B[43murl\u001B[49m\u001B[43m,\u001B[49m\n\u001B[1;32m    670\u001B[0m \u001B[43m        \u001B[49m\u001B[43mbody\u001B[49m\u001B[38;5;241;43m=\u001B[39;49m\u001B[43mrequest\u001B[49m\u001B[38;5;241;43m.\u001B[39;49m\u001B[43mbody\u001B[49m\u001B[43m,\u001B[49m\n\u001B[1;32m    671\u001B[0m \u001B[43m        \u001B[49m\u001B[43mheaders\u001B[49m\u001B[38;5;241;43m=\u001B[39;49m\u001B[43mrequest\u001B[49m\u001B[38;5;241;43m.\u001B[39;49m\u001B[43mheaders\u001B[49m\u001B[43m,\u001B[49m\n\u001B[1;32m    672\u001B[0m \u001B[43m        \u001B[49m\u001B[43mredirect\u001B[49m\u001B[38;5;241;43m=\u001B[39;49m\u001B[38;5;28;43;01mFalse\u001B[39;49;00m\u001B[43m,\u001B[49m\n\u001B[1;32m    673\u001B[0m \u001B[43m        \u001B[49m\u001B[43massert_same_host\u001B[49m\u001B[38;5;241;43m=\u001B[39;49m\u001B[38;5;28;43;01mFalse\u001B[39;49;00m\u001B[43m,\u001B[49m\n\u001B[1;32m    674\u001B[0m \u001B[43m        \u001B[49m\u001B[43mpreload_content\u001B[49m\u001B[38;5;241;43m=\u001B[39;49m\u001B[38;5;28;43;01mFalse\u001B[39;49;00m\u001B[43m,\u001B[49m\n\u001B[1;32m    675\u001B[0m \u001B[43m        \u001B[49m\u001B[43mdecode_content\u001B[49m\u001B[38;5;241;43m=\u001B[39;49m\u001B[38;5;28;43;01mFalse\u001B[39;49;00m\u001B[43m,\u001B[49m\n\u001B[1;32m    676\u001B[0m \u001B[43m        \u001B[49m\u001B[43mretries\u001B[49m\u001B[38;5;241;43m=\u001B[39;49m\u001B[38;5;28;43mself\u001B[39;49m\u001B[38;5;241;43m.\u001B[39;49m\u001B[43mmax_retries\u001B[49m\u001B[43m,\u001B[49m\n\u001B[1;32m    677\u001B[0m \u001B[43m        \u001B[49m\u001B[43mtimeout\u001B[49m\u001B[38;5;241;43m=\u001B[39;49m\u001B[43mtimeout\u001B[49m\u001B[43m,\u001B[49m\n\u001B[1;32m    678\u001B[0m \u001B[43m        \u001B[49m\u001B[43mchunked\u001B[49m\u001B[38;5;241;43m=\u001B[39;49m\u001B[43mchunked\u001B[49m\u001B[43m,\u001B[49m\n\u001B[1;32m    679\u001B[0m \u001B[43m    \u001B[49m\u001B[43m)\u001B[49m\n\u001B[1;32m    681\u001B[0m \u001B[38;5;28;01mexcept\u001B[39;00m (ProtocolError, \u001B[38;5;167;01mOSError\u001B[39;00m) \u001B[38;5;28;01mas\u001B[39;00m err:\n",
      "File \u001B[0;32m/opt/anaconda3/envs/sta141b/lib/python3.12/site-packages/urllib3/connectionpool.py:841\u001B[0m, in \u001B[0;36mHTTPConnectionPool.urlopen\u001B[0;34m(self, method, url, body, headers, retries, redirect, assert_same_host, timeout, pool_timeout, release_conn, chunked, body_pos, preload_content, decode_content, **response_kw)\u001B[0m\n\u001B[1;32m    839\u001B[0m     new_e \u001B[38;5;241m=\u001B[39m ProtocolError(\u001B[38;5;124m\"\u001B[39m\u001B[38;5;124mConnection aborted.\u001B[39m\u001B[38;5;124m\"\u001B[39m, new_e)\n\u001B[0;32m--> 841\u001B[0m retries \u001B[38;5;241m=\u001B[39m \u001B[43mretries\u001B[49m\u001B[38;5;241;43m.\u001B[39;49m\u001B[43mincrement\u001B[49m\u001B[43m(\u001B[49m\n\u001B[1;32m    842\u001B[0m \u001B[43m    \u001B[49m\u001B[43mmethod\u001B[49m\u001B[43m,\u001B[49m\u001B[43m \u001B[49m\u001B[43murl\u001B[49m\u001B[43m,\u001B[49m\u001B[43m \u001B[49m\u001B[43merror\u001B[49m\u001B[38;5;241;43m=\u001B[39;49m\u001B[43mnew_e\u001B[49m\u001B[43m,\u001B[49m\u001B[43m \u001B[49m\u001B[43m_pool\u001B[49m\u001B[38;5;241;43m=\u001B[39;49m\u001B[38;5;28;43mself\u001B[39;49m\u001B[43m,\u001B[49m\u001B[43m \u001B[49m\u001B[43m_stacktrace\u001B[49m\u001B[38;5;241;43m=\u001B[39;49m\u001B[43msys\u001B[49m\u001B[38;5;241;43m.\u001B[39;49m\u001B[43mexc_info\u001B[49m\u001B[43m(\u001B[49m\u001B[43m)\u001B[49m\u001B[43m[\u001B[49m\u001B[38;5;241;43m2\u001B[39;49m\u001B[43m]\u001B[49m\n\u001B[1;32m    843\u001B[0m \u001B[43m\u001B[49m\u001B[43m)\u001B[49m\n\u001B[1;32m    844\u001B[0m retries\u001B[38;5;241m.\u001B[39msleep()\n",
      "File \u001B[0;32m/opt/anaconda3/envs/sta141b/lib/python3.12/site-packages/urllib3/util/retry.py:519\u001B[0m, in \u001B[0;36mRetry.increment\u001B[0;34m(self, method, url, response, error, _pool, _stacktrace)\u001B[0m\n\u001B[1;32m    518\u001B[0m     reason \u001B[38;5;241m=\u001B[39m error \u001B[38;5;129;01mor\u001B[39;00m ResponseError(cause)\n\u001B[0;32m--> 519\u001B[0m     \u001B[38;5;28;01mraise\u001B[39;00m MaxRetryError(_pool, url, reason) \u001B[38;5;28;01mfrom\u001B[39;00m\u001B[38;5;250m \u001B[39m\u001B[38;5;21;01mreason\u001B[39;00m  \u001B[38;5;66;03m# type: ignore[arg-type]\u001B[39;00m\n\u001B[1;32m    521\u001B[0m log\u001B[38;5;241m.\u001B[39mdebug(\u001B[38;5;124m\"\u001B[39m\u001B[38;5;124mIncremented Retry for (url=\u001B[39m\u001B[38;5;124m'\u001B[39m\u001B[38;5;132;01m%s\u001B[39;00m\u001B[38;5;124m'\u001B[39m\u001B[38;5;124m): \u001B[39m\u001B[38;5;132;01m%r\u001B[39;00m\u001B[38;5;124m\"\u001B[39m, url, new_retry)\n",
      "\u001B[0;31mMaxRetryError\u001B[0m: HTTPSConnectionPool(host='imsdb.com', port=443): Max retries exceeded with url: /Movie%20Scripts/A%20Scanner%20Darkly%20Script.html (Caused by NewConnectionError('<urllib3.connection.HTTPSConnection object at 0x115c52f00>: Failed to establish a new connection: [Errno 12] Cannot allocate memory'))",
      "\nDuring handling of the above exception, another exception occurred:\n",
      "\u001B[0;31mConnectionError\u001B[0m                           Traceback (most recent call last)",
      "Cell \u001B[0;32mIn[36], line 1\u001B[0m\n\u001B[0;32m----> 1\u001B[0m df[[\u001B[38;5;124m'\u001B[39m\u001B[38;5;124mtitle\u001B[39m\u001B[38;5;124m'\u001B[39m, \u001B[38;5;124m'\u001B[39m\u001B[38;5;124mdetails\u001B[39m\u001B[38;5;124m'\u001B[39m]] \u001B[38;5;241m=\u001B[39m \u001B[43mdf\u001B[49m\u001B[43m[\u001B[49m\u001B[38;5;124;43m'\u001B[39;49m\u001B[38;5;124;43mURL\u001B[39;49m\u001B[38;5;124;43m'\u001B[39;49m\u001B[43m]\u001B[49m\u001B[38;5;241;43m.\u001B[39;49m\u001B[43mmap\u001B[49m\u001B[43m(\u001B[49m\u001B[43mget_movie_details\u001B[49m\u001B[43m)\u001B[49m\u001B[38;5;241m.\u001B[39mapply(pd\u001B[38;5;241m.\u001B[39mSeries)\n",
      "File \u001B[0;32m/opt/anaconda3/envs/sta141b/lib/python3.12/site-packages/pandas/core/series.py:4700\u001B[0m, in \u001B[0;36mSeries.map\u001B[0;34m(self, arg, na_action)\u001B[0m\n\u001B[1;32m   4620\u001B[0m \u001B[38;5;28;01mdef\u001B[39;00m\u001B[38;5;250m \u001B[39m\u001B[38;5;21mmap\u001B[39m(\n\u001B[1;32m   4621\u001B[0m     \u001B[38;5;28mself\u001B[39m,\n\u001B[1;32m   4622\u001B[0m     arg: Callable \u001B[38;5;241m|\u001B[39m Mapping \u001B[38;5;241m|\u001B[39m Series,\n\u001B[1;32m   4623\u001B[0m     na_action: Literal[\u001B[38;5;124m\"\u001B[39m\u001B[38;5;124mignore\u001B[39m\u001B[38;5;124m\"\u001B[39m] \u001B[38;5;241m|\u001B[39m \u001B[38;5;28;01mNone\u001B[39;00m \u001B[38;5;241m=\u001B[39m \u001B[38;5;28;01mNone\u001B[39;00m,\n\u001B[1;32m   4624\u001B[0m ) \u001B[38;5;241m-\u001B[39m\u001B[38;5;241m>\u001B[39m Series:\n\u001B[1;32m   4625\u001B[0m \u001B[38;5;250m    \u001B[39m\u001B[38;5;124;03m\"\"\"\u001B[39;00m\n\u001B[1;32m   4626\u001B[0m \u001B[38;5;124;03m    Map values of Series according to an input mapping or function.\u001B[39;00m\n\u001B[1;32m   4627\u001B[0m \n\u001B[0;32m   (...)\u001B[0m\n\u001B[1;32m   4698\u001B[0m \u001B[38;5;124;03m    dtype: object\u001B[39;00m\n\u001B[1;32m   4699\u001B[0m \u001B[38;5;124;03m    \"\"\"\u001B[39;00m\n\u001B[0;32m-> 4700\u001B[0m     new_values \u001B[38;5;241m=\u001B[39m \u001B[38;5;28;43mself\u001B[39;49m\u001B[38;5;241;43m.\u001B[39;49m\u001B[43m_map_values\u001B[49m\u001B[43m(\u001B[49m\u001B[43marg\u001B[49m\u001B[43m,\u001B[49m\u001B[43m \u001B[49m\u001B[43mna_action\u001B[49m\u001B[38;5;241;43m=\u001B[39;49m\u001B[43mna_action\u001B[49m\u001B[43m)\u001B[49m\n\u001B[1;32m   4701\u001B[0m     \u001B[38;5;28;01mreturn\u001B[39;00m \u001B[38;5;28mself\u001B[39m\u001B[38;5;241m.\u001B[39m_constructor(new_values, index\u001B[38;5;241m=\u001B[39m\u001B[38;5;28mself\u001B[39m\u001B[38;5;241m.\u001B[39mindex, copy\u001B[38;5;241m=\u001B[39m\u001B[38;5;28;01mFalse\u001B[39;00m)\u001B[38;5;241m.\u001B[39m__finalize__(\n\u001B[1;32m   4702\u001B[0m         \u001B[38;5;28mself\u001B[39m, method\u001B[38;5;241m=\u001B[39m\u001B[38;5;124m\"\u001B[39m\u001B[38;5;124mmap\u001B[39m\u001B[38;5;124m\"\u001B[39m\n\u001B[1;32m   4703\u001B[0m     )\n",
      "File \u001B[0;32m/opt/anaconda3/envs/sta141b/lib/python3.12/site-packages/pandas/core/base.py:921\u001B[0m, in \u001B[0;36mIndexOpsMixin._map_values\u001B[0;34m(self, mapper, na_action, convert)\u001B[0m\n\u001B[1;32m    918\u001B[0m \u001B[38;5;28;01mif\u001B[39;00m \u001B[38;5;28misinstance\u001B[39m(arr, ExtensionArray):\n\u001B[1;32m    919\u001B[0m     \u001B[38;5;28;01mreturn\u001B[39;00m arr\u001B[38;5;241m.\u001B[39mmap(mapper, na_action\u001B[38;5;241m=\u001B[39mna_action)\n\u001B[0;32m--> 921\u001B[0m \u001B[38;5;28;01mreturn\u001B[39;00m \u001B[43malgorithms\u001B[49m\u001B[38;5;241;43m.\u001B[39;49m\u001B[43mmap_array\u001B[49m\u001B[43m(\u001B[49m\u001B[43marr\u001B[49m\u001B[43m,\u001B[49m\u001B[43m \u001B[49m\u001B[43mmapper\u001B[49m\u001B[43m,\u001B[49m\u001B[43m \u001B[49m\u001B[43mna_action\u001B[49m\u001B[38;5;241;43m=\u001B[39;49m\u001B[43mna_action\u001B[49m\u001B[43m,\u001B[49m\u001B[43m \u001B[49m\u001B[43mconvert\u001B[49m\u001B[38;5;241;43m=\u001B[39;49m\u001B[43mconvert\u001B[49m\u001B[43m)\u001B[49m\n",
      "File \u001B[0;32m/opt/anaconda3/envs/sta141b/lib/python3.12/site-packages/pandas/core/algorithms.py:1743\u001B[0m, in \u001B[0;36mmap_array\u001B[0;34m(arr, mapper, na_action, convert)\u001B[0m\n\u001B[1;32m   1741\u001B[0m values \u001B[38;5;241m=\u001B[39m arr\u001B[38;5;241m.\u001B[39mastype(\u001B[38;5;28mobject\u001B[39m, copy\u001B[38;5;241m=\u001B[39m\u001B[38;5;28;01mFalse\u001B[39;00m)\n\u001B[1;32m   1742\u001B[0m \u001B[38;5;28;01mif\u001B[39;00m na_action \u001B[38;5;129;01mis\u001B[39;00m \u001B[38;5;28;01mNone\u001B[39;00m:\n\u001B[0;32m-> 1743\u001B[0m     \u001B[38;5;28;01mreturn\u001B[39;00m \u001B[43mlib\u001B[49m\u001B[38;5;241;43m.\u001B[39;49m\u001B[43mmap_infer\u001B[49m\u001B[43m(\u001B[49m\u001B[43mvalues\u001B[49m\u001B[43m,\u001B[49m\u001B[43m \u001B[49m\u001B[43mmapper\u001B[49m\u001B[43m,\u001B[49m\u001B[43m \u001B[49m\u001B[43mconvert\u001B[49m\u001B[38;5;241;43m=\u001B[39;49m\u001B[43mconvert\u001B[49m\u001B[43m)\u001B[49m\n\u001B[1;32m   1744\u001B[0m \u001B[38;5;28;01melse\u001B[39;00m:\n\u001B[1;32m   1745\u001B[0m     \u001B[38;5;28;01mreturn\u001B[39;00m lib\u001B[38;5;241m.\u001B[39mmap_infer_mask(\n\u001B[1;32m   1746\u001B[0m         values, mapper, mask\u001B[38;5;241m=\u001B[39misna(values)\u001B[38;5;241m.\u001B[39mview(np\u001B[38;5;241m.\u001B[39muint8), convert\u001B[38;5;241m=\u001B[39mconvert\n\u001B[1;32m   1747\u001B[0m     )\n",
      "File \u001B[0;32mlib.pyx:2972\u001B[0m, in \u001B[0;36mpandas._libs.lib.map_infer\u001B[0;34m()\u001B[0m\n",
      "Cell \u001B[0;32mIn[35], line 5\u001B[0m, in \u001B[0;36mget_movie_details\u001B[0;34m(endpoint)\u001B[0m\n\u001B[1;32m      2\u001B[0m title \u001B[38;5;241m=\u001B[39m endpoint\u001B[38;5;241m.\u001B[39msplit(\u001B[38;5;124m\"\u001B[39m\u001B[38;5;124m/\u001B[39m\u001B[38;5;124m\"\u001B[39m)[\u001B[38;5;241m-\u001B[39m\u001B[38;5;241m1\u001B[39m][:\u001B[38;5;241m-\u001B[39m\u001B[38;5;241m4\u001B[39m]\n\u001B[1;32m      4\u001B[0m \u001B[38;5;28;01mwith\u001B[39;00m requests\u001B[38;5;241m.\u001B[39mSession() \u001B[38;5;28;01mas\u001B[39;00m session:\n\u001B[0;32m----> 5\u001B[0m   response \u001B[38;5;241m=\u001B[39m \u001B[43msession\u001B[49m\u001B[38;5;241;43m.\u001B[39;49m\u001B[43mget\u001B[49m\u001B[43m(\u001B[49m\u001B[38;5;124;43mf\u001B[39;49m\u001B[38;5;124;43m'\u001B[39;49m\u001B[38;5;132;43;01m{\u001B[39;49;00m\u001B[43mbase_url\u001B[49m\u001B[38;5;132;43;01m}\u001B[39;49;00m\u001B[38;5;132;43;01m{\u001B[39;49;00m\u001B[43mendpoint\u001B[49m\u001B[38;5;132;43;01m}\u001B[39;49;00m\u001B[38;5;124;43m'\u001B[39;49m\u001B[43m)\u001B[49m\n\u001B[1;32m      7\u001B[0m soup \u001B[38;5;241m=\u001B[39m BeautifulSoup(response\u001B[38;5;241m.\u001B[39mtext, \u001B[38;5;124m'\u001B[39m\u001B[38;5;124mhtml.parser\u001B[39m\u001B[38;5;124m'\u001B[39m)\n\u001B[1;32m      9\u001B[0m writers \u001B[38;5;241m=\u001B[39m [\u001B[38;5;241m*\u001B[39m\u001B[38;5;28mmap\u001B[39m(\n\u001B[1;32m     10\u001B[0m   \u001B[38;5;28;01mlambda\u001B[39;00m x: x\u001B[38;5;241m.\u001B[39mtext,\n\u001B[1;32m     11\u001B[0m   soup\u001B[38;5;241m.\u001B[39mfind_all(\u001B[38;5;124m'\u001B[39m\u001B[38;5;124ma\u001B[39m\u001B[38;5;124m'\u001B[39m, href\u001B[38;5;241m=\u001B[39m\u001B[38;5;28;01mlambda\u001B[39;00m x: x \u001B[38;5;129;01mand\u001B[39;00m x\u001B[38;5;241m.\u001B[39mstartswith(\u001B[38;5;124m'\u001B[39m\u001B[38;5;124m/writer.php?\u001B[39m\u001B[38;5;124m'\u001B[39m)),\n\u001B[1;32m     12\u001B[0m )]\n",
      "File \u001B[0;32m/opt/anaconda3/envs/sta141b/lib/python3.12/site-packages/requests/sessions.py:602\u001B[0m, in \u001B[0;36mSession.get\u001B[0;34m(self, url, **kwargs)\u001B[0m\n\u001B[1;32m    594\u001B[0m \u001B[38;5;250m\u001B[39m\u001B[38;5;124mr\u001B[39m\u001B[38;5;124;03m\"\"\"Sends a GET request. Returns :class:`Response` object.\u001B[39;00m\n\u001B[1;32m    595\u001B[0m \n\u001B[1;32m    596\u001B[0m \u001B[38;5;124;03m:param url: URL for the new :class:`Request` object.\u001B[39;00m\n\u001B[1;32m    597\u001B[0m \u001B[38;5;124;03m:param \\*\\*kwargs: Optional arguments that ``request`` takes.\u001B[39;00m\n\u001B[1;32m    598\u001B[0m \u001B[38;5;124;03m:rtype: requests.Response\u001B[39;00m\n\u001B[1;32m    599\u001B[0m \u001B[38;5;124;03m\"\"\"\u001B[39;00m\n\u001B[1;32m    601\u001B[0m kwargs\u001B[38;5;241m.\u001B[39msetdefault(\u001B[38;5;124m\"\u001B[39m\u001B[38;5;124mallow_redirects\u001B[39m\u001B[38;5;124m\"\u001B[39m, \u001B[38;5;28;01mTrue\u001B[39;00m)\n\u001B[0;32m--> 602\u001B[0m \u001B[38;5;28;01mreturn\u001B[39;00m \u001B[38;5;28;43mself\u001B[39;49m\u001B[38;5;241;43m.\u001B[39;49m\u001B[43mrequest\u001B[49m\u001B[43m(\u001B[49m\u001B[38;5;124;43m\"\u001B[39;49m\u001B[38;5;124;43mGET\u001B[39;49m\u001B[38;5;124;43m\"\u001B[39;49m\u001B[43m,\u001B[49m\u001B[43m \u001B[49m\u001B[43murl\u001B[49m\u001B[43m,\u001B[49m\u001B[43m \u001B[49m\u001B[38;5;241;43m*\u001B[39;49m\u001B[38;5;241;43m*\u001B[39;49m\u001B[43mkwargs\u001B[49m\u001B[43m)\u001B[49m\n",
      "File \u001B[0;32m/opt/anaconda3/envs/sta141b/lib/python3.12/site-packages/requests/sessions.py:589\u001B[0m, in \u001B[0;36mSession.request\u001B[0;34m(self, method, url, params, data, headers, cookies, files, auth, timeout, allow_redirects, proxies, hooks, stream, verify, cert, json)\u001B[0m\n\u001B[1;32m    584\u001B[0m send_kwargs \u001B[38;5;241m=\u001B[39m {\n\u001B[1;32m    585\u001B[0m     \u001B[38;5;124m\"\u001B[39m\u001B[38;5;124mtimeout\u001B[39m\u001B[38;5;124m\"\u001B[39m: timeout,\n\u001B[1;32m    586\u001B[0m     \u001B[38;5;124m\"\u001B[39m\u001B[38;5;124mallow_redirects\u001B[39m\u001B[38;5;124m\"\u001B[39m: allow_redirects,\n\u001B[1;32m    587\u001B[0m }\n\u001B[1;32m    588\u001B[0m send_kwargs\u001B[38;5;241m.\u001B[39mupdate(settings)\n\u001B[0;32m--> 589\u001B[0m resp \u001B[38;5;241m=\u001B[39m \u001B[38;5;28;43mself\u001B[39;49m\u001B[38;5;241;43m.\u001B[39;49m\u001B[43msend\u001B[49m\u001B[43m(\u001B[49m\u001B[43mprep\u001B[49m\u001B[43m,\u001B[49m\u001B[43m \u001B[49m\u001B[38;5;241;43m*\u001B[39;49m\u001B[38;5;241;43m*\u001B[39;49m\u001B[43msend_kwargs\u001B[49m\u001B[43m)\u001B[49m\n\u001B[1;32m    591\u001B[0m \u001B[38;5;28;01mreturn\u001B[39;00m resp\n",
      "File \u001B[0;32m/opt/anaconda3/envs/sta141b/lib/python3.12/site-packages/requests/sessions.py:703\u001B[0m, in \u001B[0;36mSession.send\u001B[0;34m(self, request, **kwargs)\u001B[0m\n\u001B[1;32m    700\u001B[0m start \u001B[38;5;241m=\u001B[39m preferred_clock()\n\u001B[1;32m    702\u001B[0m \u001B[38;5;66;03m# Send the request\u001B[39;00m\n\u001B[0;32m--> 703\u001B[0m r \u001B[38;5;241m=\u001B[39m \u001B[43madapter\u001B[49m\u001B[38;5;241;43m.\u001B[39;49m\u001B[43msend\u001B[49m\u001B[43m(\u001B[49m\u001B[43mrequest\u001B[49m\u001B[43m,\u001B[49m\u001B[43m \u001B[49m\u001B[38;5;241;43m*\u001B[39;49m\u001B[38;5;241;43m*\u001B[39;49m\u001B[43mkwargs\u001B[49m\u001B[43m)\u001B[49m\n\u001B[1;32m    705\u001B[0m \u001B[38;5;66;03m# Total elapsed time of the request (approximately)\u001B[39;00m\n\u001B[1;32m    706\u001B[0m elapsed \u001B[38;5;241m=\u001B[39m preferred_clock() \u001B[38;5;241m-\u001B[39m start\n",
      "File \u001B[0;32m/opt/anaconda3/envs/sta141b/lib/python3.12/site-packages/requests/adapters.py:700\u001B[0m, in \u001B[0;36mHTTPAdapter.send\u001B[0;34m(self, request, stream, timeout, verify, cert, proxies)\u001B[0m\n\u001B[1;32m    696\u001B[0m     \u001B[38;5;28;01mif\u001B[39;00m \u001B[38;5;28misinstance\u001B[39m(e\u001B[38;5;241m.\u001B[39mreason, _SSLError):\n\u001B[1;32m    697\u001B[0m         \u001B[38;5;66;03m# This branch is for urllib3 v1.22 and later.\u001B[39;00m\n\u001B[1;32m    698\u001B[0m         \u001B[38;5;28;01mraise\u001B[39;00m SSLError(e, request\u001B[38;5;241m=\u001B[39mrequest)\n\u001B[0;32m--> 700\u001B[0m     \u001B[38;5;28;01mraise\u001B[39;00m \u001B[38;5;167;01mConnectionError\u001B[39;00m(e, request\u001B[38;5;241m=\u001B[39mrequest)\n\u001B[1;32m    702\u001B[0m \u001B[38;5;28;01mexcept\u001B[39;00m ClosedPoolError \u001B[38;5;28;01mas\u001B[39;00m e:\n\u001B[1;32m    703\u001B[0m     \u001B[38;5;28;01mraise\u001B[39;00m \u001B[38;5;167;01mConnectionError\u001B[39;00m(e, request\u001B[38;5;241m=\u001B[39mrequest)\n",
      "\u001B[0;31mConnectionError\u001B[0m: HTTPSConnectionPool(host='imsdb.com', port=443): Max retries exceeded with url: /Movie%20Scripts/A%20Scanner%20Darkly%20Script.html (Caused by NewConnectionError('<urllib3.connection.HTTPSConnection object at 0x115c52f00>: Failed to establish a new connection: [Errno 12] Cannot allocate memory'))"
     ]
    }
   ],
   "execution_count": 36
  },
  {
   "metadata": {},
   "cell_type": "code",
   "outputs": [],
   "execution_count": null,
   "source": "df.to_csv(\"movies.csv\", index=False)",
   "id": "29504afc1aa8dc2b"
  },
  {
   "cell_type": "markdown",
   "id": "b8f03faf",
   "metadata": {},
   "source": [
    "__Exercise 2__\n",
    "\n",
    "__(a, i)__ Lets retrieve data from the [CIA World Factbook](https://www.cia.gov/the-world-factbook/). Using devtools, find a way to retrieve the names of all listed world entities. *How many distinct world entities did you find? (Hint: I found more than 228 and less than 261)*\n",
    "\n",
    "__(ii)__ In order to navigate to their respective site, I assembled the path by processing the country names. Retrieve all country specific data in JSON format."
   ]
  },
  {
   "metadata": {
    "ExecuteTime": {
     "end_time": "2025-03-09T21:50:11.139998Z",
     "start_time": "2025-03-09T21:50:11.137827Z"
    }
   },
   "cell_type": "code",
   "source": [
    "from selenium import webdriver\n",
    "from selenium.webdriver.common.by import By\n",
    "from selenium.webdriver.support.select import Select\n",
    "\n",
    "import pandas as pd\n",
    "import requests\n",
    "import json\n",
    "\n",
    "from bs4 import BeautifulSoup\n",
    "from time import sleep"
   ],
   "id": "ae395dc950c6edda",
   "outputs": [],
   "execution_count": 141
  },
  {
   "metadata": {
    "ExecuteTime": {
     "end_time": "2025-03-09T21:50:13.431377Z",
     "start_time": "2025-03-09T21:50:11.681465Z"
    }
   },
   "cell_type": "code",
   "source": [
    "# (i)\n",
    "driver = webdriver.Chrome()\n",
    "driver.get(\"https://www.cia.gov/the-world-factbook/countries/\")\n",
    "select_num_pages = Select(driver.find_element(By.CSS_SELECTOR, \"select.per-page\"))"
   ],
   "id": "6126084b6d65f0a0",
   "outputs": [],
   "execution_count": 142
  },
  {
   "metadata": {
    "ExecuteTime": {
     "end_time": "2025-03-09T21:50:17.505419Z",
     "start_time": "2025-03-09T21:50:16.452766Z"
    }
   },
   "cell_type": "code",
   "source": [
    "select_num_pages.select_by_visible_text(\"All\")\n",
    "sleep(1)"
   ],
   "id": "fec64c60a24f046",
   "outputs": [],
   "execution_count": 143
  },
  {
   "metadata": {
    "ExecuteTime": {
     "end_time": "2025-03-09T21:50:17.562711Z",
     "start_time": "2025-03-09T21:50:17.546626Z"
    }
   },
   "cell_type": "code",
   "source": "links = driver.find_elements(By.XPATH, \"//a[starts-with(@href, '/the-world-factbook/countries/')]\")",
   "id": "8fad849c14eca3bd",
   "outputs": [],
   "execution_count": 144
  },
  {
   "metadata": {
    "ExecuteTime": {
     "end_time": "2025-03-09T21:50:18.254242Z",
     "start_time": "2025-03-09T21:50:18.251993Z"
    }
   },
   "cell_type": "code",
   "source": "link_texts = map(lambda link: link.text, links)",
   "id": "6240005b9a82887e",
   "outputs": [],
   "execution_count": 145
  },
  {
   "metadata": {
    "ExecuteTime": {
     "end_time": "2025-03-09T21:50:18.743473Z",
     "start_time": "2025-03-09T21:50:18.741372Z"
    }
   },
   "cell_type": "code",
   "source": "link_urls = map(lambda link: link.get_attribute(\"href\"), links)",
   "id": "bd255adca0bddc5e",
   "outputs": [],
   "execution_count": 146
  },
  {
   "metadata": {
    "ExecuteTime": {
     "end_time": "2025-03-09T21:50:20.206848Z",
     "start_time": "2025-03-09T21:50:19.207791Z"
    }
   },
   "cell_type": "code",
   "source": "df = pd.DataFrame({\"countries\": link_texts, \"urls\": link_urls})",
   "id": "1ff5f3b2eaf1dea0",
   "outputs": [],
   "execution_count": 147
  },
  {
   "metadata": {
    "ExecuteTime": {
     "end_time": "2025-03-09T21:50:20.298348Z",
     "start_time": "2025-03-09T21:50:20.209488Z"
    }
   },
   "cell_type": "code",
   "source": "driver.quit()",
   "id": "39c9a176d748e87a",
   "outputs": [],
   "execution_count": 148
  },
  {
   "metadata": {
    "ExecuteTime": {
     "end_time": "2025-03-09T21:50:21.295520Z",
     "start_time": "2025-03-09T21:50:21.292824Z"
    }
   },
   "cell_type": "code",
   "source": "df = df[df[\"countries\"] != \"Countries\"]",
   "id": "b690f1d887942c90",
   "outputs": [],
   "execution_count": 149
  },
  {
   "metadata": {
    "ExecuteTime": {
     "end_time": "2025-03-09T21:50:23.821340Z",
     "start_time": "2025-03-09T21:50:23.818987Z"
    }
   },
   "cell_type": "code",
   "source": [
    "def get_country_json(url):\n",
    "  country = url.split(\"/\")[-2]\n",
    "  response = requests.get(f'https://www.cia.gov/the-world-factbook/page-data/countries/{country}/page-data.json')\n",
    "  return response.text if response.status_code == 200 else None"
   ],
   "id": "ffc99efa5f07cbcf",
   "outputs": [],
   "execution_count": 150
  },
  {
   "metadata": {
    "ExecuteTime": {
     "end_time": "2025-03-09T21:50:29.050219Z",
     "start_time": "2025-03-09T21:50:24.634054Z"
    }
   },
   "cell_type": "code",
   "source": [
    "from concurrent.futures import ThreadPoolExecutor\n",
    "\n",
    "with ThreadPoolExecutor() as executor:\n",
    "    df['json_data'] = [*executor.map(get_country_json, df['urls'])]\n",
    "\n",
    "df.head()"
   ],
   "id": "890f6d8afd277f41",
   "outputs": [
    {
     "data": {
      "text/plain": [
       "               countries                                               urls  \\\n",
       "1            Afghanistan  https://www.cia.gov/the-world-factbook/countri...   \n",
       "2  Akrotiri and Dhekelia  https://www.cia.gov/the-world-factbook/countri...   \n",
       "3                Albania  https://www.cia.gov/the-world-factbook/countri...   \n",
       "4                Algeria  https://www.cia.gov/the-world-factbook/countri...   \n",
       "5         American Samoa  https://www.cia.gov/the-world-factbook/countri...   \n",
       "\n",
       "                                           json_data  \n",
       "1  {\"componentChunkName\":\"component---src-templat...  \n",
       "2  {\"componentChunkName\":\"component---src-templat...  \n",
       "3  {\"componentChunkName\":\"component---src-templat...  \n",
       "4  {\"componentChunkName\":\"component---src-templat...  \n",
       "5  {\"componentChunkName\":\"component---src-templat...  "
      ],
      "text/html": [
       "<div>\n",
       "<style scoped>\n",
       "    .dataframe tbody tr th:only-of-type {\n",
       "        vertical-align: middle;\n",
       "    }\n",
       "\n",
       "    .dataframe tbody tr th {\n",
       "        vertical-align: top;\n",
       "    }\n",
       "\n",
       "    .dataframe thead th {\n",
       "        text-align: right;\n",
       "    }\n",
       "</style>\n",
       "<table border=\"1\" class=\"dataframe\">\n",
       "  <thead>\n",
       "    <tr style=\"text-align: right;\">\n",
       "      <th></th>\n",
       "      <th>countries</th>\n",
       "      <th>urls</th>\n",
       "      <th>json_data</th>\n",
       "    </tr>\n",
       "  </thead>\n",
       "  <tbody>\n",
       "    <tr>\n",
       "      <th>1</th>\n",
       "      <td>Afghanistan</td>\n",
       "      <td>https://www.cia.gov/the-world-factbook/countri...</td>\n",
       "      <td>{\"componentChunkName\":\"component---src-templat...</td>\n",
       "    </tr>\n",
       "    <tr>\n",
       "      <th>2</th>\n",
       "      <td>Akrotiri and Dhekelia</td>\n",
       "      <td>https://www.cia.gov/the-world-factbook/countri...</td>\n",
       "      <td>{\"componentChunkName\":\"component---src-templat...</td>\n",
       "    </tr>\n",
       "    <tr>\n",
       "      <th>3</th>\n",
       "      <td>Albania</td>\n",
       "      <td>https://www.cia.gov/the-world-factbook/countri...</td>\n",
       "      <td>{\"componentChunkName\":\"component---src-templat...</td>\n",
       "    </tr>\n",
       "    <tr>\n",
       "      <th>4</th>\n",
       "      <td>Algeria</td>\n",
       "      <td>https://www.cia.gov/the-world-factbook/countri...</td>\n",
       "      <td>{\"componentChunkName\":\"component---src-templat...</td>\n",
       "    </tr>\n",
       "    <tr>\n",
       "      <th>5</th>\n",
       "      <td>American Samoa</td>\n",
       "      <td>https://www.cia.gov/the-world-factbook/countri...</td>\n",
       "      <td>{\"componentChunkName\":\"component---src-templat...</td>\n",
       "    </tr>\n",
       "  </tbody>\n",
       "</table>\n",
       "</div>"
      ]
     },
     "execution_count": 151,
     "metadata": {},
     "output_type": "execute_result"
    }
   ],
   "execution_count": 151
  },
  {
   "metadata": {
    "ExecuteTime": {
     "end_time": "2025-03-09T21:50:29.254616Z",
     "start_time": "2025-03-09T21:50:29.071218Z"
    }
   },
   "cell_type": "code",
   "source": "df.to_csv(\"countries.csv\", index=False)",
   "id": "6cafa4223d3f1d3c",
   "outputs": [],
   "execution_count": 152
  },
  {
   "metadata": {
    "ExecuteTime": {
     "end_time": "2025-03-09T21:48:51.397365Z",
     "start_time": "2025-03-09T21:48:51.372665Z"
    }
   },
   "cell_type": "code",
   "source": "df = pd.read_csv(\"countries.csv\")",
   "id": "fe95c176484e2c6",
   "outputs": [],
   "execution_count": 137
  },
  {
   "metadata": {
    "ExecuteTime": {
     "end_time": "2025-03-09T21:50:33.831046Z",
     "start_time": "2025-03-09T21:50:33.827862Z"
    }
   },
   "cell_type": "code",
   "source": "f'There are {df['urls'].nunique()} unique entities in the world'",
   "id": "3b4de1221d6d967c",
   "outputs": [
    {
     "data": {
      "text/plain": [
       "'There are 254 unique entities in the world'"
      ]
     },
     "execution_count": 153,
     "metadata": {},
     "output_type": "execute_result"
    }
   ],
   "execution_count": 153
  },
  {
   "cell_type": "markdown",
   "id": "274456da",
   "metadata": {},
   "source": [
    "\n",
    "__(b, i)__ We are interested in the key ports of each country. Write a function `get_port_data` that takes the country and returns all key ports in a list. *How many ports in total did you find?*\n",
    "\n",
    "__Test: __\n",
    "\n",
    "```\n",
    ">get_port_data('Afghanistan')\n",
    "\n",
    ">get_port_data('Algeria')\n",
    "['Alger',\n",
    " 'Annaba',\n",
    " 'Arzew',\n",
    " 'Arzew El Djedid',\n",
    " 'Bejaia',\n",
    " 'Mers El Kebir',\n",
    " 'Oran',\n",
    " 'Port Methanier',\n",
    " 'Skikda']\n",
    " \n",
    ">get_port_data('United States')\n",
    "['Baltimore',\n",
    " 'Boston',\n",
    " 'Brooklyn',\n",
    " 'Buffalo',\n",
    " 'Chester',\n",
    " 'Cleveland',\n",
    " 'Detroit',\n",
    " 'Galveston',\n",
    " 'Houston',\n",
    " 'Los Angeles',\n",
    " 'Louisiana Offshore Oil Port (LOOP)',\n",
    " 'Mobile',\n",
    " 'New Orleans',\n",
    " 'New York City',\n",
    " 'Norfolk',\n",
    " 'Oakland',\n",
    " 'Philadelphia',\n",
    " 'Portland',\n",
    " 'San Francisco',\n",
    " 'Seattle',\n",
    " 'Tri-City Port']\n",
    "```"
   ]
  },
  {
   "metadata": {
    "ExecuteTime": {
     "end_time": "2025-03-09T21:50:48.798308Z",
     "start_time": "2025-03-09T21:50:48.795720Z"
    }
   },
   "cell_type": "code",
   "source": [
    "def get_port_data(country):\n",
    "  data = json.loads(df.loc[df['countries'] == country, 'json_data'].iloc[0])\n",
    "  ports_object = next((item for item in data['result']['data']['fields']['nodes'] if item.get('name') == \"Ports\"), None)\n",
    "  if ports_object is None: return None\n",
    "  soup = BeautifulSoup(ports_object['data'], 'html.parser')\n",
    "  strong_tag = soup.find('strong', string=\"key ports:\")\n",
    "  return strong_tag.next_sibling.strip().split(', ')"
   ],
   "id": "1334e3c44b2e49c8",
   "outputs": [],
   "execution_count": 154
  },
  {
   "metadata": {
    "ExecuteTime": {
     "end_time": "2025-03-09T21:50:49.233644Z",
     "start_time": "2025-03-09T21:50:49.230426Z"
    }
   },
   "cell_type": "code",
   "source": "get_port_data('Afghanistan')",
   "id": "699baeb8018a9332",
   "outputs": [],
   "execution_count": 155
  },
  {
   "metadata": {
    "ExecuteTime": {
     "end_time": "2025-03-09T21:50:50.046412Z",
     "start_time": "2025-03-09T21:50:50.042345Z"
    }
   },
   "cell_type": "code",
   "source": "get_port_data('Algeria')",
   "id": "cc6cde7690e93a86",
   "outputs": [
    {
     "data": {
      "text/plain": [
       "['Alger',\n",
       " 'Annaba',\n",
       " 'Arzew',\n",
       " 'Arzew El Djedid',\n",
       " 'Bejaia',\n",
       " 'Mers El Kebir',\n",
       " 'Oran',\n",
       " 'Port Methanier',\n",
       " 'Skikda']"
      ]
     },
     "execution_count": 156,
     "metadata": {},
     "output_type": "execute_result"
    }
   ],
   "execution_count": 156
  },
  {
   "metadata": {
    "ExecuteTime": {
     "end_time": "2025-03-09T21:50:57.458813Z",
     "start_time": "2025-03-09T21:50:57.454672Z"
    }
   },
   "cell_type": "code",
   "source": "get_port_data('United States')",
   "id": "2ebaa1e779628065",
   "outputs": [
    {
     "data": {
      "text/plain": [
       "['Baltimore',\n",
       " 'Boston',\n",
       " 'Brooklyn',\n",
       " 'Buffalo',\n",
       " 'Chester',\n",
       " 'Cleveland',\n",
       " 'Detroit',\n",
       " 'Galveston',\n",
       " 'Houston',\n",
       " 'Los Angeles',\n",
       " 'Louisiana Offshore Oil Port (LOOP)',\n",
       " 'Mobile',\n",
       " 'New Orleans',\n",
       " 'New York City',\n",
       " 'Norfolk',\n",
       " 'Oakland',\n",
       " 'Philadelphia',\n",
       " 'Portland',\n",
       " 'San Francisco',\n",
       " 'Seattle',\n",
       " 'Tri-City Port']"
      ]
     },
     "execution_count": 158,
     "metadata": {},
     "output_type": "execute_result"
    }
   ],
   "execution_count": 158
  },
  {
   "metadata": {
    "ExecuteTime": {
     "end_time": "2025-03-09T21:51:10.469237Z",
     "start_time": "2025-03-09T21:51:10.310149Z"
    }
   },
   "cell_type": "code",
   "source": "df['ports'] = df['countries'].map(get_port_data)",
   "id": "6da574254a857010",
   "outputs": [],
   "execution_count": 159
  },
  {
   "metadata": {
    "ExecuteTime": {
     "end_time": "2025-03-09T21:51:12.193729Z",
     "start_time": "2025-03-09T21:51:12.188151Z"
    }
   },
   "cell_type": "code",
   "source": [
    "df.drop(columns=['json_data', 'urls'], inplace=True)\n",
    "df.head()"
   ],
   "id": "2078feeb846e048",
   "outputs": [
    {
     "data": {
      "text/plain": [
       "               countries                                              ports\n",
       "1            Afghanistan                                               None\n",
       "2  Akrotiri and Dhekelia                                               None\n",
       "3                Albania                         [Durres, Shengjin, Vlores]\n",
       "4                Algeria  [Alger, Annaba, Arzew, Arzew El Djedid, Bejaia...\n",
       "5         American Samoa                                 [Pago Pago Harbor]"
      ],
      "text/html": [
       "<div>\n",
       "<style scoped>\n",
       "    .dataframe tbody tr th:only-of-type {\n",
       "        vertical-align: middle;\n",
       "    }\n",
       "\n",
       "    .dataframe tbody tr th {\n",
       "        vertical-align: top;\n",
       "    }\n",
       "\n",
       "    .dataframe thead th {\n",
       "        text-align: right;\n",
       "    }\n",
       "</style>\n",
       "<table border=\"1\" class=\"dataframe\">\n",
       "  <thead>\n",
       "    <tr style=\"text-align: right;\">\n",
       "      <th></th>\n",
       "      <th>countries</th>\n",
       "      <th>ports</th>\n",
       "    </tr>\n",
       "  </thead>\n",
       "  <tbody>\n",
       "    <tr>\n",
       "      <th>1</th>\n",
       "      <td>Afghanistan</td>\n",
       "      <td>None</td>\n",
       "    </tr>\n",
       "    <tr>\n",
       "      <th>2</th>\n",
       "      <td>Akrotiri and Dhekelia</td>\n",
       "      <td>None</td>\n",
       "    </tr>\n",
       "    <tr>\n",
       "      <th>3</th>\n",
       "      <td>Albania</td>\n",
       "      <td>[Durres, Shengjin, Vlores]</td>\n",
       "    </tr>\n",
       "    <tr>\n",
       "      <th>4</th>\n",
       "      <td>Algeria</td>\n",
       "      <td>[Alger, Annaba, Arzew, Arzew El Djedid, Bejaia...</td>\n",
       "    </tr>\n",
       "    <tr>\n",
       "      <th>5</th>\n",
       "      <td>American Samoa</td>\n",
       "      <td>[Pago Pago Harbor]</td>\n",
       "    </tr>\n",
       "  </tbody>\n",
       "</table>\n",
       "</div>"
      ]
     },
     "execution_count": 160,
     "metadata": {},
     "output_type": "execute_result"
    }
   ],
   "execution_count": 160
  },
  {
   "cell_type": "markdown",
   "id": "75df37b9",
   "metadata": {},
   "source": "__(ii)__ Where are these ports? Use the [Nominatim API](https://nominatim.org/) to obtain latitude-longitude pairs for each port. *How many pairs did you find?*"
  },
  {
   "metadata": {
    "ExecuteTime": {
     "end_time": "2025-03-09T21:53:07.452080Z",
     "start_time": "2025-03-09T21:53:07.446654Z"
    }
   },
   "cell_type": "code",
   "source": [
    "# TODO: this and everything below\n",
    "ports = df.explode('ports').dropna(subset=['ports'])"
   ],
   "id": "7b96da637246bff0",
   "outputs": [],
   "execution_count": 166
  },
  {
   "metadata": {
    "ExecuteTime": {
     "end_time": "2025-03-09T21:53:07.780524Z",
     "start_time": "2025-03-09T21:53:07.776629Z"
    }
   },
   "cell_type": "code",
   "source": "ports.head()",
   "id": "c94c46c6b8ecc26",
   "outputs": [
    {
     "data": {
      "text/plain": [
       "  countries     ports\n",
       "3   Albania    Durres\n",
       "3   Albania  Shengjin\n",
       "3   Albania    Vlores\n",
       "4   Algeria     Alger\n",
       "4   Algeria    Annaba"
      ],
      "text/html": [
       "<div>\n",
       "<style scoped>\n",
       "    .dataframe tbody tr th:only-of-type {\n",
       "        vertical-align: middle;\n",
       "    }\n",
       "\n",
       "    .dataframe tbody tr th {\n",
       "        vertical-align: top;\n",
       "    }\n",
       "\n",
       "    .dataframe thead th {\n",
       "        text-align: right;\n",
       "    }\n",
       "</style>\n",
       "<table border=\"1\" class=\"dataframe\">\n",
       "  <thead>\n",
       "    <tr style=\"text-align: right;\">\n",
       "      <th></th>\n",
       "      <th>countries</th>\n",
       "      <th>ports</th>\n",
       "    </tr>\n",
       "  </thead>\n",
       "  <tbody>\n",
       "    <tr>\n",
       "      <th>3</th>\n",
       "      <td>Albania</td>\n",
       "      <td>Durres</td>\n",
       "    </tr>\n",
       "    <tr>\n",
       "      <th>3</th>\n",
       "      <td>Albania</td>\n",
       "      <td>Shengjin</td>\n",
       "    </tr>\n",
       "    <tr>\n",
       "      <th>3</th>\n",
       "      <td>Albania</td>\n",
       "      <td>Vlores</td>\n",
       "    </tr>\n",
       "    <tr>\n",
       "      <th>4</th>\n",
       "      <td>Algeria</td>\n",
       "      <td>Alger</td>\n",
       "    </tr>\n",
       "    <tr>\n",
       "      <th>4</th>\n",
       "      <td>Algeria</td>\n",
       "      <td>Annaba</td>\n",
       "    </tr>\n",
       "  </tbody>\n",
       "</table>\n",
       "</div>"
      ]
     },
     "execution_count": 167,
     "metadata": {},
     "output_type": "execute_result"
    }
   ],
   "execution_count": 167
  },
  {
   "metadata": {
    "ExecuteTime": {
     "end_time": "2025-03-09T21:53:31.715094Z",
     "start_time": "2025-03-09T21:53:31.711368Z"
    }
   },
   "cell_type": "code",
   "source": "ports.to_csv(\"ports.csv\", index=False)",
   "id": "fe6dbaed6bfc4fa9",
   "outputs": [],
   "execution_count": 168
  },
  {
   "metadata": {
    "ExecuteTime": {
     "end_time": "2025-03-09T21:53:39.738411Z",
     "start_time": "2025-03-09T21:53:39.732413Z"
    }
   },
   "cell_type": "code",
   "source": "ports = pd.read_csv(\"ports.csv\")",
   "id": "b64e75c66e73b7f8",
   "outputs": [],
   "execution_count": 169
  },
  {
   "metadata": {
    "ExecuteTime": {
     "end_time": "2025-03-09T22:14:40.596331Z",
     "start_time": "2025-03-09T22:14:40.594048Z"
    }
   },
   "cell_type": "code",
   "source": [
    "def get_port_info(port, country):\n",
    "  country = country.replace(' ', '%20')\n",
    "  port = port.replace(' ', '%20')\n",
    "  url = f'https://nominatim.openstreetmap.org/search?q={port},%20{country}&polygon_geojson=1&format=jsonv2'\n",
    "  headers = {\n",
    "    'User-Agent': 'MyWebScraper (ajowe@ucdavis.edu)'\n",
    "  }\n",
    "  response = requests.get(url, headers=headers)\n",
    "  sleep(1)\n",
    "  return response.json()"
   ],
   "id": "8c6f7b4061091418",
   "outputs": [],
   "execution_count": 203
  },
  {
   "metadata": {},
   "cell_type": "code",
   "outputs": [],
   "execution_count": null,
   "source": [
    "response = get_port_info(\"Big Creek\", \"Belize\")\n",
    "response"
   ],
   "id": "6c91b37f3e1ca2ba"
  },
  {
   "metadata": {
    "ExecuteTime": {
     "end_time": "2025-03-09T22:05:36.953457Z",
     "start_time": "2025-03-09T22:05:36.951091Z"
    }
   },
   "cell_type": "code",
   "source": "json_data = response.json()",
   "id": "9facd7df70e25eb2",
   "outputs": [],
   "execution_count": 176
  },
  {
   "metadata": {
    "ExecuteTime": {
     "end_time": "2025-03-09T22:06:21.862074Z",
     "start_time": "2025-03-09T22:06:21.859834Z"
    }
   },
   "cell_type": "code",
   "source": "json_data[0].keys()",
   "id": "cf199172f00314ac",
   "outputs": [
    {
     "data": {
      "text/plain": [
       "dict_keys(['place_id', 'licence', 'osm_type', 'osm_id', 'lat', 'lon', 'category', 'type', 'place_rank', 'importance', 'addresstype', 'name', 'display_name', 'boundingbox', 'geojson'])"
      ]
     },
     "execution_count": 181,
     "metadata": {},
     "output_type": "execute_result"
    }
   ],
   "execution_count": 181
  },
  {
   "metadata": {
    "ExecuteTime": {
     "end_time": "2025-03-09T22:08:40.158231Z",
     "start_time": "2025-03-09T22:08:40.156131Z"
    }
   },
   "cell_type": "code",
   "source": "json_data[1]['category']",
   "id": "970734725506f1ba",
   "outputs": [
    {
     "data": {
      "text/plain": [
       "'place'"
      ]
     },
     "execution_count": 199,
     "metadata": {},
     "output_type": "execute_result"
    }
   ],
   "execution_count": 199
  },
  {
   "metadata": {
    "ExecuteTime": {
     "end_time": "2025-03-09T22:36:56.027194Z",
     "start_time": "2025-03-09T22:15:04.199601Z"
    }
   },
   "cell_type": "code",
   "source": "ports['info'] = ports.apply(lambda row: get_port_info(row['ports'], row['countries']), axis=1)",
   "id": "ea91a7a2fa4388f7",
   "outputs": [],
   "execution_count": 204
  },
  {
   "metadata": {
    "ExecuteTime": {
     "end_time": "2025-03-09T22:36:58.192293Z",
     "start_time": "2025-03-09T22:36:56.060414Z"
    }
   },
   "cell_type": "code",
   "source": "ports.to_csv(\"ports.csv\", index=False)",
   "id": "84b5eb92fa7dcb97",
   "outputs": [],
   "execution_count": 205
  },
  {
   "cell_type": "markdown",
   "id": "8286ff02",
   "metadata": {},
   "source": [
    "__(iii)__ Add markers to a world map identifying each found port. The result should look something like this: \n",
    "\n",
    "<img src=\"source/world.png\" width=\"500\" height=\"300\">"
   ]
  },
  {
   "metadata": {},
   "cell_type": "code",
   "outputs": [],
   "execution_count": null,
   "source": "",
   "id": "75d115d38d25d57e"
  },
  {
   "cell_type": "markdown",
   "id": "225ff452",
   "metadata": {},
   "source": [
    "__(c)__ Lets learn about each nations merchant marine! Write a function `merchant_marine` that takes the country and returns the merchant marine as follows: \n",
    "\n",
    "```\n",
    ">merchant_marine('Angola')\n",
    "{'bulk carrier': 0,\n",
    " 'container ship': 0,\n",
    " 'general cargo': 13,\n",
    " 'oil tanker': 8,\n",
    " 'other': 43}\n",
    "```\n",
    "\n",
    "List the five most merchant marines measured __(i)__ by the total amount of ships, __(ii)__ by the total amount of *non-other* ships __(iii)__ and by the total amout of oil tankers. "
   ]
  }
 ],
 "metadata": {
  "celltoolbar": "Tags",
  "kernelspec": {
   "display_name": "Python 3 (ipykernel)",
   "language": "python",
   "name": "python3"
  },
  "language_info": {
   "codemirror_mode": {
    "name": "ipython",
    "version": 3
   },
   "file_extension": ".py",
   "mimetype": "text/x-python",
   "name": "python",
   "nbconvert_exporter": "python",
   "pygments_lexer": "ipython3",
   "version": "3.9.12"
  }
 },
 "nbformat": 4,
 "nbformat_minor": 5
}
