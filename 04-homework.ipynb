{
 "cells": [
  {
   "cell_type": "markdown",
   "id": "ea74de81",
   "metadata": {
    "tags": [
     "header"
    ]
   },
   "source": [
    "# STA 141B FQ 25 Homework Assignment 4\n",
    "\n",
    "## Instructions\n",
    "\n",
    "- Complete the exercises below. Create more code chunks if necessary. Answer all questions. Show results for both the *test* and *run* cases.\n",
    "- Export the Jupyter Notebook as an PDF file.\n",
    "- Submit the PDF by **Sunday, March 9th, at 11:59 PM PT** to [Gradescope](https://www.gradescope.com/courses/947485). \n",
    "- For each exercise, indicate the region of your answer in the PDF to facilitate grading. \n",
    "\n",
    "## Additional information\n",
    "\n",
    "- Complete this worksheet yourself. \n",
    "- You may use the internet or discuss possible approaches to solve the problems with other students. You are not allowed to share your code or your answers with other students.\n",
    "- No other libraries than those explicitly allowed can be used. \n",
    "- Use code cells for your Python scripts and Markdown cells for explanatory text or answers to non-coding questions. Answer all textual questions in complete sentences.\n",
    "- Late homework submissions will not be accepted. No submissions will be accepted by email.\n",
    "- The total number of points for this assignment is 20."
   ]
  },
  {
   "cell_type": "markdown",
   "id": "cafc09d4",
   "metadata": {},
   "source": [
    "__Exercise 1__\n",
    "\n",
    "Lets obtain movie information for the movies available on the Internet Movie Script Database [IMSDb](https://imsdb.com/). \n",
    "\n",
    "__(a)__ Use the _Alphabetical_ section to obtain the URL of all movies. How many different movies do you obtain?"
   ]
  },
  {
   "metadata": {
    "ExecuteTime": {
     "end_time": "2025-03-10T03:49:40.328831Z",
     "start_time": "2025-03-10T03:49:40.327130Z"
    }
   },
   "cell_type": "code",
   "source": [
    "import requests\n",
    "from bs4 import BeautifulSoup\n",
    "import pandas as pd\n",
    "\n",
    "from concurrent.futures import ThreadPoolExecutor\n",
    "\n",
    "# Base URL of IMSDb\n",
    "base_url = \"https://imsdb.com\""
   ],
   "id": "12bbc4f2023a9735",
   "outputs": [],
   "execution_count": 216
  },
  {
   "metadata": {
    "ExecuteTime": {
     "end_time": "2025-03-08T00:34:14.984143Z",
     "start_time": "2025-03-08T00:34:14.981066Z"
    }
   },
   "cell_type": "code",
   "source": "alphabet = ['0', 'A', 'B', 'C', 'D', 'E', 'F', 'G', 'H', 'I', 'J', 'K', 'L', 'M', 'N', 'O', 'P', 'Q', 'R', 'S', 'T', 'U', 'V', 'W', 'X', 'Y', 'Z']",
   "id": "df9098b7cf15cc51",
   "outputs": [],
   "execution_count": 2
  },
  {
   "metadata": {
    "ExecuteTime": {
     "end_time": "2025-03-08T01:02:53.361445Z",
     "start_time": "2025-03-08T01:02:26.641212Z"
    }
   },
   "cell_type": "code",
   "source": [
    "URLs = []\n",
    "\n",
    "for letter in alphabet:\n",
    "  url = f\"{base_url}/alphabetical/{letter}\"\n",
    "  response = requests.get(url)\n",
    "  soup = BeautifulSoup(response.text, 'html.parser')\n",
    "  tables = soup.find_all(\"table\")\n",
    "  assert(len(tables) > 1)\n",
    "  second_table = tables[1]\n",
    "  data_cells = second_table.find_all(\"td\")\n",
    "  assert(len(data_cells) > 2)\n",
    "  third_data_cell = data_cells[0]\n",
    "  ps = third_data_cell.find_all(\"p\")\n",
    "  for p in ps:\n",
    "    a = p.find(\"a\")\n",
    "    URLs.append(a[\"href\"])"
   ],
   "id": "eef60fa7860560ee",
   "outputs": [],
   "execution_count": 7
  },
  {
   "metadata": {
    "ExecuteTime": {
     "end_time": "2025-03-08T04:04:06.703920Z",
     "start_time": "2025-03-08T04:04:06.694539Z"
    }
   },
   "cell_type": "code",
   "source": [
    "df = pd.DataFrame(URLs, columns=[\"URL\"])\n",
    "df = df.drop_duplicates()\n",
    "df.head()"
   ],
   "id": "9480ec3e8ba53d43",
   "outputs": [
    {
     "data": {
      "text/plain": [
       "                                                 URL\n",
       "0  /Movie Scripts/10 Things I Hate About You Scri...\n",
       "1                      /Movie Scripts/12 Script.html\n",
       "2          /Movie Scripts/12 and Holding Script.html\n",
       "3              /Movie Scripts/12 Monkeys Script.html\n",
       "4        /Movie Scripts/12 Years a Slave Script.html"
      ],
      "text/html": [
       "<div>\n",
       "<style scoped>\n",
       "    .dataframe tbody tr th:only-of-type {\n",
       "        vertical-align: middle;\n",
       "    }\n",
       "\n",
       "    .dataframe tbody tr th {\n",
       "        vertical-align: top;\n",
       "    }\n",
       "\n",
       "    .dataframe thead th {\n",
       "        text-align: right;\n",
       "    }\n",
       "</style>\n",
       "<table border=\"1\" class=\"dataframe\">\n",
       "  <thead>\n",
       "    <tr style=\"text-align: right;\">\n",
       "      <th></th>\n",
       "      <th>URL</th>\n",
       "    </tr>\n",
       "  </thead>\n",
       "  <tbody>\n",
       "    <tr>\n",
       "      <th>0</th>\n",
       "      <td>/Movie Scripts/10 Things I Hate About You Scri...</td>\n",
       "    </tr>\n",
       "    <tr>\n",
       "      <th>1</th>\n",
       "      <td>/Movie Scripts/12 Script.html</td>\n",
       "    </tr>\n",
       "    <tr>\n",
       "      <th>2</th>\n",
       "      <td>/Movie Scripts/12 and Holding Script.html</td>\n",
       "    </tr>\n",
       "    <tr>\n",
       "      <th>3</th>\n",
       "      <td>/Movie Scripts/12 Monkeys Script.html</td>\n",
       "    </tr>\n",
       "    <tr>\n",
       "      <th>4</th>\n",
       "      <td>/Movie Scripts/12 Years a Slave Script.html</td>\n",
       "    </tr>\n",
       "  </tbody>\n",
       "</table>\n",
       "</div>"
      ]
     },
     "execution_count": 12,
     "metadata": {},
     "output_type": "execute_result"
    }
   ],
   "execution_count": 12
  },
  {
   "metadata": {
    "ExecuteTime": {
     "end_time": "2025-03-08T04:04:37.678642Z",
     "start_time": "2025-03-08T04:04:37.675213Z"
    }
   },
   "cell_type": "code",
   "source": "f'There are {df.shape[0]} movies'",
   "id": "c90c85c181bfbfcc",
   "outputs": [
    {
     "data": {
      "text/plain": [
       "'There are 1295 movies'"
      ]
     },
     "execution_count": 13,
     "metadata": {},
     "output_type": "execute_result"
    }
   ],
   "execution_count": 13
  },
  {
   "metadata": {
    "ExecuteTime": {
     "end_time": "2025-03-08T04:04:41.699325Z",
     "start_time": "2025-03-08T04:04:41.693734Z"
    }
   },
   "cell_type": "code",
   "source": "df.to_csv(\"movies.csv\", index=False)",
   "id": "20b4107383df3544",
   "outputs": [],
   "execution_count": 14
  },
  {
   "metadata": {
    "ExecuteTime": {
     "end_time": "2025-03-09T23:13:43.507203Z",
     "start_time": "2025-03-09T23:13:43.500339Z"
    }
   },
   "cell_type": "code",
   "source": "df = pd.read_csv(\"movies.csv\")",
   "id": "5918271cfd773616",
   "outputs": [],
   "execution_count": 211
  },
  {
   "metadata": {
    "ExecuteTime": {
     "end_time": "2025-03-09T23:13:54.259986Z",
     "start_time": "2025-03-09T23:13:54.257154Z"
    }
   },
   "cell_type": "code",
   "source": "df.head()",
   "id": "3f1e57ef3281ef6e",
   "outputs": [
    {
     "data": {
      "text/plain": [
       "                                                 URL\n",
       "0  /Movie Scripts/10 Things I Hate About You Scri...\n",
       "1                      /Movie Scripts/12 Script.html\n",
       "2          /Movie Scripts/12 and Holding Script.html\n",
       "3              /Movie Scripts/12 Monkeys Script.html\n",
       "4        /Movie Scripts/12 Years a Slave Script.html"
      ],
      "text/html": [
       "<div>\n",
       "<style scoped>\n",
       "    .dataframe tbody tr th:only-of-type {\n",
       "        vertical-align: middle;\n",
       "    }\n",
       "\n",
       "    .dataframe tbody tr th {\n",
       "        vertical-align: top;\n",
       "    }\n",
       "\n",
       "    .dataframe thead th {\n",
       "        text-align: right;\n",
       "    }\n",
       "</style>\n",
       "<table border=\"1\" class=\"dataframe\">\n",
       "  <thead>\n",
       "    <tr style=\"text-align: right;\">\n",
       "      <th></th>\n",
       "      <th>URL</th>\n",
       "    </tr>\n",
       "  </thead>\n",
       "  <tbody>\n",
       "    <tr>\n",
       "      <th>0</th>\n",
       "      <td>/Movie Scripts/10 Things I Hate About You Scri...</td>\n",
       "    </tr>\n",
       "    <tr>\n",
       "      <th>1</th>\n",
       "      <td>/Movie Scripts/12 Script.html</td>\n",
       "    </tr>\n",
       "    <tr>\n",
       "      <th>2</th>\n",
       "      <td>/Movie Scripts/12 and Holding Script.html</td>\n",
       "    </tr>\n",
       "    <tr>\n",
       "      <th>3</th>\n",
       "      <td>/Movie Scripts/12 Monkeys Script.html</td>\n",
       "    </tr>\n",
       "    <tr>\n",
       "      <th>4</th>\n",
       "      <td>/Movie Scripts/12 Years a Slave Script.html</td>\n",
       "    </tr>\n",
       "  </tbody>\n",
       "</table>\n",
       "</div>"
      ]
     },
     "execution_count": 212,
     "metadata": {},
     "output_type": "execute_result"
    }
   ],
   "execution_count": 212
  },
  {
   "cell_type": "markdown",
   "id": "a268f346",
   "metadata": {},
   "source": [
    "__(b)__ For every movie, obtain the title, writers, genres, script date and movie release date. \n",
    "\n",
    "__Test:__\n",
    "\n",
    "```python\n",
    "> get_movie_details('/Movie Scripts/Feast Script.html')\n",
    "('Feast',\n",
    " {'writers': ['Patrick Melton', 'Marcus Dunston'],\n",
    "  'genres': ['Action', 'Comedy', 'Horror', 'Thriller'],\n",
    "  'script_date': 2004,\n",
    "  'release_date': 2006})\n",
    "```\n",
    "\n",
    "__(i)__ Which movie has the greatest observed distance between script and movie release date? __(ii)__ Which writer has written the most movies?"
   ]
  },
  {
   "metadata": {
    "ExecuteTime": {
     "end_time": "2025-03-08T04:20:53.194864Z",
     "start_time": "2025-03-08T04:20:53.188311Z"
    }
   },
   "cell_type": "code",
   "source": "df = pd.read_csv(\"movies.csv\")",
   "id": "7a6f8e9b76a1c6c8",
   "outputs": [],
   "execution_count": 5
  },
  {
   "metadata": {
    "ExecuteTime": {
     "end_time": "2025-03-10T03:49:10.061002Z",
     "start_time": "2025-03-10T03:49:09.371743Z"
    }
   },
   "cell_type": "code",
   "source": [
    "def get_movie_details(endpoint):\n",
    "  title = endpoint.split(\"/\")[-1][:-4]\n",
    "\n",
    "  with requests.Session() as session:\n",
    "    response = session.get(f'{base_url}{endpoint}')\n",
    "\n",
    "  soup = BeautifulSoup(response.text, 'html.parser')\n",
    "\n",
    "  writers = [*map(\n",
    "    lambda x: x.text,\n",
    "    soup.find_all('a', href=lambda x: x and x.startswith('/writer.php?')),\n",
    "  )]\n",
    "\n",
    "  genres = [*map(\n",
    "    lambda x: x.text,\n",
    "    soup.find_all('a', href=lambda x: x and x.startswith('/genre/')),\n",
    "  )]\n",
    "\n",
    "  script_date_tag = soup.find('b', string='Script Date')\n",
    "  script_date = script_date_tag.find_next(string=True).find_next(string=True).strip()[2:] if script_date_tag else None\n",
    "  release_date_tag = soup.find('b', string='Movie Release Date')\n",
    "  release_date = release_date_tag.find_next(string=True).find_next(string=True).strip()[2:] if release_date_tag else None\n",
    "\n",
    "  return title, {\n",
    "    'writers': writers,\n",
    "    'genres': genres,\n",
    "    'script_date': script_date,\n",
    "    'release_date': release_date,\n",
    "  }\n",
    "\n",
    "get_movie_details(\"/Movie Scripts/Feast Script.html\")"
   ],
   "id": "37169ca7dfe8c4b0",
   "outputs": [
    {
     "data": {
      "text/plain": [
       "('Feast Script.',\n",
       " {'writers': ['Patrick Melton', 'Marcus Dunston'],\n",
       "  'genres': ['Action',\n",
       "   'Adventure',\n",
       "   'Animation',\n",
       "   'Comedy',\n",
       "   'Crime',\n",
       "   'Drama',\n",
       "   'Family',\n",
       "   'Fantasy',\n",
       "   'Film-Noir',\n",
       "   'Horror',\n",
       "   'Musical',\n",
       "   'Mystery',\n",
       "   'Romance',\n",
       "   'Sci-Fi',\n",
       "   'Short',\n",
       "   'Thriller',\n",
       "   'War',\n",
       "   'Western',\n",
       "   'Action',\n",
       "   'Comedy',\n",
       "   'Horror',\n",
       "   'Thriller'],\n",
       "  'script_date': 'May 2004',\n",
       "  'release_date': 'September 2006'})"
      ]
     },
     "execution_count": 215,
     "metadata": {},
     "output_type": "execute_result"
    }
   ],
   "execution_count": 215
  },
  {
   "metadata": {
    "ExecuteTime": {
     "end_time": "2025-03-10T03:51:20.958816Z",
     "start_time": "2025-03-10T03:50:30.326602Z"
    }
   },
   "cell_type": "code",
   "source": [
    "with ThreadPoolExecutor() as executor:\n",
    "    results = list(executor.map(get_movie_details, df['URL']))\n",
    "\n",
    "# Convert results into a DataFrame\n",
    "df[['title', 'details']] = pd.DataFrame(results, index=df.index)"
   ],
   "id": "b87f6cfc4c761199",
   "outputs": [],
   "execution_count": 217
  },
  {
   "metadata": {
    "ExecuteTime": {
     "end_time": "2025-03-10T03:51:20.973768Z",
     "start_time": "2025-03-10T03:51:20.962020Z"
    }
   },
   "cell_type": "code",
   "source": "df.to_csv(\"movies.csv\", index=False)",
   "id": "29504afc1aa8dc2b",
   "outputs": [],
   "execution_count": 218
  },
  {
   "metadata": {
    "ExecuteTime": {
     "end_time": "2025-03-10T03:51:43.774293Z",
     "start_time": "2025-03-10T03:51:43.769588Z"
    }
   },
   "cell_type": "code",
   "source": "df.head()",
   "id": "67d70421b1cf6c13",
   "outputs": [
    {
     "data": {
      "text/plain": [
       "                                                 URL  \\\n",
       "0  /Movie Scripts/10 Things I Hate About You Scri...   \n",
       "1                      /Movie Scripts/12 Script.html   \n",
       "2          /Movie Scripts/12 and Holding Script.html   \n",
       "3              /Movie Scripts/12 Monkeys Script.html   \n",
       "4        /Movie Scripts/12 Years a Slave Script.html   \n",
       "\n",
       "                                title  \\\n",
       "0  10 Things I Hate About You Script.   \n",
       "1                          12 Script.   \n",
       "2              12 and Holding Script.   \n",
       "3                  12 Monkeys Script.   \n",
       "4            12 Years a Slave Script.   \n",
       "\n",
       "                                             details  \n",
       "0  {'writers': ['Karen McCullah Lutz', 'Kirsten S...  \n",
       "1  {'writers': ['Lawrence Bridges'], 'genres': ['...  \n",
       "2  {'writers': ['Anthony Cipriano'], 'genres': ['...  \n",
       "3  {'writers': ['David Peoples', 'Janet Peoples']...  \n",
       "4  {'writers': ['John Ridley'], 'genres': ['Actio...  "
      ],
      "text/html": [
       "<div>\n",
       "<style scoped>\n",
       "    .dataframe tbody tr th:only-of-type {\n",
       "        vertical-align: middle;\n",
       "    }\n",
       "\n",
       "    .dataframe tbody tr th {\n",
       "        vertical-align: top;\n",
       "    }\n",
       "\n",
       "    .dataframe thead th {\n",
       "        text-align: right;\n",
       "    }\n",
       "</style>\n",
       "<table border=\"1\" class=\"dataframe\">\n",
       "  <thead>\n",
       "    <tr style=\"text-align: right;\">\n",
       "      <th></th>\n",
       "      <th>URL</th>\n",
       "      <th>title</th>\n",
       "      <th>details</th>\n",
       "    </tr>\n",
       "  </thead>\n",
       "  <tbody>\n",
       "    <tr>\n",
       "      <th>0</th>\n",
       "      <td>/Movie Scripts/10 Things I Hate About You Scri...</td>\n",
       "      <td>10 Things I Hate About You Script.</td>\n",
       "      <td>{'writers': ['Karen McCullah Lutz', 'Kirsten S...</td>\n",
       "    </tr>\n",
       "    <tr>\n",
       "      <th>1</th>\n",
       "      <td>/Movie Scripts/12 Script.html</td>\n",
       "      <td>12 Script.</td>\n",
       "      <td>{'writers': ['Lawrence Bridges'], 'genres': ['...</td>\n",
       "    </tr>\n",
       "    <tr>\n",
       "      <th>2</th>\n",
       "      <td>/Movie Scripts/12 and Holding Script.html</td>\n",
       "      <td>12 and Holding Script.</td>\n",
       "      <td>{'writers': ['Anthony Cipriano'], 'genres': ['...</td>\n",
       "    </tr>\n",
       "    <tr>\n",
       "      <th>3</th>\n",
       "      <td>/Movie Scripts/12 Monkeys Script.html</td>\n",
       "      <td>12 Monkeys Script.</td>\n",
       "      <td>{'writers': ['David Peoples', 'Janet Peoples']...</td>\n",
       "    </tr>\n",
       "    <tr>\n",
       "      <th>4</th>\n",
       "      <td>/Movie Scripts/12 Years a Slave Script.html</td>\n",
       "      <td>12 Years a Slave Script.</td>\n",
       "      <td>{'writers': ['John Ridley'], 'genres': ['Actio...</td>\n",
       "    </tr>\n",
       "  </tbody>\n",
       "</table>\n",
       "</div>"
      ]
     },
     "execution_count": 219,
     "metadata": {},
     "output_type": "execute_result"
    }
   ],
   "execution_count": 219
  },
  {
   "metadata": {
    "ExecuteTime": {
     "end_time": "2025-03-10T03:53:37.954245Z",
     "start_time": "2025-03-10T03:53:37.831678Z"
    }
   },
   "cell_type": "code",
   "source": [
    "# Function to compute the difference in days\n",
    "def date_diff(details):\n",
    "    try:\n",
    "        script_date = pd.to_datetime(details.get('script_date'))\n",
    "        release_date = pd.to_datetime(details.get('release_date'))\n",
    "        return abs((release_date - script_date).days) if pd.notna(script_date) and pd.notna(release_date) else None\n",
    "    except:\n",
    "        return None\n",
    "\n",
    "# Compute differences\n",
    "df['date_diff'] = df['details'].apply(date_diff)\n",
    "\n",
    "# Find the row with the max difference\n",
    "max_diff_row = df.loc[df['date_diff'].idxmax()]"
   ],
   "id": "ef5643812e15259d",
   "outputs": [],
   "execution_count": 220
  },
  {
   "metadata": {
    "ExecuteTime": {
     "end_time": "2025-03-10T03:54:58.497179Z",
     "start_time": "2025-03-10T03:54:58.495021Z"
    }
   },
   "cell_type": "code",
   "source": "f'The {max_diff_row['title'][:-1]} has the greatest observed distance of {max_diff_row['date_diff']} between script date and release date'",
   "id": "f0af52dd890de14d",
   "outputs": [
    {
     "data": {
      "text/plain": [
       "'The Ricky Stanicky Script has the greatest observed distance of 5234.0 between script date and release date'"
      ]
     },
     "execution_count": 223,
     "metadata": {},
     "output_type": "execute_result"
    }
   ],
   "execution_count": 223
  },
  {
   "metadata": {
    "ExecuteTime": {
     "end_time": "2025-03-10T03:55:56.467782Z",
     "start_time": "2025-03-10T03:55:56.464457Z"
    }
   },
   "cell_type": "code",
   "source": [
    "from collections import Counter\n",
    "\n",
    "# Function to extract writers list\n",
    "def get_writers(details):\n",
    "    return details.get('writers', []) if isinstance(details, dict) else []\n",
    "\n",
    "# Extract and flatten the list of all writers\n",
    "all_writers = df['details'].apply(get_writers).explode()\n",
    "\n",
    "# Count occurrences of each writer\n",
    "writer_counts = Counter(all_writers.dropna())\n",
    "\n",
    "# Find the writer with the most movies\n",
    "most_common_writer, most_movies = writer_counts.most_common(1)[0]"
   ],
   "id": "d1d004674189f107",
   "outputs": [],
   "execution_count": 224
  },
  {
   "metadata": {
    "ExecuteTime": {
     "end_time": "2025-03-10T03:56:07.729898Z",
     "start_time": "2025-03-10T03:56:07.727579Z"
    }
   },
   "cell_type": "code",
   "source": "f\"The writer with the most movies is {most_common_writer} with {most_movies} movies.\"",
   "id": "a1aee5daecaf9c1a",
   "outputs": [
    {
     "data": {
      "text/plain": [
       "'The writer with the most movies is Ethan Coen with 15 movies.'"
      ]
     },
     "execution_count": 226,
     "metadata": {},
     "output_type": "execute_result"
    }
   ],
   "execution_count": 226
  },
  {
   "cell_type": "markdown",
   "id": "b8f03faf",
   "metadata": {},
   "source": [
    "__Exercise 2__\n",
    "\n",
    "__(a, i)__ Lets retrieve data from the [CIA World Factbook](https://www.cia.gov/the-world-factbook/). Using devtools, find a way to retrieve the names of all listed world entities. *How many distinct world entities did you find? (Hint: I found more than 228 and less than 261)*\n",
    "\n",
    "__(ii)__ In order to navigate to their respective site, I assembled the path by processing the country names. Retrieve all country specific data in JSON format."
   ]
  },
  {
   "metadata": {
    "ExecuteTime": {
     "end_time": "2025-03-09T21:50:11.139998Z",
     "start_time": "2025-03-09T21:50:11.137827Z"
    }
   },
   "cell_type": "code",
   "source": [
    "from selenium import webdriver\n",
    "from selenium.webdriver.common.by import By\n",
    "from selenium.webdriver.support.select import Select\n",
    "\n",
    "import pandas as pd\n",
    "import requests\n",
    "import json\n",
    "\n",
    "from bs4 import BeautifulSoup\n",
    "from time import sleep"
   ],
   "id": "ae395dc950c6edda",
   "outputs": [],
   "execution_count": 141
  },
  {
   "metadata": {
    "ExecuteTime": {
     "end_time": "2025-03-09T21:50:13.431377Z",
     "start_time": "2025-03-09T21:50:11.681465Z"
    }
   },
   "cell_type": "code",
   "source": [
    "# (i)\n",
    "driver = webdriver.Chrome()\n",
    "driver.get(\"https://www.cia.gov/the-world-factbook/countries/\")\n",
    "select_num_pages = Select(driver.find_element(By.CSS_SELECTOR, \"select.per-page\"))"
   ],
   "id": "6126084b6d65f0a0",
   "outputs": [],
   "execution_count": 142
  },
  {
   "metadata": {
    "ExecuteTime": {
     "end_time": "2025-03-09T21:50:17.505419Z",
     "start_time": "2025-03-09T21:50:16.452766Z"
    }
   },
   "cell_type": "code",
   "source": [
    "select_num_pages.select_by_visible_text(\"All\")\n",
    "sleep(1)"
   ],
   "id": "fec64c60a24f046",
   "outputs": [],
   "execution_count": 143
  },
  {
   "metadata": {
    "ExecuteTime": {
     "end_time": "2025-03-09T21:50:17.562711Z",
     "start_time": "2025-03-09T21:50:17.546626Z"
    }
   },
   "cell_type": "code",
   "source": "links = driver.find_elements(By.XPATH, \"//a[starts-with(@href, '/the-world-factbook/countries/')]\")",
   "id": "8fad849c14eca3bd",
   "outputs": [],
   "execution_count": 144
  },
  {
   "metadata": {
    "ExecuteTime": {
     "end_time": "2025-03-09T21:50:18.254242Z",
     "start_time": "2025-03-09T21:50:18.251993Z"
    }
   },
   "cell_type": "code",
   "source": "link_texts = map(lambda link: link.text, links)",
   "id": "6240005b9a82887e",
   "outputs": [],
   "execution_count": 145
  },
  {
   "metadata": {
    "ExecuteTime": {
     "end_time": "2025-03-09T21:50:18.743473Z",
     "start_time": "2025-03-09T21:50:18.741372Z"
    }
   },
   "cell_type": "code",
   "source": "link_urls = map(lambda link: link.get_attribute(\"href\"), links)",
   "id": "bd255adca0bddc5e",
   "outputs": [],
   "execution_count": 146
  },
  {
   "metadata": {
    "ExecuteTime": {
     "end_time": "2025-03-09T21:50:20.206848Z",
     "start_time": "2025-03-09T21:50:19.207791Z"
    }
   },
   "cell_type": "code",
   "source": "df = pd.DataFrame({\"countries\": link_texts, \"urls\": link_urls})",
   "id": "1ff5f3b2eaf1dea0",
   "outputs": [],
   "execution_count": 147
  },
  {
   "metadata": {
    "ExecuteTime": {
     "end_time": "2025-03-09T21:50:20.298348Z",
     "start_time": "2025-03-09T21:50:20.209488Z"
    }
   },
   "cell_type": "code",
   "source": "driver.quit()",
   "id": "39c9a176d748e87a",
   "outputs": [],
   "execution_count": 148
  },
  {
   "metadata": {
    "ExecuteTime": {
     "end_time": "2025-03-09T21:50:21.295520Z",
     "start_time": "2025-03-09T21:50:21.292824Z"
    }
   },
   "cell_type": "code",
   "source": "df = df[df[\"countries\"] != \"Countries\"]",
   "id": "b690f1d887942c90",
   "outputs": [],
   "execution_count": 149
  },
  {
   "metadata": {
    "ExecuteTime": {
     "end_time": "2025-03-09T21:50:23.821340Z",
     "start_time": "2025-03-09T21:50:23.818987Z"
    }
   },
   "cell_type": "code",
   "source": [
    "def get_country_json(url):\n",
    "  country = url.split(\"/\")[-2]\n",
    "  response = requests.get(f'https://www.cia.gov/the-world-factbook/page-data/countries/{country}/page-data.json')\n",
    "  return response.text if response.status_code == 200 else None"
   ],
   "id": "ffc99efa5f07cbcf",
   "outputs": [],
   "execution_count": 150
  },
  {
   "metadata": {
    "ExecuteTime": {
     "end_time": "2025-03-09T21:50:29.050219Z",
     "start_time": "2025-03-09T21:50:24.634054Z"
    }
   },
   "cell_type": "code",
   "source": [
    "from concurrent.futures import ThreadPoolExecutor\n",
    "\n",
    "with ThreadPoolExecutor() as executor:\n",
    "    df['json_data'] = [*executor.map(get_country_json, df['urls'])]\n",
    "\n",
    "df.head()"
   ],
   "id": "890f6d8afd277f41",
   "outputs": [
    {
     "data": {
      "text/plain": [
       "               countries                                               urls  \\\n",
       "1            Afghanistan  https://www.cia.gov/the-world-factbook/countri...   \n",
       "2  Akrotiri and Dhekelia  https://www.cia.gov/the-world-factbook/countri...   \n",
       "3                Albania  https://www.cia.gov/the-world-factbook/countri...   \n",
       "4                Algeria  https://www.cia.gov/the-world-factbook/countri...   \n",
       "5         American Samoa  https://www.cia.gov/the-world-factbook/countri...   \n",
       "\n",
       "                                           json_data  \n",
       "1  {\"componentChunkName\":\"component---src-templat...  \n",
       "2  {\"componentChunkName\":\"component---src-templat...  \n",
       "3  {\"componentChunkName\":\"component---src-templat...  \n",
       "4  {\"componentChunkName\":\"component---src-templat...  \n",
       "5  {\"componentChunkName\":\"component---src-templat...  "
      ],
      "text/html": [
       "<div>\n",
       "<style scoped>\n",
       "    .dataframe tbody tr th:only-of-type {\n",
       "        vertical-align: middle;\n",
       "    }\n",
       "\n",
       "    .dataframe tbody tr th {\n",
       "        vertical-align: top;\n",
       "    }\n",
       "\n",
       "    .dataframe thead th {\n",
       "        text-align: right;\n",
       "    }\n",
       "</style>\n",
       "<table border=\"1\" class=\"dataframe\">\n",
       "  <thead>\n",
       "    <tr style=\"text-align: right;\">\n",
       "      <th></th>\n",
       "      <th>countries</th>\n",
       "      <th>urls</th>\n",
       "      <th>json_data</th>\n",
       "    </tr>\n",
       "  </thead>\n",
       "  <tbody>\n",
       "    <tr>\n",
       "      <th>1</th>\n",
       "      <td>Afghanistan</td>\n",
       "      <td>https://www.cia.gov/the-world-factbook/countri...</td>\n",
       "      <td>{\"componentChunkName\":\"component---src-templat...</td>\n",
       "    </tr>\n",
       "    <tr>\n",
       "      <th>2</th>\n",
       "      <td>Akrotiri and Dhekelia</td>\n",
       "      <td>https://www.cia.gov/the-world-factbook/countri...</td>\n",
       "      <td>{\"componentChunkName\":\"component---src-templat...</td>\n",
       "    </tr>\n",
       "    <tr>\n",
       "      <th>3</th>\n",
       "      <td>Albania</td>\n",
       "      <td>https://www.cia.gov/the-world-factbook/countri...</td>\n",
       "      <td>{\"componentChunkName\":\"component---src-templat...</td>\n",
       "    </tr>\n",
       "    <tr>\n",
       "      <th>4</th>\n",
       "      <td>Algeria</td>\n",
       "      <td>https://www.cia.gov/the-world-factbook/countri...</td>\n",
       "      <td>{\"componentChunkName\":\"component---src-templat...</td>\n",
       "    </tr>\n",
       "    <tr>\n",
       "      <th>5</th>\n",
       "      <td>American Samoa</td>\n",
       "      <td>https://www.cia.gov/the-world-factbook/countri...</td>\n",
       "      <td>{\"componentChunkName\":\"component---src-templat...</td>\n",
       "    </tr>\n",
       "  </tbody>\n",
       "</table>\n",
       "</div>"
      ]
     },
     "execution_count": 151,
     "metadata": {},
     "output_type": "execute_result"
    }
   ],
   "execution_count": 151
  },
  {
   "metadata": {
    "ExecuteTime": {
     "end_time": "2025-03-09T21:50:29.254616Z",
     "start_time": "2025-03-09T21:50:29.071218Z"
    }
   },
   "cell_type": "code",
   "source": "df.to_csv(\"countries.csv\", index=False)",
   "id": "6cafa4223d3f1d3c",
   "outputs": [],
   "execution_count": 152
  },
  {
   "metadata": {
    "ExecuteTime": {
     "end_time": "2025-03-10T03:57:00.328221Z",
     "start_time": "2025-03-10T03:57:00.144828Z"
    }
   },
   "cell_type": "code",
   "source": "df = pd.read_csv(\"countries.csv\")",
   "id": "fe95c176484e2c6",
   "outputs": [],
   "execution_count": 228
  },
  {
   "metadata": {
    "ExecuteTime": {
     "end_time": "2025-03-09T21:50:33.831046Z",
     "start_time": "2025-03-09T21:50:33.827862Z"
    }
   },
   "cell_type": "code",
   "source": "f'There are {df['urls'].nunique()} unique entities in the world'",
   "id": "3b4de1221d6d967c",
   "outputs": [
    {
     "data": {
      "text/plain": [
       "'There are 254 unique entities in the world'"
      ]
     },
     "execution_count": 153,
     "metadata": {},
     "output_type": "execute_result"
    }
   ],
   "execution_count": 153
  },
  {
   "cell_type": "markdown",
   "id": "274456da",
   "metadata": {},
   "source": [
    "\n",
    "__(b, i)__ We are interested in the key ports of each country. Write a function `get_port_data` that takes the country and returns all key ports in a list. *How many ports in total did you find?*\n",
    "\n",
    "__Test: __\n",
    "\n",
    "```\n",
    ">get_port_data('Afghanistan')\n",
    "\n",
    ">get_port_data('Algeria')\n",
    "['Alger',\n",
    " 'Annaba',\n",
    " 'Arzew',\n",
    " 'Arzew El Djedid',\n",
    " 'Bejaia',\n",
    " 'Mers El Kebir',\n",
    " 'Oran',\n",
    " 'Port Methanier',\n",
    " 'Skikda']\n",
    " \n",
    ">get_port_data('United States')\n",
    "['Baltimore',\n",
    " 'Boston',\n",
    " 'Brooklyn',\n",
    " 'Buffalo',\n",
    " 'Chester',\n",
    " 'Cleveland',\n",
    " 'Detroit',\n",
    " 'Galveston',\n",
    " 'Houston',\n",
    " 'Los Angeles',\n",
    " 'Louisiana Offshore Oil Port (LOOP)',\n",
    " 'Mobile',\n",
    " 'New Orleans',\n",
    " 'New York City',\n",
    " 'Norfolk',\n",
    " 'Oakland',\n",
    " 'Philadelphia',\n",
    " 'Portland',\n",
    " 'San Francisco',\n",
    " 'Seattle',\n",
    " 'Tri-City Port']\n",
    "```"
   ]
  },
  {
   "metadata": {
    "ExecuteTime": {
     "end_time": "2025-03-09T21:50:48.798308Z",
     "start_time": "2025-03-09T21:50:48.795720Z"
    }
   },
   "cell_type": "code",
   "source": [
    "def get_port_data(country):\n",
    "  data = json.loads(df.loc[df['countries'] == country, 'json_data'].iloc[0])\n",
    "  ports_object = next((item for item in data['result']['data']['fields']['nodes'] if item.get('name') == \"Ports\"), None)\n",
    "  if ports_object is None: return None\n",
    "  soup = BeautifulSoup(ports_object['data'], 'html.parser')\n",
    "  strong_tag = soup.find('strong', string=\"key ports:\")\n",
    "  return strong_tag.next_sibling.strip().split(', ')"
   ],
   "id": "1334e3c44b2e49c8",
   "outputs": [],
   "execution_count": 154
  },
  {
   "metadata": {
    "ExecuteTime": {
     "end_time": "2025-03-09T21:50:49.233644Z",
     "start_time": "2025-03-09T21:50:49.230426Z"
    }
   },
   "cell_type": "code",
   "source": "get_port_data('Afghanistan')",
   "id": "699baeb8018a9332",
   "outputs": [],
   "execution_count": 155
  },
  {
   "metadata": {
    "ExecuteTime": {
     "end_time": "2025-03-09T21:50:50.046412Z",
     "start_time": "2025-03-09T21:50:50.042345Z"
    }
   },
   "cell_type": "code",
   "source": "get_port_data('Algeria')",
   "id": "cc6cde7690e93a86",
   "outputs": [
    {
     "data": {
      "text/plain": [
       "['Alger',\n",
       " 'Annaba',\n",
       " 'Arzew',\n",
       " 'Arzew El Djedid',\n",
       " 'Bejaia',\n",
       " 'Mers El Kebir',\n",
       " 'Oran',\n",
       " 'Port Methanier',\n",
       " 'Skikda']"
      ]
     },
     "execution_count": 156,
     "metadata": {},
     "output_type": "execute_result"
    }
   ],
   "execution_count": 156
  },
  {
   "metadata": {
    "ExecuteTime": {
     "end_time": "2025-03-09T21:50:57.458813Z",
     "start_time": "2025-03-09T21:50:57.454672Z"
    }
   },
   "cell_type": "code",
   "source": "get_port_data('United States')",
   "id": "2ebaa1e779628065",
   "outputs": [
    {
     "data": {
      "text/plain": [
       "['Baltimore',\n",
       " 'Boston',\n",
       " 'Brooklyn',\n",
       " 'Buffalo',\n",
       " 'Chester',\n",
       " 'Cleveland',\n",
       " 'Detroit',\n",
       " 'Galveston',\n",
       " 'Houston',\n",
       " 'Los Angeles',\n",
       " 'Louisiana Offshore Oil Port (LOOP)',\n",
       " 'Mobile',\n",
       " 'New Orleans',\n",
       " 'New York City',\n",
       " 'Norfolk',\n",
       " 'Oakland',\n",
       " 'Philadelphia',\n",
       " 'Portland',\n",
       " 'San Francisco',\n",
       " 'Seattle',\n",
       " 'Tri-City Port']"
      ]
     },
     "execution_count": 158,
     "metadata": {},
     "output_type": "execute_result"
    }
   ],
   "execution_count": 158
  },
  {
   "metadata": {
    "ExecuteTime": {
     "end_time": "2025-03-09T21:51:10.469237Z",
     "start_time": "2025-03-09T21:51:10.310149Z"
    }
   },
   "cell_type": "code",
   "source": "df['ports'] = df['countries'].map(get_port_data)",
   "id": "6da574254a857010",
   "outputs": [],
   "execution_count": 159
  },
  {
   "metadata": {
    "ExecuteTime": {
     "end_time": "2025-03-09T21:51:12.193729Z",
     "start_time": "2025-03-09T21:51:12.188151Z"
    }
   },
   "cell_type": "code",
   "source": [
    "df.drop(columns=['json_data', 'urls'], inplace=True)\n",
    "df.head()"
   ],
   "id": "2078feeb846e048",
   "outputs": [
    {
     "data": {
      "text/plain": [
       "               countries                                              ports\n",
       "1            Afghanistan                                               None\n",
       "2  Akrotiri and Dhekelia                                               None\n",
       "3                Albania                         [Durres, Shengjin, Vlores]\n",
       "4                Algeria  [Alger, Annaba, Arzew, Arzew El Djedid, Bejaia...\n",
       "5         American Samoa                                 [Pago Pago Harbor]"
      ],
      "text/html": [
       "<div>\n",
       "<style scoped>\n",
       "    .dataframe tbody tr th:only-of-type {\n",
       "        vertical-align: middle;\n",
       "    }\n",
       "\n",
       "    .dataframe tbody tr th {\n",
       "        vertical-align: top;\n",
       "    }\n",
       "\n",
       "    .dataframe thead th {\n",
       "        text-align: right;\n",
       "    }\n",
       "</style>\n",
       "<table border=\"1\" class=\"dataframe\">\n",
       "  <thead>\n",
       "    <tr style=\"text-align: right;\">\n",
       "      <th></th>\n",
       "      <th>countries</th>\n",
       "      <th>ports</th>\n",
       "    </tr>\n",
       "  </thead>\n",
       "  <tbody>\n",
       "    <tr>\n",
       "      <th>1</th>\n",
       "      <td>Afghanistan</td>\n",
       "      <td>None</td>\n",
       "    </tr>\n",
       "    <tr>\n",
       "      <th>2</th>\n",
       "      <td>Akrotiri and Dhekelia</td>\n",
       "      <td>None</td>\n",
       "    </tr>\n",
       "    <tr>\n",
       "      <th>3</th>\n",
       "      <td>Albania</td>\n",
       "      <td>[Durres, Shengjin, Vlores]</td>\n",
       "    </tr>\n",
       "    <tr>\n",
       "      <th>4</th>\n",
       "      <td>Algeria</td>\n",
       "      <td>[Alger, Annaba, Arzew, Arzew El Djedid, Bejaia...</td>\n",
       "    </tr>\n",
       "    <tr>\n",
       "      <th>5</th>\n",
       "      <td>American Samoa</td>\n",
       "      <td>[Pago Pago Harbor]</td>\n",
       "    </tr>\n",
       "  </tbody>\n",
       "</table>\n",
       "</div>"
      ]
     },
     "execution_count": 160,
     "metadata": {},
     "output_type": "execute_result"
    }
   ],
   "execution_count": 160
  },
  {
   "cell_type": "markdown",
   "id": "75df37b9",
   "metadata": {},
   "source": "__(ii)__ Where are these ports? Use the [Nominatim API](https://nominatim.org/) to obtain latitude-longitude pairs for each port. *How many pairs did you find?*"
  },
  {
   "metadata": {
    "ExecuteTime": {
     "end_time": "2025-03-09T21:53:07.452080Z",
     "start_time": "2025-03-09T21:53:07.446654Z"
    }
   },
   "cell_type": "code",
   "source": [
    "# TODO: this and everything below\n",
    "ports = df.explode('ports').dropna(subset=['ports'])"
   ],
   "id": "7b96da637246bff0",
   "outputs": [],
   "execution_count": 166
  },
  {
   "metadata": {
    "ExecuteTime": {
     "end_time": "2025-03-09T21:53:07.780524Z",
     "start_time": "2025-03-09T21:53:07.776629Z"
    }
   },
   "cell_type": "code",
   "source": "ports.head()",
   "id": "c94c46c6b8ecc26",
   "outputs": [
    {
     "data": {
      "text/plain": [
       "  countries     ports\n",
       "3   Albania    Durres\n",
       "3   Albania  Shengjin\n",
       "3   Albania    Vlores\n",
       "4   Algeria     Alger\n",
       "4   Algeria    Annaba"
      ],
      "text/html": [
       "<div>\n",
       "<style scoped>\n",
       "    .dataframe tbody tr th:only-of-type {\n",
       "        vertical-align: middle;\n",
       "    }\n",
       "\n",
       "    .dataframe tbody tr th {\n",
       "        vertical-align: top;\n",
       "    }\n",
       "\n",
       "    .dataframe thead th {\n",
       "        text-align: right;\n",
       "    }\n",
       "</style>\n",
       "<table border=\"1\" class=\"dataframe\">\n",
       "  <thead>\n",
       "    <tr style=\"text-align: right;\">\n",
       "      <th></th>\n",
       "      <th>countries</th>\n",
       "      <th>ports</th>\n",
       "    </tr>\n",
       "  </thead>\n",
       "  <tbody>\n",
       "    <tr>\n",
       "      <th>3</th>\n",
       "      <td>Albania</td>\n",
       "      <td>Durres</td>\n",
       "    </tr>\n",
       "    <tr>\n",
       "      <th>3</th>\n",
       "      <td>Albania</td>\n",
       "      <td>Shengjin</td>\n",
       "    </tr>\n",
       "    <tr>\n",
       "      <th>3</th>\n",
       "      <td>Albania</td>\n",
       "      <td>Vlores</td>\n",
       "    </tr>\n",
       "    <tr>\n",
       "      <th>4</th>\n",
       "      <td>Algeria</td>\n",
       "      <td>Alger</td>\n",
       "    </tr>\n",
       "    <tr>\n",
       "      <th>4</th>\n",
       "      <td>Algeria</td>\n",
       "      <td>Annaba</td>\n",
       "    </tr>\n",
       "  </tbody>\n",
       "</table>\n",
       "</div>"
      ]
     },
     "execution_count": 167,
     "metadata": {},
     "output_type": "execute_result"
    }
   ],
   "execution_count": 167
  },
  {
   "metadata": {
    "ExecuteTime": {
     "end_time": "2025-03-09T21:53:31.715094Z",
     "start_time": "2025-03-09T21:53:31.711368Z"
    }
   },
   "cell_type": "code",
   "source": "ports.to_csv(\"ports.csv\", index=False)",
   "id": "fe6dbaed6bfc4fa9",
   "outputs": [],
   "execution_count": 168
  },
  {
   "metadata": {
    "ExecuteTime": {
     "end_time": "2025-03-09T21:53:39.738411Z",
     "start_time": "2025-03-09T21:53:39.732413Z"
    }
   },
   "cell_type": "code",
   "source": "ports = pd.read_csv(\"ports.csv\")",
   "id": "b64e75c66e73b7f8",
   "outputs": [],
   "execution_count": 169
  },
  {
   "metadata": {
    "ExecuteTime": {
     "end_time": "2025-03-09T22:14:40.596331Z",
     "start_time": "2025-03-09T22:14:40.594048Z"
    }
   },
   "cell_type": "code",
   "source": [
    "def get_port_info(port, country):\n",
    "  country = country.replace(' ', '%20')\n",
    "  port = port.replace(' ', '%20')\n",
    "  url = f'https://nominatim.openstreetmap.org/search?q={port},%20{country}&polygon_geojson=1&format=jsonv2'\n",
    "  headers = {\n",
    "    'User-Agent': 'MyWebScraper (ajowe@ucdavis.edu)'\n",
    "  }\n",
    "  response = requests.get(url, headers=headers)\n",
    "  sleep(1)\n",
    "  return response.json()"
   ],
   "id": "8c6f7b4061091418",
   "outputs": [],
   "execution_count": 203
  },
  {
   "metadata": {},
   "cell_type": "code",
   "outputs": [],
   "execution_count": null,
   "source": [
    "response = get_port_info(\"Big Creek\", \"Belize\")\n",
    "response"
   ],
   "id": "6c91b37f3e1ca2ba"
  },
  {
   "metadata": {
    "ExecuteTime": {
     "end_time": "2025-03-09T22:05:36.953457Z",
     "start_time": "2025-03-09T22:05:36.951091Z"
    }
   },
   "cell_type": "code",
   "source": "json_data = response.json()",
   "id": "9facd7df70e25eb2",
   "outputs": [],
   "execution_count": 176
  },
  {
   "metadata": {
    "ExecuteTime": {
     "end_time": "2025-03-09T22:06:21.862074Z",
     "start_time": "2025-03-09T22:06:21.859834Z"
    }
   },
   "cell_type": "code",
   "source": "json_data[0].keys()",
   "id": "cf199172f00314ac",
   "outputs": [
    {
     "data": {
      "text/plain": [
       "dict_keys(['place_id', 'licence', 'osm_type', 'osm_id', 'lat', 'lon', 'category', 'type', 'place_rank', 'importance', 'addresstype', 'name', 'display_name', 'boundingbox', 'geojson'])"
      ]
     },
     "execution_count": 181,
     "metadata": {},
     "output_type": "execute_result"
    }
   ],
   "execution_count": 181
  },
  {
   "metadata": {
    "ExecuteTime": {
     "end_time": "2025-03-09T22:08:40.158231Z",
     "start_time": "2025-03-09T22:08:40.156131Z"
    }
   },
   "cell_type": "code",
   "source": "json_data[1]['category']",
   "id": "970734725506f1ba",
   "outputs": [
    {
     "data": {
      "text/plain": [
       "'place'"
      ]
     },
     "execution_count": 199,
     "metadata": {},
     "output_type": "execute_result"
    }
   ],
   "execution_count": 199
  },
  {
   "metadata": {
    "ExecuteTime": {
     "end_time": "2025-03-09T22:36:56.027194Z",
     "start_time": "2025-03-09T22:15:04.199601Z"
    }
   },
   "cell_type": "code",
   "source": "ports['info'] = ports.apply(lambda row: get_port_info(row['ports'], row['countries']), axis=1)",
   "id": "ea91a7a2fa4388f7",
   "outputs": [],
   "execution_count": 204
  },
  {
   "metadata": {
    "ExecuteTime": {
     "end_time": "2025-03-09T22:36:58.192293Z",
     "start_time": "2025-03-09T22:36:56.060414Z"
    }
   },
   "cell_type": "code",
   "source": "ports.to_csv(\"ports.csv\", index=False)",
   "id": "84b5eb92fa7dcb97",
   "outputs": [],
   "execution_count": 205
  },
  {
   "cell_type": "markdown",
   "id": "8286ff02",
   "metadata": {},
   "source": [
    "__(iii)__ Add markers to a world map identifying each found port. The result should look something like this: \n",
    "\n",
    "<img src=\"source/world.png\" width=\"500\" height=\"300\">"
   ]
  },
  {
   "metadata": {
    "ExecuteTime": {
     "end_time": "2025-03-10T03:56:19.551173Z",
     "start_time": "2025-03-10T03:56:19.495128Z"
    }
   },
   "cell_type": "code",
   "source": "ports.head()",
   "id": "75d115d38d25d57e",
   "outputs": [
    {
     "data": {
      "text/plain": [
       "  countries     ports                                               info\n",
       "0   Albania    Durres  [{'place_id': 51158903, 'licence': 'Data © Ope...\n",
       "1   Albania  Shengjin  [{'place_id': 50678288, 'licence': 'Data © Ope...\n",
       "2   Albania    Vlores  [{'place_id': 51200114, 'licence': 'Data © Ope...\n",
       "3   Algeria     Alger  [{'place_id': 46754164, 'licence': 'Data © Ope...\n",
       "4   Algeria    Annaba  [{'place_id': 47732893, 'licence': 'Data © Ope..."
      ],
      "text/html": [
       "<div>\n",
       "<style scoped>\n",
       "    .dataframe tbody tr th:only-of-type {\n",
       "        vertical-align: middle;\n",
       "    }\n",
       "\n",
       "    .dataframe tbody tr th {\n",
       "        vertical-align: top;\n",
       "    }\n",
       "\n",
       "    .dataframe thead th {\n",
       "        text-align: right;\n",
       "    }\n",
       "</style>\n",
       "<table border=\"1\" class=\"dataframe\">\n",
       "  <thead>\n",
       "    <tr style=\"text-align: right;\">\n",
       "      <th></th>\n",
       "      <th>countries</th>\n",
       "      <th>ports</th>\n",
       "      <th>info</th>\n",
       "    </tr>\n",
       "  </thead>\n",
       "  <tbody>\n",
       "    <tr>\n",
       "      <th>0</th>\n",
       "      <td>Albania</td>\n",
       "      <td>Durres</td>\n",
       "      <td>[{'place_id': 51158903, 'licence': 'Data © Ope...</td>\n",
       "    </tr>\n",
       "    <tr>\n",
       "      <th>1</th>\n",
       "      <td>Albania</td>\n",
       "      <td>Shengjin</td>\n",
       "      <td>[{'place_id': 50678288, 'licence': 'Data © Ope...</td>\n",
       "    </tr>\n",
       "    <tr>\n",
       "      <th>2</th>\n",
       "      <td>Albania</td>\n",
       "      <td>Vlores</td>\n",
       "      <td>[{'place_id': 51200114, 'licence': 'Data © Ope...</td>\n",
       "    </tr>\n",
       "    <tr>\n",
       "      <th>3</th>\n",
       "      <td>Algeria</td>\n",
       "      <td>Alger</td>\n",
       "      <td>[{'place_id': 46754164, 'licence': 'Data © Ope...</td>\n",
       "    </tr>\n",
       "    <tr>\n",
       "      <th>4</th>\n",
       "      <td>Algeria</td>\n",
       "      <td>Annaba</td>\n",
       "      <td>[{'place_id': 47732893, 'licence': 'Data © Ope...</td>\n",
       "    </tr>\n",
       "  </tbody>\n",
       "</table>\n",
       "</div>"
      ]
     },
     "execution_count": 227,
     "metadata": {},
     "output_type": "execute_result"
    }
   ],
   "execution_count": 227
  },
  {
   "metadata": {
    "ExecuteTime": {
     "end_time": "2025-03-09T23:11:58.488887Z",
     "start_time": "2025-03-09T23:11:58.486805Z"
    }
   },
   "cell_type": "code",
   "source": [
    "ports.loc[0, \"info\"][0].keys()\n",
    "\n",
    "# TODO:"
   ],
   "id": "872e3b55aaa9fcff",
   "outputs": [
    {
     "data": {
      "text/plain": [
       "dict_keys(['place_id', 'licence', 'osm_type', 'osm_id', 'lat', 'lon', 'category', 'type', 'place_rank', 'importance', 'addresstype', 'name', 'display_name', 'boundingbox', 'geojson'])"
      ]
     },
     "execution_count": 209,
     "metadata": {},
     "output_type": "execute_result"
    }
   ],
   "execution_count": 209
  },
  {
   "cell_type": "markdown",
   "id": "225ff452",
   "metadata": {},
   "source": [
    "__(c)__ Lets learn about each nations merchant marine! Write a function `merchant_marine` that takes the country and returns the merchant marine as follows: \n",
    "\n",
    "```\n",
    ">merchant_marine('Angola')\n",
    "{'bulk carrier': 0,\n",
    " 'container ship': 0,\n",
    " 'general cargo': 13,\n",
    " 'oil tanker': 8,\n",
    " 'other': 43}\n",
    "```\n",
    "\n",
    "List the five most merchant marines measured __(i)__ by the total amount of ships, __(ii)__ by the total amount of *non-other* ships __(iii)__ and by the total amout of oil tankers."
   ]
  },
  {
   "metadata": {
    "ExecuteTime": {
     "end_time": "2025-03-10T04:04:00.454739Z",
     "start_time": "2025-03-10T04:04:00.451080Z"
    }
   },
   "cell_type": "code",
   "source": [
    "nodes = json.loads(df.iloc[3]['json_data'])['result']['data']['fields']['nodes']\n",
    "merchant_marine = next((item for item in nodes if item.get(\"name\") == \"Merchant marine\"), None)\n",
    "merchant_marine['data']"
   ],
   "id": "7487bead7774db9b",
   "outputs": [
    {
     "data": {
      "text/plain": [
       "'<strong>total:</strong> 119 (2022)<br><br><strong>by type:</strong> bulk carrier 1, container ship 4, general cargo 11, oil tanker 14, other 89'"
      ]
     },
     "execution_count": 239,
     "metadata": {},
     "output_type": "execute_result"
    }
   ],
   "execution_count": 239
  },
  {
   "metadata": {},
   "cell_type": "code",
   "outputs": [],
   "execution_count": null,
   "source": "",
   "id": "2a3454629f5fe164"
  }
 ],
 "metadata": {
  "celltoolbar": "Tags",
  "kernelspec": {
   "display_name": "Python 3 (ipykernel)",
   "language": "python",
   "name": "python3"
  },
  "language_info": {
   "codemirror_mode": {
    "name": "ipython",
    "version": 3
   },
   "file_extension": ".py",
   "mimetype": "text/x-python",
   "name": "python",
   "nbconvert_exporter": "python",
   "pygments_lexer": "ipython3",
   "version": "3.9.12"
  }
 },
 "nbformat": 4,
 "nbformat_minor": 5
}
