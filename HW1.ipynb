{
 "cells": [
  {
   "cell_type": "markdown",
   "metadata": {},
   "source": [
    "# 1"
   ]
  },
  {
   "cell_type": "code",
   "execution_count": 4,
   "metadata": {},
   "outputs": [],
   "source": [
    "def fib(n):\n",
    "  if n == 0:\n",
    "    return \"0\"\n",
    "  elif n == 1:\n",
    "    return \"01\"\n",
    "  \n",
    "  prevprev = \"0\"\n",
    "  prev = \"01\"\n",
    "  newstr = \"\".join([prev, prevprev])\n",
    "  for i in range(2, n):\n",
    "    prevprev = prev\n",
    "    prev = newstr\n",
    "    newstr = \"\".join([prev, prevprev])\n",
    "  \n",
    "  return newstr"
   ]
  },
  {
   "cell_type": "code",
   "execution_count": 5,
   "metadata": {},
   "outputs": [
    {
     "data": {
      "text/plain": [
       "'01'"
      ]
     },
     "execution_count": 5,
     "metadata": {},
     "output_type": "execute_result"
    }
   ],
   "source": [
    "fib(1)"
   ]
  },
  {
   "cell_type": "code",
   "execution_count": 6,
   "metadata": {},
   "outputs": [
    {
     "data": {
      "text/plain": [
       "'01001'"
      ]
     },
     "execution_count": 6,
     "metadata": {},
     "output_type": "execute_result"
    }
   ],
   "source": [
    "fib(3)"
   ]
  },
  {
   "cell_type": "code",
   "execution_count": 7,
   "metadata": {},
   "outputs": [
    {
     "name": "stdout",
     "output_type": "stream",
     "text": [
      "S0 = 0\n",
      "S1 = 01\n",
      "S2 = 010\n",
      "S3 = 01001\n",
      "S4 = 01001010\n",
      "S5 = 0100101001001\n",
      "S6 = 010010100100101001010\n",
      "S7 = 0100101001001010010100100101001001\n",
      "S8 = 0100101001001010010100100101001001010010100100101001010\n",
      "S9 = 01001010010010100101001001010010010100101001001010010100100101001001010010100100101001001\n"
     ]
    }
   ],
   "source": [
    "for x in range(10):\n",
    "  print(f\"S{x} = {fib(x)}\")"
   ]
  },
  {
   "cell_type": "markdown",
   "metadata": {},
   "source": [
    "# 2"
   ]
  },
  {
   "cell_type": "code",
   "execution_count": 9,
   "metadata": {},
   "outputs": [],
   "source": [
    "def seq_count(seq, idx = 0, prevElem = None, count = 0, highestCount = 0):\n",
    "  if idx == len(seq):\n",
    "    # take the highest of the current count and the global highest\n",
    "    return max(count, highestCount)\n",
    "  elif idx == 0:\n",
    "    # start the recursion\n",
    "    return seq_count(seq, 1, seq[0], 1, 1)\n",
    "  \n",
    "  if prevElem == seq[idx]:\n",
    "    # add a count\n",
    "    return seq_count(seq, idx + 1, seq[idx], count + 1, highestCount)\n",
    "  else:\n",
    "    # start a new count\n",
    "    highestCount = max(count, highestCount)\n",
    "    return seq_count(seq, idx + 1, seq[idx], 1, highestCount)"
   ]
  },
  {
   "cell_type": "code",
   "execution_count": 10,
   "metadata": {},
   "outputs": [
    {
     "data": {
      "text/plain": [
       "3"
      ]
     },
     "execution_count": 10,
     "metadata": {},
     "output_type": "execute_result"
    }
   ],
   "source": [
    "seq_count([1, 3, 1, 1, 3, 3, 4, 4, 4])"
   ]
  },
  {
   "cell_type": "code",
   "execution_count": 11,
   "metadata": {},
   "outputs": [
    {
     "data": {
      "text/plain": [
       "3"
      ]
     },
     "execution_count": 11,
     "metadata": {},
     "output_type": "execute_result"
    }
   ],
   "source": [
    "seq_count((1, 3, 1, 1, 1, '1', 1, [3, 3, 3, 3], 3, 4, 0))"
   ]
  },
  {
   "cell_type": "code",
   "execution_count": 12,
   "metadata": {},
   "outputs": [
    {
     "data": {
      "text/plain": [
       "4"
      ]
     },
     "execution_count": 12,
     "metadata": {},
     "output_type": "execute_result"
    }
   ],
   "source": [
    "seq_count([[1], [1], [1], 1, 3, 3, 2, 3, 3, 3, 3, 2, 4, 0])"
   ]
  },
  {
   "cell_type": "code",
   "execution_count": 13,
   "metadata": {},
   "outputs": [
    {
     "data": {
      "text/plain": [
       "3"
      ]
     },
     "execution_count": 13,
     "metadata": {},
     "output_type": "execute_result"
    }
   ],
   "source": [
    "seq_count(('G', 'g', 'a', \"a\", '''a''', 2, 's', 's'))"
   ]
  },
  {
   "cell_type": "code",
   "execution_count": 14,
   "metadata": {},
   "outputs": [
    {
     "data": {
      "text/plain": [
       "4"
      ]
     },
     "execution_count": 14,
     "metadata": {},
     "output_type": "execute_result"
    }
   ],
   "source": [
    "seq_count([3, 1, int(True), 1, 1, 2, 3, 3])"
   ]
  },
  {
   "cell_type": "code",
   "execution_count": 15,
   "metadata": {},
   "outputs": [
    {
     "data": {
      "text/plain": [
       "2"
      ]
     },
     "execution_count": 15,
     "metadata": {},
     "output_type": "execute_result"
    }
   ],
   "source": [
    "seq_count((1, 3, None, 3, 3, 1, 3, 3, 4, 0))"
   ]
  },
  {
   "cell_type": "code",
   "execution_count": 23,
   "metadata": {},
   "outputs": [],
   "source": [
    "# brute force\n",
    "def pattern_count(seq, pattern, idx = 0, maxCount = 0):\n",
    "  if idx == len(seq):\n",
    "    return maxCount\n",
    "  \n",
    "  # do calculation starting from this idx\n",
    "  i, j = idx, 0\n",
    "  count = 0\n",
    "  while i < len(seq) and seq[i] == pattern[j]:\n",
    "    i += 1\n",
    "    j = (j + 1) % len(pattern)\n",
    "    if j == 0:\n",
    "      # we have cycled through all elements in the pattern\n",
    "      count += 1\n",
    "\n",
    "  maxCount = max(count, maxCount)\n",
    "  return pattern_count(seq, pattern, idx + 1, maxCount)"
   ]
  },
  {
   "cell_type": "code",
   "execution_count": 24,
   "metadata": {},
   "outputs": [
    {
     "data": {
      "text/plain": [
       "3"
      ]
     },
     "execution_count": 24,
     "metadata": {},
     "output_type": "execute_result"
    }
   ],
   "source": [
    "pattern_count([0, 1, 2, 1, 2, 3, 1, 2, 1, 2, 1, 2, 4, 1, 2], (1, 2))"
   ]
  },
  {
   "cell_type": "code",
   "execution_count": 25,
   "metadata": {},
   "outputs": [
    {
     "data": {
      "text/plain": [
       "0"
      ]
     },
     "execution_count": 25,
     "metadata": {},
     "output_type": "execute_result"
    }
   ],
   "source": [
    "pattern_count([], [2])"
   ]
  },
  {
   "cell_type": "code",
   "execution_count": 26,
   "metadata": {},
   "outputs": [
    {
     "data": {
      "text/plain": [
       "1"
      ]
     },
     "execution_count": 26,
     "metadata": {},
     "output_type": "execute_result"
    }
   ],
   "source": [
    "pattern_count(['ab', 'ab', 'a', 'a', 'b'], 'ab')"
   ]
  },
  {
   "cell_type": "code",
   "execution_count": 27,
   "metadata": {},
   "outputs": [
    {
     "data": {
      "text/plain": [
       "2"
      ]
     },
     "execution_count": 27,
     "metadata": {},
     "output_type": "execute_result"
    }
   ],
   "source": [
    "pattern_count('CGGACTACTAGACT', 'ACT')"
   ]
  },
  {
   "cell_type": "code",
   "execution_count": 28,
   "metadata": {},
   "outputs": [
    {
     "data": {
      "text/plain": [
       "1"
      ]
     },
     "execution_count": 28,
     "metadata": {},
     "output_type": "execute_result"
    }
   ],
   "source": [
    "pattern_count((1, (1, 1, 1, 1), 2, 1, 1, 1), [1, 1])"
   ]
  },
  {
   "cell_type": "code",
   "execution_count": 29,
   "metadata": {},
   "outputs": [
    {
     "data": {
      "text/plain": [
       "2"
      ]
     },
     "execution_count": 29,
     "metadata": {},
     "output_type": "execute_result"
    }
   ],
   "source": [
    "pattern_count(['ab', 'ab', 'a', 'a', 'b'], ('ab',))"
   ]
  },
  {
   "cell_type": "markdown",
   "metadata": {},
   "source": [
    "# 3"
   ]
  },
  {
   "cell_type": "code",
   "execution_count": 31,
   "metadata": {},
   "outputs": [],
   "source": [
    "from random import uniform\n",
    "from scipy.special import binom\n",
    "from numpy import sqrt, pi, exp, tan, cumsum\n",
    "from scipy.stats import probplot\n",
    "import pandas as pd\n",
    "import matplotlib.pyplot as plt"
   ]
  },
  {
   "cell_type": "code",
   "execution_count": null,
   "metadata": {},
   "outputs": [],
   "source": [
    "# ??"
   ]
  },
  {
   "cell_type": "markdown",
   "metadata": {},
   "source": [
    "# 4"
   ]
  },
  {
   "cell_type": "code",
   "execution_count": 2,
   "metadata": {},
   "outputs": [],
   "source": [
    "import pandas as pd"
   ]
  },
  {
   "cell_type": "code",
   "execution_count": 103,
   "metadata": {},
   "outputs": [],
   "source": [
    "county_age_dist = pd.read_csv(\"county_age_dist.csv\")\n",
    "fips_state = pd.read_csv(\"fips_state.csv\", delimiter=';')\n",
    "fips_county = pd.read_csv(\"fips_county.csv\")"
   ]
  },
  {
   "cell_type": "markdown",
   "metadata": {},
   "source": [
    "#### (a)"
   ]
  },
  {
   "cell_type": "code",
   "execution_count": 104,
   "metadata": {},
   "outputs": [
    {
     "data": {
      "text/html": [
       "<div>\n",
       "<style scoped>\n",
       "    .dataframe tbody tr th:only-of-type {\n",
       "        vertical-align: middle;\n",
       "    }\n",
       "\n",
       "    .dataframe tbody tr th {\n",
       "        vertical-align: top;\n",
       "    }\n",
       "\n",
       "    .dataframe thead th {\n",
       "        text-align: right;\n",
       "    }\n",
       "</style>\n",
       "<table border=\"1\" class=\"dataframe\">\n",
       "  <thead>\n",
       "    <tr style=\"text-align: right;\">\n",
       "      <th></th>\n",
       "      <th>fips</th>\n",
       "      <th>0-17</th>\n",
       "      <th>18-24</th>\n",
       "      <th>25-34</th>\n",
       "      <th>35-44</th>\n",
       "      <th>45-54</th>\n",
       "      <th>55-64</th>\n",
       "      <th>65-74</th>\n",
       "      <th>75-84</th>\n",
       "      <th>85+</th>\n",
       "    </tr>\n",
       "  </thead>\n",
       "  <tbody>\n",
       "    <tr>\n",
       "      <th>0</th>\n",
       "      <td>1001</td>\n",
       "      <td>25941</td>\n",
       "      <td>11422</td>\n",
       "      <td>12315</td>\n",
       "      <td>13828</td>\n",
       "      <td>14000</td>\n",
       "      <td>12697</td>\n",
       "      <td>9594</td>\n",
       "      <td>5430</td>\n",
       "      <td>1945</td>\n",
       "    </tr>\n",
       "    <tr>\n",
       "      <th>1</th>\n",
       "      <td>1003</td>\n",
       "      <td>86587</td>\n",
       "      <td>37568</td>\n",
       "      <td>44133</td>\n",
       "      <td>46730</td>\n",
       "      <td>49675</td>\n",
       "      <td>52405</td>\n",
       "      <td>43252</td>\n",
       "      <td>23262</td>\n",
       "      <td>8854</td>\n",
       "    </tr>\n",
       "    <tr>\n",
       "      <th>2</th>\n",
       "      <td>1005</td>\n",
       "      <td>11057</td>\n",
       "      <td>6162</td>\n",
       "      <td>6603</td>\n",
       "      <td>5907</td>\n",
       "      <td>6490</td>\n",
       "      <td>6377</td>\n",
       "      <td>5255</td>\n",
       "      <td>2795</td>\n",
       "      <td>1074</td>\n",
       "    </tr>\n",
       "    <tr>\n",
       "      <th>3</th>\n",
       "      <td>1007</td>\n",
       "      <td>9671</td>\n",
       "      <td>5241</td>\n",
       "      <td>5788</td>\n",
       "      <td>5472</td>\n",
       "      <td>6707</td>\n",
       "      <td>5563</td>\n",
       "      <td>4270</td>\n",
       "      <td>2555</td>\n",
       "      <td>638</td>\n",
       "    </tr>\n",
       "    <tr>\n",
       "      <th>4</th>\n",
       "      <td>1009</td>\n",
       "      <td>25671</td>\n",
       "      <td>11360</td>\n",
       "      <td>12635</td>\n",
       "      <td>13570</td>\n",
       "      <td>14737</td>\n",
       "      <td>14123</td>\n",
       "      <td>12106</td>\n",
       "      <td>6560</td>\n",
       "      <td>2022</td>\n",
       "    </tr>\n",
       "  </tbody>\n",
       "</table>\n",
       "</div>"
      ],
      "text/plain": [
       "   fips   0-17  18-24  25-34  35-44  45-54  55-64  65-74  75-84   85+\n",
       "0  1001  25941  11422  12315  13828  14000  12697   9594   5430  1945\n",
       "1  1003  86587  37568  44133  46730  49675  52405  43252  23262  8854\n",
       "2  1005  11057   6162   6603   5907   6490   6377   5255   2795  1074\n",
       "3  1007   9671   5241   5788   5472   6707   5563   4270   2555   638\n",
       "4  1009  25671  11360  12635  13570  14737  14123  12106   6560  2022"
      ]
     },
     "execution_count": 104,
     "metadata": {},
     "output_type": "execute_result"
    }
   ],
   "source": [
    "county_age_dist.head()"
   ]
  },
  {
   "cell_type": "code",
   "execution_count": 105,
   "metadata": {},
   "outputs": [
    {
     "data": {
      "text/html": [
       "<div>\n",
       "<style scoped>\n",
       "    .dataframe tbody tr th:only-of-type {\n",
       "        vertical-align: middle;\n",
       "    }\n",
       "\n",
       "    .dataframe tbody tr th {\n",
       "        vertical-align: top;\n",
       "    }\n",
       "\n",
       "    .dataframe thead th {\n",
       "        text-align: right;\n",
       "    }\n",
       "</style>\n",
       "<table border=\"1\" class=\"dataframe\">\n",
       "  <thead>\n",
       "    <tr style=\"text-align: right;\">\n",
       "      <th></th>\n",
       "      <th>fips</th>\n",
       "      <th>name</th>\n",
       "      <th>info</th>\n",
       "    </tr>\n",
       "  </thead>\n",
       "  <tbody>\n",
       "    <tr>\n",
       "      <th>0</th>\n",
       "      <td>01000</td>\n",
       "      <td>Alabama</td>\n",
       "      <td>NaN</td>\n",
       "    </tr>\n",
       "    <tr>\n",
       "      <th>1</th>\n",
       "      <td>01001</td>\n",
       "      <td>Autauga County</td>\n",
       "      <td>NaN</td>\n",
       "    </tr>\n",
       "    <tr>\n",
       "      <th>2</th>\n",
       "      <td>01003</td>\n",
       "      <td>Baldwin County</td>\n",
       "      <td>NaN</td>\n",
       "    </tr>\n",
       "    <tr>\n",
       "      <th>3</th>\n",
       "      <td>01005</td>\n",
       "      <td>Barbour County</td>\n",
       "      <td>NaN</td>\n",
       "    </tr>\n",
       "    <tr>\n",
       "      <th>4</th>\n",
       "      <td>01007</td>\n",
       "      <td>Bibb County</td>\n",
       "      <td>NaN</td>\n",
       "    </tr>\n",
       "  </tbody>\n",
       "</table>\n",
       "</div>"
      ],
      "text/plain": [
       "    fips             name  info\n",
       "0  01000          Alabama   NaN\n",
       "1  01001   Autauga County   NaN\n",
       "2  01003   Baldwin County   NaN\n",
       "3  01005   Barbour County   NaN\n",
       "4  01007      Bibb County   NaN"
      ]
     },
     "execution_count": 105,
     "metadata": {},
     "output_type": "execute_result"
    }
   ],
   "source": [
    "fips_county.head()"
   ]
  },
  {
   "cell_type": "code",
   "execution_count": 106,
   "metadata": {},
   "outputs": [],
   "source": [
    "fips_county['fips'] = pd.to_numeric(fips_county['fips'], errors='coerce')"
   ]
  },
  {
   "cell_type": "code",
   "execution_count": 107,
   "metadata": {},
   "outputs": [],
   "source": [
    "fips_county = fips_county.dropna(subset=['fips'])"
   ]
  },
  {
   "cell_type": "code",
   "execution_count": 108,
   "metadata": {},
   "outputs": [],
   "source": [
    "fips_county['fips'] = fips_county['fips'].astype('int64')"
   ]
  },
  {
   "cell_type": "code",
   "execution_count": 109,
   "metadata": {},
   "outputs": [
    {
     "data": {
      "text/html": [
       "<div>\n",
       "<style scoped>\n",
       "    .dataframe tbody tr th:only-of-type {\n",
       "        vertical-align: middle;\n",
       "    }\n",
       "\n",
       "    .dataframe tbody tr th {\n",
       "        vertical-align: top;\n",
       "    }\n",
       "\n",
       "    .dataframe thead th {\n",
       "        text-align: right;\n",
       "    }\n",
       "</style>\n",
       "<table border=\"1\" class=\"dataframe\">\n",
       "  <thead>\n",
       "    <tr style=\"text-align: right;\">\n",
       "      <th></th>\n",
       "      <th>fips</th>\n",
       "      <th>name</th>\n",
       "      <th>info</th>\n",
       "    </tr>\n",
       "  </thead>\n",
       "  <tbody>\n",
       "    <tr>\n",
       "      <th>0</th>\n",
       "      <td>1000</td>\n",
       "      <td>Alabama</td>\n",
       "      <td>NaN</td>\n",
       "    </tr>\n",
       "    <tr>\n",
       "      <th>1</th>\n",
       "      <td>1001</td>\n",
       "      <td>Autauga County</td>\n",
       "      <td>NaN</td>\n",
       "    </tr>\n",
       "    <tr>\n",
       "      <th>2</th>\n",
       "      <td>1003</td>\n",
       "      <td>Baldwin County</td>\n",
       "      <td>NaN</td>\n",
       "    </tr>\n",
       "    <tr>\n",
       "      <th>3</th>\n",
       "      <td>1005</td>\n",
       "      <td>Barbour County</td>\n",
       "      <td>NaN</td>\n",
       "    </tr>\n",
       "    <tr>\n",
       "      <th>4</th>\n",
       "      <td>1007</td>\n",
       "      <td>Bibb County</td>\n",
       "      <td>NaN</td>\n",
       "    </tr>\n",
       "  </tbody>\n",
       "</table>\n",
       "</div>"
      ],
      "text/plain": [
       "   fips             name  info\n",
       "0  1000          Alabama   NaN\n",
       "1  1001   Autauga County   NaN\n",
       "2  1003   Baldwin County   NaN\n",
       "3  1005   Barbour County   NaN\n",
       "4  1007      Bibb County   NaN"
      ]
     },
     "execution_count": 109,
     "metadata": {},
     "output_type": "execute_result"
    }
   ],
   "source": [
    "fips_county.head()"
   ]
  },
  {
   "cell_type": "code",
   "execution_count": 110,
   "metadata": {},
   "outputs": [],
   "source": [
    "data = pd.merge(county_age_dist, fips_county, on=\"fips\")"
   ]
  },
  {
   "cell_type": "code",
   "execution_count": 111,
   "metadata": {},
   "outputs": [
    {
     "data": {
      "text/html": [
       "<div>\n",
       "<style scoped>\n",
       "    .dataframe tbody tr th:only-of-type {\n",
       "        vertical-align: middle;\n",
       "    }\n",
       "\n",
       "    .dataframe tbody tr th {\n",
       "        vertical-align: top;\n",
       "    }\n",
       "\n",
       "    .dataframe thead th {\n",
       "        text-align: right;\n",
       "    }\n",
       "</style>\n",
       "<table border=\"1\" class=\"dataframe\">\n",
       "  <thead>\n",
       "    <tr style=\"text-align: right;\">\n",
       "      <th></th>\n",
       "      <th>fips</th>\n",
       "      <th>0-17</th>\n",
       "      <th>18-24</th>\n",
       "      <th>25-34</th>\n",
       "      <th>35-44</th>\n",
       "      <th>45-54</th>\n",
       "      <th>55-64</th>\n",
       "      <th>65-74</th>\n",
       "      <th>75-84</th>\n",
       "      <th>85+</th>\n",
       "      <th>name</th>\n",
       "      <th>info</th>\n",
       "    </tr>\n",
       "  </thead>\n",
       "  <tbody>\n",
       "    <tr>\n",
       "      <th>0</th>\n",
       "      <td>1001</td>\n",
       "      <td>25941</td>\n",
       "      <td>11422</td>\n",
       "      <td>12315</td>\n",
       "      <td>13828</td>\n",
       "      <td>14000</td>\n",
       "      <td>12697</td>\n",
       "      <td>9594</td>\n",
       "      <td>5430</td>\n",
       "      <td>1945</td>\n",
       "      <td>Autauga County</td>\n",
       "      <td>NaN</td>\n",
       "    </tr>\n",
       "    <tr>\n",
       "      <th>1</th>\n",
       "      <td>1003</td>\n",
       "      <td>86587</td>\n",
       "      <td>37568</td>\n",
       "      <td>44133</td>\n",
       "      <td>46730</td>\n",
       "      <td>49675</td>\n",
       "      <td>52405</td>\n",
       "      <td>43252</td>\n",
       "      <td>23262</td>\n",
       "      <td>8854</td>\n",
       "      <td>Baldwin County</td>\n",
       "      <td>NaN</td>\n",
       "    </tr>\n",
       "    <tr>\n",
       "      <th>2</th>\n",
       "      <td>1005</td>\n",
       "      <td>11057</td>\n",
       "      <td>6162</td>\n",
       "      <td>6603</td>\n",
       "      <td>5907</td>\n",
       "      <td>6490</td>\n",
       "      <td>6377</td>\n",
       "      <td>5255</td>\n",
       "      <td>2795</td>\n",
       "      <td>1074</td>\n",
       "      <td>Barbour County</td>\n",
       "      <td>NaN</td>\n",
       "    </tr>\n",
       "    <tr>\n",
       "      <th>3</th>\n",
       "      <td>1007</td>\n",
       "      <td>9671</td>\n",
       "      <td>5241</td>\n",
       "      <td>5788</td>\n",
       "      <td>5472</td>\n",
       "      <td>6707</td>\n",
       "      <td>5563</td>\n",
       "      <td>4270</td>\n",
       "      <td>2555</td>\n",
       "      <td>638</td>\n",
       "      <td>Bibb County</td>\n",
       "      <td>NaN</td>\n",
       "    </tr>\n",
       "    <tr>\n",
       "      <th>4</th>\n",
       "      <td>1009</td>\n",
       "      <td>25671</td>\n",
       "      <td>11360</td>\n",
       "      <td>12635</td>\n",
       "      <td>13570</td>\n",
       "      <td>14737</td>\n",
       "      <td>14123</td>\n",
       "      <td>12106</td>\n",
       "      <td>6560</td>\n",
       "      <td>2022</td>\n",
       "      <td>Blount County</td>\n",
       "      <td>NaN</td>\n",
       "    </tr>\n",
       "  </tbody>\n",
       "</table>\n",
       "</div>"
      ],
      "text/plain": [
       "   fips   0-17  18-24  25-34  35-44  45-54  55-64  65-74  75-84   85+  \\\n",
       "0  1001  25941  11422  12315  13828  14000  12697   9594   5430  1945   \n",
       "1  1003  86587  37568  44133  46730  49675  52405  43252  23262  8854   \n",
       "2  1005  11057   6162   6603   5907   6490   6377   5255   2795  1074   \n",
       "3  1007   9671   5241   5788   5472   6707   5563   4270   2555   638   \n",
       "4  1009  25671  11360  12635  13570  14737  14123  12106   6560  2022   \n",
       "\n",
       "              name  info  \n",
       "0   Autauga County   NaN  \n",
       "1   Baldwin County   NaN  \n",
       "2   Barbour County   NaN  \n",
       "3      Bibb County   NaN  \n",
       "4    Blount County   NaN  "
      ]
     },
     "execution_count": 111,
     "metadata": {},
     "output_type": "execute_result"
    }
   ],
   "source": [
    "data.head()"
   ]
  },
  {
   "cell_type": "code",
   "execution_count": 112,
   "metadata": {},
   "outputs": [
    {
     "data": {
      "text/html": [
       "<div>\n",
       "<style scoped>\n",
       "    .dataframe tbody tr th:only-of-type {\n",
       "        vertical-align: middle;\n",
       "    }\n",
       "\n",
       "    .dataframe tbody tr th {\n",
       "        vertical-align: top;\n",
       "    }\n",
       "\n",
       "    .dataframe thead th {\n",
       "        text-align: right;\n",
       "    }\n",
       "</style>\n",
       "<table border=\"1\" class=\"dataframe\">\n",
       "  <thead>\n",
       "    <tr style=\"text-align: right;\">\n",
       "      <th></th>\n",
       "      <th>FIPS</th>\n",
       "      <th>STATE</th>\n",
       "    </tr>\n",
       "  </thead>\n",
       "  <tbody>\n",
       "    <tr>\n",
       "      <th>0</th>\n",
       "      <td>1</td>\n",
       "      <td>ALABAMA</td>\n",
       "    </tr>\n",
       "    <tr>\n",
       "      <th>1</th>\n",
       "      <td>2</td>\n",
       "      <td>ALASKA</td>\n",
       "    </tr>\n",
       "    <tr>\n",
       "      <th>2</th>\n",
       "      <td>4</td>\n",
       "      <td>ARIZONA</td>\n",
       "    </tr>\n",
       "    <tr>\n",
       "      <th>3</th>\n",
       "      <td>5</td>\n",
       "      <td>ARKANSAS</td>\n",
       "    </tr>\n",
       "    <tr>\n",
       "      <th>4</th>\n",
       "      <td>6</td>\n",
       "      <td>CALIFORNIA</td>\n",
       "    </tr>\n",
       "  </tbody>\n",
       "</table>\n",
       "</div>"
      ],
      "text/plain": [
       "   FIPS        STATE\n",
       "0     1      ALABAMA\n",
       "1     2       ALASKA\n",
       "2     4      ARIZONA\n",
       "3     5     ARKANSAS\n",
       "4     6   CALIFORNIA"
      ]
     },
     "execution_count": 112,
     "metadata": {},
     "output_type": "execute_result"
    }
   ],
   "source": [
    "fips_state.head()"
   ]
  },
  {
   "cell_type": "code",
   "execution_count": 113,
   "metadata": {},
   "outputs": [],
   "source": [
    "data['state_fips'] = data['fips'] // 1000"
   ]
  },
  {
   "cell_type": "code",
   "execution_count": 114,
   "metadata": {},
   "outputs": [
    {
     "data": {
      "text/html": [
       "<div>\n",
       "<style scoped>\n",
       "    .dataframe tbody tr th:only-of-type {\n",
       "        vertical-align: middle;\n",
       "    }\n",
       "\n",
       "    .dataframe tbody tr th {\n",
       "        vertical-align: top;\n",
       "    }\n",
       "\n",
       "    .dataframe thead th {\n",
       "        text-align: right;\n",
       "    }\n",
       "</style>\n",
       "<table border=\"1\" class=\"dataframe\">\n",
       "  <thead>\n",
       "    <tr style=\"text-align: right;\">\n",
       "      <th></th>\n",
       "      <th>fips</th>\n",
       "      <th>0-17</th>\n",
       "      <th>18-24</th>\n",
       "      <th>25-34</th>\n",
       "      <th>35-44</th>\n",
       "      <th>45-54</th>\n",
       "      <th>55-64</th>\n",
       "      <th>65-74</th>\n",
       "      <th>75-84</th>\n",
       "      <th>85+</th>\n",
       "      <th>name</th>\n",
       "      <th>info</th>\n",
       "      <th>state_fips</th>\n",
       "    </tr>\n",
       "  </thead>\n",
       "  <tbody>\n",
       "    <tr>\n",
       "      <th>0</th>\n",
       "      <td>1001</td>\n",
       "      <td>25941</td>\n",
       "      <td>11422</td>\n",
       "      <td>12315</td>\n",
       "      <td>13828</td>\n",
       "      <td>14000</td>\n",
       "      <td>12697</td>\n",
       "      <td>9594</td>\n",
       "      <td>5430</td>\n",
       "      <td>1945</td>\n",
       "      <td>Autauga County</td>\n",
       "      <td>NaN</td>\n",
       "      <td>1</td>\n",
       "    </tr>\n",
       "    <tr>\n",
       "      <th>1</th>\n",
       "      <td>1003</td>\n",
       "      <td>86587</td>\n",
       "      <td>37568</td>\n",
       "      <td>44133</td>\n",
       "      <td>46730</td>\n",
       "      <td>49675</td>\n",
       "      <td>52405</td>\n",
       "      <td>43252</td>\n",
       "      <td>23262</td>\n",
       "      <td>8854</td>\n",
       "      <td>Baldwin County</td>\n",
       "      <td>NaN</td>\n",
       "      <td>1</td>\n",
       "    </tr>\n",
       "    <tr>\n",
       "      <th>2</th>\n",
       "      <td>1005</td>\n",
       "      <td>11057</td>\n",
       "      <td>6162</td>\n",
       "      <td>6603</td>\n",
       "      <td>5907</td>\n",
       "      <td>6490</td>\n",
       "      <td>6377</td>\n",
       "      <td>5255</td>\n",
       "      <td>2795</td>\n",
       "      <td>1074</td>\n",
       "      <td>Barbour County</td>\n",
       "      <td>NaN</td>\n",
       "      <td>1</td>\n",
       "    </tr>\n",
       "    <tr>\n",
       "      <th>3</th>\n",
       "      <td>1007</td>\n",
       "      <td>9671</td>\n",
       "      <td>5241</td>\n",
       "      <td>5788</td>\n",
       "      <td>5472</td>\n",
       "      <td>6707</td>\n",
       "      <td>5563</td>\n",
       "      <td>4270</td>\n",
       "      <td>2555</td>\n",
       "      <td>638</td>\n",
       "      <td>Bibb County</td>\n",
       "      <td>NaN</td>\n",
       "      <td>1</td>\n",
       "    </tr>\n",
       "    <tr>\n",
       "      <th>4</th>\n",
       "      <td>1009</td>\n",
       "      <td>25671</td>\n",
       "      <td>11360</td>\n",
       "      <td>12635</td>\n",
       "      <td>13570</td>\n",
       "      <td>14737</td>\n",
       "      <td>14123</td>\n",
       "      <td>12106</td>\n",
       "      <td>6560</td>\n",
       "      <td>2022</td>\n",
       "      <td>Blount County</td>\n",
       "      <td>NaN</td>\n",
       "      <td>1</td>\n",
       "    </tr>\n",
       "  </tbody>\n",
       "</table>\n",
       "</div>"
      ],
      "text/plain": [
       "   fips   0-17  18-24  25-34  35-44  45-54  55-64  65-74  75-84   85+  \\\n",
       "0  1001  25941  11422  12315  13828  14000  12697   9594   5430  1945   \n",
       "1  1003  86587  37568  44133  46730  49675  52405  43252  23262  8854   \n",
       "2  1005  11057   6162   6603   5907   6490   6377   5255   2795  1074   \n",
       "3  1007   9671   5241   5788   5472   6707   5563   4270   2555   638   \n",
       "4  1009  25671  11360  12635  13570  14737  14123  12106   6560  2022   \n",
       "\n",
       "              name  info  state_fips  \n",
       "0   Autauga County   NaN           1  \n",
       "1   Baldwin County   NaN           1  \n",
       "2   Barbour County   NaN           1  \n",
       "3      Bibb County   NaN           1  \n",
       "4    Blount County   NaN           1  "
      ]
     },
     "execution_count": 114,
     "metadata": {},
     "output_type": "execute_result"
    }
   ],
   "source": [
    "data.head()"
   ]
  },
  {
   "cell_type": "code",
   "execution_count": 115,
   "metadata": {},
   "outputs": [],
   "source": [
    "data = pd.merge(data, fips_state, left_on=\"state_fips\", right_on=\"FIPS\", how=\"inner\")"
   ]
  },
  {
   "cell_type": "code",
   "execution_count": 116,
   "metadata": {},
   "outputs": [
    {
     "data": {
      "text/html": [
       "<div>\n",
       "<style scoped>\n",
       "    .dataframe tbody tr th:only-of-type {\n",
       "        vertical-align: middle;\n",
       "    }\n",
       "\n",
       "    .dataframe tbody tr th {\n",
       "        vertical-align: top;\n",
       "    }\n",
       "\n",
       "    .dataframe thead th {\n",
       "        text-align: right;\n",
       "    }\n",
       "</style>\n",
       "<table border=\"1\" class=\"dataframe\">\n",
       "  <thead>\n",
       "    <tr style=\"text-align: right;\">\n",
       "      <th></th>\n",
       "      <th>fips</th>\n",
       "      <th>0-17</th>\n",
       "      <th>18-24</th>\n",
       "      <th>25-34</th>\n",
       "      <th>35-44</th>\n",
       "      <th>45-54</th>\n",
       "      <th>55-64</th>\n",
       "      <th>65-74</th>\n",
       "      <th>75-84</th>\n",
       "      <th>85+</th>\n",
       "      <th>name</th>\n",
       "      <th>info</th>\n",
       "      <th>state_fips</th>\n",
       "      <th>FIPS</th>\n",
       "      <th>STATE</th>\n",
       "    </tr>\n",
       "  </thead>\n",
       "  <tbody>\n",
       "    <tr>\n",
       "      <th>0</th>\n",
       "      <td>1001</td>\n",
       "      <td>25941</td>\n",
       "      <td>11422</td>\n",
       "      <td>12315</td>\n",
       "      <td>13828</td>\n",
       "      <td>14000</td>\n",
       "      <td>12697</td>\n",
       "      <td>9594</td>\n",
       "      <td>5430</td>\n",
       "      <td>1945</td>\n",
       "      <td>Autauga County</td>\n",
       "      <td>NaN</td>\n",
       "      <td>1</td>\n",
       "      <td>1</td>\n",
       "      <td>ALABAMA</td>\n",
       "    </tr>\n",
       "    <tr>\n",
       "      <th>1</th>\n",
       "      <td>1003</td>\n",
       "      <td>86587</td>\n",
       "      <td>37568</td>\n",
       "      <td>44133</td>\n",
       "      <td>46730</td>\n",
       "      <td>49675</td>\n",
       "      <td>52405</td>\n",
       "      <td>43252</td>\n",
       "      <td>23262</td>\n",
       "      <td>8854</td>\n",
       "      <td>Baldwin County</td>\n",
       "      <td>NaN</td>\n",
       "      <td>1</td>\n",
       "      <td>1</td>\n",
       "      <td>ALABAMA</td>\n",
       "    </tr>\n",
       "    <tr>\n",
       "      <th>2</th>\n",
       "      <td>1005</td>\n",
       "      <td>11057</td>\n",
       "      <td>6162</td>\n",
       "      <td>6603</td>\n",
       "      <td>5907</td>\n",
       "      <td>6490</td>\n",
       "      <td>6377</td>\n",
       "      <td>5255</td>\n",
       "      <td>2795</td>\n",
       "      <td>1074</td>\n",
       "      <td>Barbour County</td>\n",
       "      <td>NaN</td>\n",
       "      <td>1</td>\n",
       "      <td>1</td>\n",
       "      <td>ALABAMA</td>\n",
       "    </tr>\n",
       "    <tr>\n",
       "      <th>3</th>\n",
       "      <td>1007</td>\n",
       "      <td>9671</td>\n",
       "      <td>5241</td>\n",
       "      <td>5788</td>\n",
       "      <td>5472</td>\n",
       "      <td>6707</td>\n",
       "      <td>5563</td>\n",
       "      <td>4270</td>\n",
       "      <td>2555</td>\n",
       "      <td>638</td>\n",
       "      <td>Bibb County</td>\n",
       "      <td>NaN</td>\n",
       "      <td>1</td>\n",
       "      <td>1</td>\n",
       "      <td>ALABAMA</td>\n",
       "    </tr>\n",
       "    <tr>\n",
       "      <th>4</th>\n",
       "      <td>1009</td>\n",
       "      <td>25671</td>\n",
       "      <td>11360</td>\n",
       "      <td>12635</td>\n",
       "      <td>13570</td>\n",
       "      <td>14737</td>\n",
       "      <td>14123</td>\n",
       "      <td>12106</td>\n",
       "      <td>6560</td>\n",
       "      <td>2022</td>\n",
       "      <td>Blount County</td>\n",
       "      <td>NaN</td>\n",
       "      <td>1</td>\n",
       "      <td>1</td>\n",
       "      <td>ALABAMA</td>\n",
       "    </tr>\n",
       "  </tbody>\n",
       "</table>\n",
       "</div>"
      ],
      "text/plain": [
       "   fips   0-17  18-24  25-34  35-44  45-54  55-64  65-74  75-84   85+  \\\n",
       "0  1001  25941  11422  12315  13828  14000  12697   9594   5430  1945   \n",
       "1  1003  86587  37568  44133  46730  49675  52405  43252  23262  8854   \n",
       "2  1005  11057   6162   6603   5907   6490   6377   5255   2795  1074   \n",
       "3  1007   9671   5241   5788   5472   6707   5563   4270   2555   638   \n",
       "4  1009  25671  11360  12635  13570  14737  14123  12106   6560  2022   \n",
       "\n",
       "              name  info  state_fips  FIPS     STATE  \n",
       "0   Autauga County   NaN           1     1   ALABAMA  \n",
       "1   Baldwin County   NaN           1     1   ALABAMA  \n",
       "2   Barbour County   NaN           1     1   ALABAMA  \n",
       "3      Bibb County   NaN           1     1   ALABAMA  \n",
       "4    Blount County   NaN           1     1   ALABAMA  "
      ]
     },
     "execution_count": 116,
     "metadata": {},
     "output_type": "execute_result"
    }
   ],
   "source": [
    "data.head()"
   ]
  },
  {
   "cell_type": "code",
   "execution_count": 117,
   "metadata": {},
   "outputs": [
    {
     "data": {
      "text/html": [
       "<div>\n",
       "<style scoped>\n",
       "    .dataframe tbody tr th:only-of-type {\n",
       "        vertical-align: middle;\n",
       "    }\n",
       "\n",
       "    .dataframe tbody tr th {\n",
       "        vertical-align: top;\n",
       "    }\n",
       "\n",
       "    .dataframe thead th {\n",
       "        text-align: right;\n",
       "    }\n",
       "</style>\n",
       "<table border=\"1\" class=\"dataframe\">\n",
       "  <thead>\n",
       "    <tr style=\"text-align: right;\">\n",
       "      <th></th>\n",
       "      <th>Fips</th>\n",
       "      <th>0-17</th>\n",
       "      <th>18-24</th>\n",
       "      <th>25-34</th>\n",
       "      <th>35-44</th>\n",
       "      <th>45-54</th>\n",
       "      <th>55-64</th>\n",
       "      <th>65-74</th>\n",
       "      <th>75-84</th>\n",
       "      <th>85+</th>\n",
       "      <th>Name</th>\n",
       "      <th>Info</th>\n",
       "      <th>State_fips</th>\n",
       "      <th>Fips</th>\n",
       "      <th>State</th>\n",
       "    </tr>\n",
       "  </thead>\n",
       "  <tbody>\n",
       "    <tr>\n",
       "      <th>0</th>\n",
       "      <td>1001</td>\n",
       "      <td>25941</td>\n",
       "      <td>11422</td>\n",
       "      <td>12315</td>\n",
       "      <td>13828</td>\n",
       "      <td>14000</td>\n",
       "      <td>12697</td>\n",
       "      <td>9594</td>\n",
       "      <td>5430</td>\n",
       "      <td>1945</td>\n",
       "      <td>Autauga County</td>\n",
       "      <td>NaN</td>\n",
       "      <td>1</td>\n",
       "      <td>1</td>\n",
       "      <td>ALABAMA</td>\n",
       "    </tr>\n",
       "    <tr>\n",
       "      <th>1</th>\n",
       "      <td>1003</td>\n",
       "      <td>86587</td>\n",
       "      <td>37568</td>\n",
       "      <td>44133</td>\n",
       "      <td>46730</td>\n",
       "      <td>49675</td>\n",
       "      <td>52405</td>\n",
       "      <td>43252</td>\n",
       "      <td>23262</td>\n",
       "      <td>8854</td>\n",
       "      <td>Baldwin County</td>\n",
       "      <td>NaN</td>\n",
       "      <td>1</td>\n",
       "      <td>1</td>\n",
       "      <td>ALABAMA</td>\n",
       "    </tr>\n",
       "    <tr>\n",
       "      <th>2</th>\n",
       "      <td>1005</td>\n",
       "      <td>11057</td>\n",
       "      <td>6162</td>\n",
       "      <td>6603</td>\n",
       "      <td>5907</td>\n",
       "      <td>6490</td>\n",
       "      <td>6377</td>\n",
       "      <td>5255</td>\n",
       "      <td>2795</td>\n",
       "      <td>1074</td>\n",
       "      <td>Barbour County</td>\n",
       "      <td>NaN</td>\n",
       "      <td>1</td>\n",
       "      <td>1</td>\n",
       "      <td>ALABAMA</td>\n",
       "    </tr>\n",
       "    <tr>\n",
       "      <th>3</th>\n",
       "      <td>1007</td>\n",
       "      <td>9671</td>\n",
       "      <td>5241</td>\n",
       "      <td>5788</td>\n",
       "      <td>5472</td>\n",
       "      <td>6707</td>\n",
       "      <td>5563</td>\n",
       "      <td>4270</td>\n",
       "      <td>2555</td>\n",
       "      <td>638</td>\n",
       "      <td>Bibb County</td>\n",
       "      <td>NaN</td>\n",
       "      <td>1</td>\n",
       "      <td>1</td>\n",
       "      <td>ALABAMA</td>\n",
       "    </tr>\n",
       "    <tr>\n",
       "      <th>4</th>\n",
       "      <td>1009</td>\n",
       "      <td>25671</td>\n",
       "      <td>11360</td>\n",
       "      <td>12635</td>\n",
       "      <td>13570</td>\n",
       "      <td>14737</td>\n",
       "      <td>14123</td>\n",
       "      <td>12106</td>\n",
       "      <td>6560</td>\n",
       "      <td>2022</td>\n",
       "      <td>Blount County</td>\n",
       "      <td>NaN</td>\n",
       "      <td>1</td>\n",
       "      <td>1</td>\n",
       "      <td>ALABAMA</td>\n",
       "    </tr>\n",
       "  </tbody>\n",
       "</table>\n",
       "</div>"
      ],
      "text/plain": [
       "   Fips   0-17  18-24  25-34  35-44  45-54  55-64  65-74  75-84   85+  \\\n",
       "0  1001  25941  11422  12315  13828  14000  12697   9594   5430  1945   \n",
       "1  1003  86587  37568  44133  46730  49675  52405  43252  23262  8854   \n",
       "2  1005  11057   6162   6603   5907   6490   6377   5255   2795  1074   \n",
       "3  1007   9671   5241   5788   5472   6707   5563   4270   2555   638   \n",
       "4  1009  25671  11360  12635  13570  14737  14123  12106   6560  2022   \n",
       "\n",
       "              Name Info  State_fips  Fips     State  \n",
       "0   Autauga County  NaN           1     1   ALABAMA  \n",
       "1   Baldwin County  NaN           1     1   ALABAMA  \n",
       "2   Barbour County  NaN           1     1   ALABAMA  \n",
       "3      Bibb County  NaN           1     1   ALABAMA  \n",
       "4    Blount County  NaN           1     1   ALABAMA  "
      ]
     },
     "execution_count": 117,
     "metadata": {},
     "output_type": "execute_result"
    }
   ],
   "source": [
    "data = data.rename(columns=lambda x: x.strip().capitalize())\n",
    "data.head()"
   ]
  },
  {
   "cell_type": "code",
   "execution_count": 118,
   "metadata": {},
   "outputs": [
    {
     "data": {
      "text/html": [
       "<div>\n",
       "<style scoped>\n",
       "    .dataframe tbody tr th:only-of-type {\n",
       "        vertical-align: middle;\n",
       "    }\n",
       "\n",
       "    .dataframe tbody tr th {\n",
       "        vertical-align: top;\n",
       "    }\n",
       "\n",
       "    .dataframe thead th {\n",
       "        text-align: right;\n",
       "    }\n",
       "</style>\n",
       "<table border=\"1\" class=\"dataframe\">\n",
       "  <thead>\n",
       "    <tr style=\"text-align: right;\">\n",
       "      <th></th>\n",
       "      <th>Fips</th>\n",
       "      <th>0-17</th>\n",
       "      <th>18-24</th>\n",
       "      <th>25-34</th>\n",
       "      <th>35-44</th>\n",
       "      <th>45-54</th>\n",
       "      <th>55-64</th>\n",
       "      <th>65-74</th>\n",
       "      <th>75-84</th>\n",
       "      <th>85+</th>\n",
       "      <th>Name</th>\n",
       "      <th>State_fips</th>\n",
       "      <th>Fips</th>\n",
       "      <th>State</th>\n",
       "    </tr>\n",
       "  </thead>\n",
       "  <tbody>\n",
       "    <tr>\n",
       "      <th>0</th>\n",
       "      <td>1001</td>\n",
       "      <td>25941</td>\n",
       "      <td>11422</td>\n",
       "      <td>12315</td>\n",
       "      <td>13828</td>\n",
       "      <td>14000</td>\n",
       "      <td>12697</td>\n",
       "      <td>9594</td>\n",
       "      <td>5430</td>\n",
       "      <td>1945</td>\n",
       "      <td>Autauga County</td>\n",
       "      <td>1</td>\n",
       "      <td>1</td>\n",
       "      <td>ALABAMA</td>\n",
       "    </tr>\n",
       "    <tr>\n",
       "      <th>1</th>\n",
       "      <td>1003</td>\n",
       "      <td>86587</td>\n",
       "      <td>37568</td>\n",
       "      <td>44133</td>\n",
       "      <td>46730</td>\n",
       "      <td>49675</td>\n",
       "      <td>52405</td>\n",
       "      <td>43252</td>\n",
       "      <td>23262</td>\n",
       "      <td>8854</td>\n",
       "      <td>Baldwin County</td>\n",
       "      <td>1</td>\n",
       "      <td>1</td>\n",
       "      <td>ALABAMA</td>\n",
       "    </tr>\n",
       "    <tr>\n",
       "      <th>2</th>\n",
       "      <td>1005</td>\n",
       "      <td>11057</td>\n",
       "      <td>6162</td>\n",
       "      <td>6603</td>\n",
       "      <td>5907</td>\n",
       "      <td>6490</td>\n",
       "      <td>6377</td>\n",
       "      <td>5255</td>\n",
       "      <td>2795</td>\n",
       "      <td>1074</td>\n",
       "      <td>Barbour County</td>\n",
       "      <td>1</td>\n",
       "      <td>1</td>\n",
       "      <td>ALABAMA</td>\n",
       "    </tr>\n",
       "    <tr>\n",
       "      <th>3</th>\n",
       "      <td>1007</td>\n",
       "      <td>9671</td>\n",
       "      <td>5241</td>\n",
       "      <td>5788</td>\n",
       "      <td>5472</td>\n",
       "      <td>6707</td>\n",
       "      <td>5563</td>\n",
       "      <td>4270</td>\n",
       "      <td>2555</td>\n",
       "      <td>638</td>\n",
       "      <td>Bibb County</td>\n",
       "      <td>1</td>\n",
       "      <td>1</td>\n",
       "      <td>ALABAMA</td>\n",
       "    </tr>\n",
       "    <tr>\n",
       "      <th>4</th>\n",
       "      <td>1009</td>\n",
       "      <td>25671</td>\n",
       "      <td>11360</td>\n",
       "      <td>12635</td>\n",
       "      <td>13570</td>\n",
       "      <td>14737</td>\n",
       "      <td>14123</td>\n",
       "      <td>12106</td>\n",
       "      <td>6560</td>\n",
       "      <td>2022</td>\n",
       "      <td>Blount County</td>\n",
       "      <td>1</td>\n",
       "      <td>1</td>\n",
       "      <td>ALABAMA</td>\n",
       "    </tr>\n",
       "  </tbody>\n",
       "</table>\n",
       "</div>"
      ],
      "text/plain": [
       "   Fips   0-17  18-24  25-34  35-44  45-54  55-64  65-74  75-84   85+  \\\n",
       "0  1001  25941  11422  12315  13828  14000  12697   9594   5430  1945   \n",
       "1  1003  86587  37568  44133  46730  49675  52405  43252  23262  8854   \n",
       "2  1005  11057   6162   6603   5907   6490   6377   5255   2795  1074   \n",
       "3  1007   9671   5241   5788   5472   6707   5563   4270   2555   638   \n",
       "4  1009  25671  11360  12635  13570  14737  14123  12106   6560  2022   \n",
       "\n",
       "              Name  State_fips  Fips     State  \n",
       "0   Autauga County           1     1   ALABAMA  \n",
       "1   Baldwin County           1     1   ALABAMA  \n",
       "2   Barbour County           1     1   ALABAMA  \n",
       "3      Bibb County           1     1   ALABAMA  \n",
       "4    Blount County           1     1   ALABAMA  "
      ]
     },
     "execution_count": 118,
     "metadata": {},
     "output_type": "execute_result"
    }
   ],
   "source": [
    "data = data.drop(columns=['Info'])\n",
    "data.head()"
   ]
  },
  {
   "cell_type": "code",
   "execution_count": 119,
   "metadata": {},
   "outputs": [
    {
     "data": {
      "text/html": [
       "<div>\n",
       "<style scoped>\n",
       "    .dataframe tbody tr th:only-of-type {\n",
       "        vertical-align: middle;\n",
       "    }\n",
       "\n",
       "    .dataframe tbody tr th {\n",
       "        vertical-align: top;\n",
       "    }\n",
       "\n",
       "    .dataframe thead th {\n",
       "        text-align: right;\n",
       "    }\n",
       "</style>\n",
       "<table border=\"1\" class=\"dataframe\">\n",
       "  <thead>\n",
       "    <tr style=\"text-align: right;\">\n",
       "      <th></th>\n",
       "      <th>Fips</th>\n",
       "      <th>0-17</th>\n",
       "      <th>18-24</th>\n",
       "      <th>25-34</th>\n",
       "      <th>35-44</th>\n",
       "      <th>45-54</th>\n",
       "      <th>55-64</th>\n",
       "      <th>65-74</th>\n",
       "      <th>75-84</th>\n",
       "      <th>85+</th>\n",
       "      <th>Name</th>\n",
       "      <th>State_fips</th>\n",
       "      <th>Fips</th>\n",
       "      <th>State</th>\n",
       "    </tr>\n",
       "  </thead>\n",
       "  <tbody>\n",
       "    <tr>\n",
       "      <th>0</th>\n",
       "      <td>1001</td>\n",
       "      <td>25941</td>\n",
       "      <td>11422</td>\n",
       "      <td>12315</td>\n",
       "      <td>13828</td>\n",
       "      <td>14000</td>\n",
       "      <td>12697</td>\n",
       "      <td>9594</td>\n",
       "      <td>5430</td>\n",
       "      <td>1945</td>\n",
       "      <td>Autauga County</td>\n",
       "      <td>1</td>\n",
       "      <td>1</td>\n",
       "      <td>ALABAMA</td>\n",
       "    </tr>\n",
       "    <tr>\n",
       "      <th>1</th>\n",
       "      <td>1003</td>\n",
       "      <td>86587</td>\n",
       "      <td>37568</td>\n",
       "      <td>44133</td>\n",
       "      <td>46730</td>\n",
       "      <td>49675</td>\n",
       "      <td>52405</td>\n",
       "      <td>43252</td>\n",
       "      <td>23262</td>\n",
       "      <td>8854</td>\n",
       "      <td>Baldwin County</td>\n",
       "      <td>1</td>\n",
       "      <td>1</td>\n",
       "      <td>ALABAMA</td>\n",
       "    </tr>\n",
       "    <tr>\n",
       "      <th>2</th>\n",
       "      <td>1005</td>\n",
       "      <td>11057</td>\n",
       "      <td>6162</td>\n",
       "      <td>6603</td>\n",
       "      <td>5907</td>\n",
       "      <td>6490</td>\n",
       "      <td>6377</td>\n",
       "      <td>5255</td>\n",
       "      <td>2795</td>\n",
       "      <td>1074</td>\n",
       "      <td>Barbour County</td>\n",
       "      <td>1</td>\n",
       "      <td>1</td>\n",
       "      <td>ALABAMA</td>\n",
       "    </tr>\n",
       "    <tr>\n",
       "      <th>3</th>\n",
       "      <td>1007</td>\n",
       "      <td>9671</td>\n",
       "      <td>5241</td>\n",
       "      <td>5788</td>\n",
       "      <td>5472</td>\n",
       "      <td>6707</td>\n",
       "      <td>5563</td>\n",
       "      <td>4270</td>\n",
       "      <td>2555</td>\n",
       "      <td>638</td>\n",
       "      <td>Bibb County</td>\n",
       "      <td>1</td>\n",
       "      <td>1</td>\n",
       "      <td>ALABAMA</td>\n",
       "    </tr>\n",
       "  </tbody>\n",
       "</table>\n",
       "</div>"
      ],
      "text/plain": [
       "   Fips   0-17  18-24  25-34  35-44  45-54  55-64  65-74  75-84   85+  \\\n",
       "0  1001  25941  11422  12315  13828  14000  12697   9594   5430  1945   \n",
       "1  1003  86587  37568  44133  46730  49675  52405  43252  23262  8854   \n",
       "2  1005  11057   6162   6603   5907   6490   6377   5255   2795  1074   \n",
       "3  1007   9671   5241   5788   5472   6707   5563   4270   2555   638   \n",
       "\n",
       "             Name  State_fips  Fips    State  \n",
       "0  Autauga County           1     1  ALABAMA  \n",
       "1  Baldwin County           1     1  ALABAMA  \n",
       "2  Barbour County           1     1  ALABAMA  \n",
       "3     Bibb County           1     1  ALABAMA  "
      ]
     },
     "execution_count": 119,
     "metadata": {},
     "output_type": "execute_result"
    }
   ],
   "source": [
    "for col in data.columns:\n",
    "  data[col] = data[col].map(lambda x: x.strip() if isinstance(x, str) else x)\n",
    "data.head(4)"
   ]
  },
  {
   "cell_type": "markdown",
   "metadata": {},
   "source": [
    "#### (b)"
   ]
  },
  {
   "cell_type": "code",
   "execution_count": 120,
   "metadata": {},
   "outputs": [
    {
     "data": {
      "text/html": [
       "<div>\n",
       "<style scoped>\n",
       "    .dataframe tbody tr th:only-of-type {\n",
       "        vertical-align: middle;\n",
       "    }\n",
       "\n",
       "    .dataframe tbody tr th {\n",
       "        vertical-align: top;\n",
       "    }\n",
       "\n",
       "    .dataframe thead th {\n",
       "        text-align: right;\n",
       "    }\n",
       "</style>\n",
       "<table border=\"1\" class=\"dataframe\">\n",
       "  <thead>\n",
       "    <tr style=\"text-align: right;\">\n",
       "      <th></th>\n",
       "      <th>Fips</th>\n",
       "      <th>0-17</th>\n",
       "      <th>18-24</th>\n",
       "      <th>25-34</th>\n",
       "      <th>35-44</th>\n",
       "      <th>45-54</th>\n",
       "      <th>55-64</th>\n",
       "      <th>65-74</th>\n",
       "      <th>75-84</th>\n",
       "      <th>85+</th>\n",
       "      <th>Name</th>\n",
       "      <th>State_fips</th>\n",
       "      <th>Fips</th>\n",
       "      <th>State</th>\n",
       "      <th>CPY</th>\n",
       "      <th>CPE</th>\n",
       "    </tr>\n",
       "  </thead>\n",
       "  <tbody>\n",
       "    <tr>\n",
       "      <th>0</th>\n",
       "      <td>1001</td>\n",
       "      <td>25941</td>\n",
       "      <td>11422</td>\n",
       "      <td>12315</td>\n",
       "      <td>13828</td>\n",
       "      <td>14000</td>\n",
       "      <td>12697</td>\n",
       "      <td>9594</td>\n",
       "      <td>5430</td>\n",
       "      <td>1945</td>\n",
       "      <td>Autauga County</td>\n",
       "      <td>1</td>\n",
       "      <td>1</td>\n",
       "      <td>ALABAMA</td>\n",
       "      <td>0.348627</td>\n",
       "      <td>0.158334</td>\n",
       "    </tr>\n",
       "    <tr>\n",
       "      <th>1</th>\n",
       "      <td>1003</td>\n",
       "      <td>86587</td>\n",
       "      <td>37568</td>\n",
       "      <td>44133</td>\n",
       "      <td>46730</td>\n",
       "      <td>49675</td>\n",
       "      <td>52405</td>\n",
       "      <td>43252</td>\n",
       "      <td>23262</td>\n",
       "      <td>8854</td>\n",
       "      <td>Baldwin County</td>\n",
       "      <td>1</td>\n",
       "      <td>1</td>\n",
       "      <td>ALABAMA</td>\n",
       "      <td>0.316346</td>\n",
       "      <td>0.192037</td>\n",
       "    </tr>\n",
       "    <tr>\n",
       "      <th>2</th>\n",
       "      <td>1005</td>\n",
       "      <td>11057</td>\n",
       "      <td>6162</td>\n",
       "      <td>6603</td>\n",
       "      <td>5907</td>\n",
       "      <td>6490</td>\n",
       "      <td>6377</td>\n",
       "      <td>5255</td>\n",
       "      <td>2795</td>\n",
       "      <td>1074</td>\n",
       "      <td>Barbour County</td>\n",
       "      <td>1</td>\n",
       "      <td>1</td>\n",
       "      <td>ALABAMA</td>\n",
       "      <td>0.332927</td>\n",
       "      <td>0.176411</td>\n",
       "    </tr>\n",
       "    <tr>\n",
       "      <th>3</th>\n",
       "      <td>1007</td>\n",
       "      <td>9671</td>\n",
       "      <td>5241</td>\n",
       "      <td>5788</td>\n",
       "      <td>5472</td>\n",
       "      <td>6707</td>\n",
       "      <td>5563</td>\n",
       "      <td>4270</td>\n",
       "      <td>2555</td>\n",
       "      <td>638</td>\n",
       "      <td>Bibb County</td>\n",
       "      <td>1</td>\n",
       "      <td>1</td>\n",
       "      <td>ALABAMA</td>\n",
       "      <td>0.324845</td>\n",
       "      <td>0.162575</td>\n",
       "    </tr>\n",
       "  </tbody>\n",
       "</table>\n",
       "</div>"
      ],
      "text/plain": [
       "   Fips   0-17  18-24  25-34  35-44  45-54  55-64  65-74  75-84   85+  \\\n",
       "0  1001  25941  11422  12315  13828  14000  12697   9594   5430  1945   \n",
       "1  1003  86587  37568  44133  46730  49675  52405  43252  23262  8854   \n",
       "2  1005  11057   6162   6603   5907   6490   6377   5255   2795  1074   \n",
       "3  1007   9671   5241   5788   5472   6707   5563   4270   2555   638   \n",
       "\n",
       "             Name  State_fips  Fips    State       CPY       CPE  \n",
       "0  Autauga County           1     1  ALABAMA  0.348627  0.158334  \n",
       "1  Baldwin County           1     1  ALABAMA  0.316346  0.192037  \n",
       "2  Barbour County           1     1  ALABAMA  0.332927  0.176411  \n",
       "3     Bibb County           1     1  ALABAMA  0.324845  0.162575  "
      ]
     },
     "execution_count": 120,
     "metadata": {},
     "output_type": "execute_result"
    }
   ],
   "source": [
    "def calculate_proportions(row):\n",
    "    total_pop = sum([row[f\"{age_group}\"] for age_group in [\"0-17\", \"18-24\", \"25-34\", \"35-44\", \"45-54\", \"55-64\", \"65-74\", \"75-84\", \"85+\"]])\n",
    "    cpe = sum([row[\"65-74\"], row[\"75-84\"], row[\"85+\"]]) / total_pop\n",
    "    cpy = sum([row[\"0-17\"], row[\"18-24\"]]) / total_pop\n",
    "    return pd.Series({\"CPY\": cpy, \"CPE\": cpe})\n",
    "\n",
    "proportions = data.apply(calculate_proportions, axis=1)\n",
    "data = pd.concat([data, proportions], axis=1)\n",
    "\n",
    "# View first 4 rows as per the test\n",
    "data.head(4)"
   ]
  }
 ],
 "metadata": {
  "kernelspec": {
   "display_name": "sta141b",
   "language": "python",
   "name": "python3"
  },
  "language_info": {
   "codemirror_mode": {
    "name": "ipython",
    "version": 3
   },
   "file_extension": ".py",
   "mimetype": "text/x-python",
   "name": "python",
   "nbconvert_exporter": "python",
   "pygments_lexer": "ipython3",
   "version": "3.12.8"
  }
 },
 "nbformat": 4,
 "nbformat_minor": 2
}
